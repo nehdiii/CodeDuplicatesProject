{
 "cells": [
  {
   "cell_type": "code",
   "execution_count": 1,
   "metadata": {},
   "outputs": [
    {
     "ename": "ModuleNotFoundError",
     "evalue": "No module named 'pandas'",
     "output_type": "error",
     "traceback": [
      "\u001b[0;31m---------------------------------------------------------------------------\u001b[0m",
      "\u001b[0;31mModuleNotFoundError\u001b[0m                       Traceback (most recent call last)",
      "Cell \u001b[0;32mIn[1], line 1\u001b[0m\n\u001b[0;32m----> 1\u001b[0m \u001b[38;5;28;01mfrom\u001b[39;00m \u001b[38;5;21;01mDataLoader\u001b[39;00m \u001b[38;5;28;01mimport\u001b[39;00m getPreprocessedData\n",
      "File \u001b[0;32m~/Smart_IT/Collaborations/JetBrainsProject/DataLoader/__init__.py:1\u001b[0m\n\u001b[0;32m----> 1\u001b[0m \u001b[38;5;28;01mfrom\u001b[39;00m \u001b[38;5;21;01m.\u001b[39;00m\u001b[38;5;21;01mdataLoader\u001b[39;00m \u001b[38;5;28;01mimport\u001b[39;00m getPreprocessedData\n\u001b[1;32m      2\u001b[0m \u001b[38;5;28;01mfrom\u001b[39;00m \u001b[38;5;21;01m.\u001b[39;00m\u001b[38;5;21;01mdataLoaderGPU\u001b[39;00m \u001b[38;5;28;01mimport\u001b[39;00m getPreprocessedDataOnGPU\n",
      "File \u001b[0;32m~/Smart_IT/Collaborations/JetBrainsProject/DataLoader/dataLoader.py:2\u001b[0m\n\u001b[0;32m----> 2\u001b[0m \u001b[38;5;28;01mimport\u001b[39;00m \u001b[38;5;21;01mpandas\u001b[39;00m \u001b[38;5;28;01mas\u001b[39;00m \u001b[38;5;21;01mpd\u001b[39;00m\n\u001b[1;32m      4\u001b[0m \u001b[38;5;28;01mdef\u001b[39;00m \u001b[38;5;21mgetPreprocessedData\u001b[39m():\n\u001b[1;32m      5\u001b[0m     \n\u001b[1;32m      6\u001b[0m     \u001b[38;5;66;03m#Concatenate positive and negative samples\u001b[39;00m\n\u001b[1;32m      7\u001b[0m     trainFull \u001b[38;5;241m=\u001b[39m pd\u001b[38;5;241m.\u001b[39mread_csv(\u001b[38;5;124m\"\u001b[39m\u001b[38;5;124mData/trainFull.csv\u001b[39m\u001b[38;5;124m\"\u001b[39m, index_col \u001b[38;5;241m=\u001b[39m \u001b[38;5;241m0\u001b[39m)\n",
      "\u001b[0;31mModuleNotFoundError\u001b[0m: No module named 'pandas'"
     ]
    }
   ],
   "source": [
    "from DataLoader import getPreprocessedData"
   ]
  },
  {
   "cell_type": "code",
   "execution_count": 2,
   "metadata": {},
   "outputs": [],
   "source": [
    "trainX, trainY, testX, testY = getPreprocessedData()"
   ]
  },
  {
   "cell_type": "code",
   "execution_count": 3,
   "metadata": {},
   "outputs": [],
   "source": [
    "from sklearn.model_selection import GridSearchCV,RandomizedSearchCV\n",
    "from sklearn.tree import DecisionTreeClassifier\n",
    "from sklearn.metrics import f1_score,matthews_corrcoef\n",
    "from sklearn.tree import plot_tree\n",
    "import matplotlib.pyplot as plt\n",
    "import pandas as pd \n",
    "from sklearn.metrics import f1_score,make_scorer\n",
    "from imblearn.metrics import geometric_mean_score"
   ]
  },
  {
   "cell_type": "code",
   "execution_count": 4,
   "metadata": {},
   "outputs": [],
   "source": [
    "random_seed = 42"
   ]
  },
  {
   "cell_type": "markdown",
   "metadata": {},
   "source": [
    "# before hyperparam tuning "
   ]
  },
  {
   "cell_type": "code",
   "execution_count": 5,
   "metadata": {},
   "outputs": [
    {
     "name": "stdout",
     "output_type": "stream",
     "text": [
      "Test Gmean : 77.46694657527955\n",
      "Test f1 :  77.4432118330692\n",
      "Test MMC :  54.93415932046256\n"
     ]
    }
   ],
   "source": [
    "dt = DecisionTreeClassifier(criterion='entropy',\n",
    "                            random_state=random_seed)\n",
    "dt.fit(trainX[:,:,0],trainY[:,0])\n",
    "y_pred = dt.predict(testX[:,:,0])\n",
    "print(\"Test Gmean :\",geometric_mean_score(testY[:,0],y_pred) * 100)\n",
    "print(\"Test f1 : \",f1_score(testY[:,0],y_pred) * 100 )\n",
    "print(\"Test MMC : \",matthews_corrcoef(testY[:,0],y_pred) * 100 )"
   ]
  },
  {
   "cell_type": "code",
   "execution_count": 6,
   "metadata": {},
   "outputs": [
    {
     "name": "stdout",
     "output_type": "stream",
     "text": [
      "Test Gmean : 77.46694657527955\n",
      "Test f1 :  77.4432118330692\n",
      "Test MMC :  54.93415932046256\n"
     ]
    }
   ],
   "source": [
    "# criterion log loss + splitter random + best depth 52 79.60\n",
    "dt = DecisionTreeClassifier(criterion='log_loss'\n",
    "                            ,random_state=random_seed)\n",
    "dt.fit(trainX[:,:,0],trainY[:,0])\n",
    "y_pred = dt.predict(testX[:,:,0])\n",
    "print(\"Test Gmean :\",geometric_mean_score(testY[:,0],y_pred) * 100)\n",
    "print(\"Test f1 : \",f1_score(testY[:,0],y_pred) * 100 )\n",
    "print(\"Test MMC : \",matthews_corrcoef(testY[:,0],y_pred) * 100 )"
   ]
  },
  {
   "cell_type": "code",
   "execution_count": 7,
   "metadata": {},
   "outputs": [
    {
     "name": "stdout",
     "output_type": "stream",
     "text": [
      "Test Gmean : 77.8761492410653\n",
      "Test f1 :  78.19979188345472\n",
      "Test MMC :  55.801024614628545\n"
     ]
    }
   ],
   "source": [
    "dt = DecisionTreeClassifier(criterion='gini'\n",
    "                            ,random_state=random_seed)\n",
    "dt.fit(trainX[:,:,0],trainY[:,0])\n",
    "y_pred = dt.predict(testX[:,:,0])\n",
    "print(\"Test Gmean :\",geometric_mean_score(testY[:,0],y_pred) * 100)\n",
    "print(\"Test f1 : \",f1_score(testY[:,0],y_pred) * 100 )\n",
    "print(\"Test MMC : \",matthews_corrcoef(testY[:,0],y_pred) * 100 )"
   ]
  },
  {
   "cell_type": "markdown",
   "metadata": {},
   "source": [
    "# after hyperparam tuning "
   ]
  },
  {
   "cell_type": "code",
   "execution_count": 8,
   "metadata": {},
   "outputs": [
    {
     "name": "stdout",
     "output_type": "stream",
     "text": [
      "Test Gmean : 79.38647091318931\n",
      "Test f1 :  79.60302951162184\n",
      "Test MMC :  58.79873327883816\n"
     ]
    }
   ],
   "source": [
    "# criterion entropy + splitter random + best depth 52 \n",
    "dt = DecisionTreeClassifier(criterion='entropy',\n",
    "                            splitter= 'random',\n",
    "                            max_depth=52,\n",
    "                            random_state=random_seed)\n",
    "dt.fit(trainX[:,:,0],trainY[:,0])\n",
    "y_pred = dt.predict(testX[:,:,0])\n",
    "print(\"Test Gmean :\",geometric_mean_score(testY[:,0],y_pred) * 100)\n",
    "print(\"Test f1 : \",f1_score(testY[:,0],y_pred) * 100 )\n",
    "print(\"Test MMC : \",matthews_corrcoef(testY[:,0],y_pred) * 100 )"
   ]
  },
  {
   "cell_type": "code",
   "execution_count": 9,
   "metadata": {},
   "outputs": [
    {
     "name": "stdout",
     "output_type": "stream",
     "text": [
      "Test Gmean : 79.38647091318931\n",
      "Test f1 :  79.60302951162184\n",
      "Test MMC :  58.79873327883816\n"
     ]
    }
   ],
   "source": [
    "# criterion log loss + splitter random + best depth 52 79.60\n",
    "dt = DecisionTreeClassifier(criterion='log_loss',\n",
    "                            splitter=\"random\",\n",
    "                            max_depth=52\n",
    "                            ,random_state=random_seed)\n",
    "dt.fit(trainX[:,:,0],trainY[:,0])\n",
    "y_pred = dt.predict(testX[:,:,0])\n",
    "print(\"Test Gmean :\",geometric_mean_score(testY[:,0],y_pred) * 100)\n",
    "print(\"Test f1 : \",f1_score(testY[:,0],y_pred) * 100 )\n",
    "print(\"Test MMC : \",matthews_corrcoef(testY[:,0],y_pred) * 100 )"
   ]
  },
  {
   "cell_type": "code",
   "execution_count": 10,
   "metadata": {},
   "outputs": [
    {
     "name": "stdout",
     "output_type": "stream",
     "text": [
      "Test Gmean : 79.39215334910892\n",
      "Test f1 :  79.47437582128778\n",
      "Test MMC :  58.788121432532826\n"
     ]
    }
   ],
   "source": [
    "# criterion gini + splitter random + best depth 37 79.47\n",
    "dt = DecisionTreeClassifier(criterion='gini',\n",
    "                            splitter=\"random\",\n",
    "                            max_depth=37\n",
    "                            ,random_state=random_seed)\n",
    "dt.fit(trainX[:,:,0],trainY[:,0])\n",
    "y_pred = dt.predict(testX[:,:,0])\n",
    "print(\"Test Gmean :\",geometric_mean_score(testY[:,0],y_pred) * 100)\n",
    "print(\"Test f1 : \",f1_score(testY[:,0],y_pred) * 100 )\n",
    "print(\"Test MMC : \",matthews_corrcoef(testY[:,0],y_pred) * 100 )"
   ]
  }
 ],
 "metadata": {
  "kernelspec": {
   "display_name": "DS-CVlabs",
   "language": "python",
   "name": "python3"
  },
  "language_info": {
   "codemirror_mode": {
    "name": "ipython",
    "version": 3
   },
   "file_extension": ".py",
   "mimetype": "text/x-python",
   "name": "python",
   "nbconvert_exporter": "python",
   "pygments_lexer": "ipython3",
   "version": "3.9.19"
  }
 },
 "nbformat": 4,
 "nbformat_minor": 2
}
