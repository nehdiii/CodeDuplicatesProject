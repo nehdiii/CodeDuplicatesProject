{
 "cells": [
  {
   "cell_type": "code",
   "execution_count": 1,
   "metadata": {},
   "outputs": [],
   "source": [
    "from DataLoader import getPreprocessedData"
   ]
  },
  {
   "cell_type": "code",
   "execution_count": 2,
   "metadata": {},
   "outputs": [],
   "source": [
    "trainX, trainY, testX, testY = getPreprocessedData()"
   ]
  },
  {
   "cell_type": "code",
   "execution_count": 5,
   "metadata": {},
   "outputs": [],
   "source": [
    "from sklearn.model_selection import GridSearchCV,RandomizedSearchCV\n",
    "from sklearn.tree import DecisionTreeClassifier\n",
    "from sklearn.metrics import f1_score,matthews_corrcoef\n",
    "from sklearn.tree import plot_tree\n",
    "import matplotlib.pyplot as plt\n",
    "import pandas as pd \n",
    "from sklearn.metrics import f1_score,make_scorer\n",
    "from imblearn.metrics import geometric_mean_score"
   ]
  },
  {
   "cell_type": "code",
   "execution_count": 6,
   "metadata": {},
   "outputs": [],
   "source": [
    "random_seed = 42"
   ]
  },
  {
   "cell_type": "markdown",
   "metadata": {},
   "source": [
    "# before hyperparam tuning "
   ]
  },
  {
   "cell_type": "code",
   "execution_count": 7,
   "metadata": {},
   "outputs": [
    {
     "name": "stdout",
     "output_type": "stream",
     "text": [
      "Test Gmean : 77.46694657527955\n",
      "Test f1 :  77.4432118330692\n",
      "Test MMC :  54.93415932046256\n"
     ]
    }
   ],
   "source": [
    "dt = DecisionTreeClassifier(criterion='entropy',\n",
    "                            random_state=random_seed)\n",
    "dt.fit(trainX[:,:,0],trainY[:,0])\n",
    "y_pred = dt.predict(testX[:,:,0])\n",
    "print(\"Test Gmean :\",geometric_mean_score(testY[:,0],y_pred) * 100)\n",
    "print(\"Test f1 : \",f1_score(testY[:,0],y_pred) * 100 )\n",
    "print(\"Test MMC : \",matthews_corrcoef(testY[:,0],y_pred) * 100 )"
   ]
  },
  {
   "cell_type": "code",
   "execution_count": 8,
   "metadata": {},
   "outputs": [
    {
     "name": "stdout",
     "output_type": "stream",
     "text": [
      "Test Gmean : 77.46694657527955\n",
      "Test f1 :  77.4432118330692\n",
      "Test MMC :  54.93415932046256\n"
     ]
    }
   ],
   "source": [
    "# criterion log loss + splitter random + best depth 52 79.60\n",
    "dt = DecisionTreeClassifier(criterion='log_loss'\n",
    "                            ,random_state=random_seed)\n",
    "dt.fit(trainX[:,:,0],trainY[:,0])\n",
    "y_pred = dt.predict(testX[:,:,0])\n",
    "print(\"Test Gmean :\",geometric_mean_score(testY[:,0],y_pred) * 100)\n",
    "print(\"Test f1 : \",f1_score(testY[:,0],y_pred) * 100 )\n",
    "print(\"Test MMC : \",matthews_corrcoef(testY[:,0],y_pred) * 100 )"
   ]
  },
  {
   "cell_type": "code",
   "execution_count": 9,
   "metadata": {},
   "outputs": [
    {
     "name": "stdout",
     "output_type": "stream",
     "text": [
      "Test Gmean : 77.8761492410653\n",
      "Test f1 :  78.19979188345474\n",
      "Test MMC :  55.801024614628545\n"
     ]
    }
   ],
   "source": [
    "dt = DecisionTreeClassifier(criterion='gini'\n",
    "                            ,random_state=random_seed)\n",
    "dt.fit(trainX[:,:,0],trainY[:,0])\n",
    "y_pred = dt.predict(testX[:,:,0])\n",
    "print(\"Test Gmean :\",geometric_mean_score(testY[:,0],y_pred) * 100)\n",
    "print(\"Test f1 : \",f1_score(testY[:,0],y_pred) * 100 )\n",
    "print(\"Test MMC : \",matthews_corrcoef(testY[:,0],y_pred) * 100 )"
   ]
  },
  {
   "cell_type": "markdown",
   "metadata": {},
   "source": [
    "# after hyperparam tuning "
   ]
  },
  {
   "cell_type": "code",
   "execution_count": 10,
   "metadata": {},
   "outputs": [
    {
     "name": "stdout",
     "output_type": "stream",
     "text": [
      "Test Gmean : 79.38647091318931\n",
      "Test f1 :  79.60302951162184\n",
      "Test MMC :  58.79873327883816\n"
     ]
    }
   ],
   "source": [
    "# criterion entropy + splitter random + best depth 52 \n",
    "dt = DecisionTreeClassifier(criterion='entropy',\n",
    "                            splitter= 'random',\n",
    "                            max_depth=52,\n",
    "                            random_state=random_seed)\n",
    "dt.fit(trainX[:,:,0],trainY[:,0])\n",
    "y_pred = dt.predict(testX[:,:,0])\n",
    "print(\"Test Gmean :\",geometric_mean_score(testY[:,0],y_pred) * 100)\n",
    "print(\"Test f1 : \",f1_score(testY[:,0],y_pred) * 100 )\n",
    "print(\"Test MMC : \",matthews_corrcoef(testY[:,0],y_pred) * 100 )"
   ]
  },
  {
   "cell_type": "code",
   "execution_count": 11,
   "metadata": {},
   "outputs": [
    {
     "name": "stdout",
     "output_type": "stream",
     "text": [
      "Test Gmean : 79.38647091318931\n",
      "Test f1 :  79.60302951162184\n",
      "Test MMC :  58.79873327883816\n"
     ]
    }
   ],
   "source": [
    "# criterion log loss + splitter random + best depth 52 79.60\n",
    "dt = DecisionTreeClassifier(criterion='log_loss',\n",
    "                            splitter=\"random\",\n",
    "                            max_depth=52\n",
    "                            ,random_state=random_seed)\n",
    "dt.fit(trainX[:,:,0],trainY[:,0])\n",
    "y_pred = dt.predict(testX[:,:,0])\n",
    "print(\"Test Gmean :\",geometric_mean_score(testY[:,0],y_pred) * 100)\n",
    "print(\"Test f1 : \",f1_score(testY[:,0],y_pred) * 100 )\n",
    "print(\"Test MMC : \",matthews_corrcoef(testY[:,0],y_pred) * 100 )"
   ]
  },
  {
   "cell_type": "code",
   "execution_count": 12,
   "metadata": {},
   "outputs": [
    {
     "name": "stdout",
     "output_type": "stream",
     "text": [
      "Test Gmean : 79.39215334910892\n",
      "Test f1 :  79.47437582128778\n",
      "Test MMC :  58.788121432532826\n"
     ]
    }
   ],
   "source": [
    "# criterion gini + splitter random + best depth 37 79.47\n",
    "dt = DecisionTreeClassifier(criterion='gini',\n",
    "                            splitter=\"random\",\n",
    "                            max_depth=37\n",
    "                            ,random_state=random_seed)\n",
    "dt.fit(trainX[:,:,0],trainY[:,0])\n",
    "y_pred = dt.predict(testX[:,:,0])\n",
    "print(\"Test Gmean :\",geometric_mean_score(testY[:,0],y_pred) * 100)\n",
    "print(\"Test f1 : \",f1_score(testY[:,0],y_pred) * 100 )\n",
    "print(\"Test MMC : \",matthews_corrcoef(testY[:,0],y_pred) * 100 )"
   ]
  },
  {
   "cell_type": "markdown",
   "metadata": {},
   "source": [
    "# bayesian hpo of Decision Trees "
   ]
  },
  {
   "cell_type": "code",
   "execution_count": 1,
   "metadata": {},
   "outputs": [],
   "source": [
    "from HPO import objective_DT\n",
    "import optuna\n",
    "from optuna.visualization import plot_optimization_history, plot_slice, plot_contour"
   ]
  },
  {
   "cell_type": "code",
   "execution_count": 2,
   "metadata": {},
   "outputs": [
    {
     "name": "stderr",
     "output_type": "stream",
     "text": [
      "[I 2024-04-30 14:15:19,928] A new study created in memory with name: no-name-661750e6-ba13-4678-a0ec-b2f17c4bfd55\n",
      "[I 2024-04-30 14:15:20,100] Trial 0 finished with value: 0.787673021676678 and parameters: {'max_depth': 316.1329494032017, 'criterion': 'gini', 'splitter': 'random'}. Best is trial 0 with value: 0.787673021676678.\n",
      "[I 2024-04-30 14:15:20,198] Trial 1 finished with value: 0.7098614506927465 and parameters: {'max_depth': 3.55429762211608, 'criterion': 'gini', 'splitter': 'random'}. Best is trial 0 with value: 0.787673021676678.\n",
      "[I 2024-04-30 14:15:20,544] Trial 2 finished with value: 0.7753373908441387 and parameters: {'max_depth': 395.10684120621323, 'criterion': 'entropy', 'splitter': 'best'}. Best is trial 0 with value: 0.787673021676678.\n",
      "[I 2024-04-30 14:15:20,741] Trial 3 finished with value: 0.7386666666666667 and parameters: {'max_depth': 8.169407710234893, 'criterion': 'entropy', 'splitter': 'best'}. Best is trial 0 with value: 0.787673021676678.\n",
      "[I 2024-04-30 14:15:20,832] Trial 4 finished with value: 0.7023715415019763 and parameters: {'max_depth': 1.0903664486334708, 'criterion': 'entropy', 'splitter': 'best'}. Best is trial 0 with value: 0.787673021676678.\n",
      "[I 2024-04-30 14:15:21,151] Trial 5 finished with value: 0.7753373908441387 and parameters: {'max_depth': 300.02569500759785, 'criterion': 'entropy', 'splitter': 'best'}. Best is trial 0 with value: 0.787673021676678.\n",
      "[I 2024-04-30 14:15:21,294] Trial 6 finished with value: 0.6500297088532383 and parameters: {'max_depth': 5.266333379880828, 'criterion': 'gini', 'splitter': 'best'}. Best is trial 0 with value: 0.787673021676678.\n",
      "[I 2024-04-30 14:15:21,411] Trial 7 finished with value: 0.7269241303752396 and parameters: {'max_depth': 17.66132871094881, 'criterion': 'gini', 'splitter': 'random'}. Best is trial 0 with value: 0.787673021676678.\n",
      "[I 2024-04-30 14:15:21,735] Trial 8 finished with value: 0.7753373908441387 and parameters: {'max_depth': 418.6836504258009, 'criterion': 'log_loss', 'splitter': 'best'}. Best is trial 0 with value: 0.787673021676678.\n",
      "[I 2024-04-30 14:15:22,008] Trial 9 finished with value: 0.7646900992755568 and parameters: {'max_depth': 16.03029363297791, 'criterion': 'gini', 'splitter': 'best'}. Best is trial 0 with value: 0.787673021676678.\n",
      "[I 2024-04-30 14:15:22,144] Trial 10 finished with value: 0.7969846633740577 and parameters: {'max_depth': 82.54233230489234, 'criterion': 'log_loss', 'splitter': 'random'}. Best is trial 10 with value: 0.7969846633740577.\n",
      "[I 2024-04-30 14:15:22,278] Trial 11 finished with value: 0.7969846633740577 and parameters: {'max_depth': 91.14229012938198, 'criterion': 'log_loss', 'splitter': 'random'}. Best is trial 10 with value: 0.7969846633740577.\n",
      "[I 2024-04-30 14:15:22,413] Trial 12 finished with value: 0.7969846633740577 and parameters: {'max_depth': 77.6534288314283, 'criterion': 'log_loss', 'splitter': 'random'}. Best is trial 10 with value: 0.7969846633740577.\n",
      "[I 2024-04-30 14:15:22,550] Trial 13 finished with value: 0.7969846633740577 and parameters: {'max_depth': 68.36802787640109, 'criterion': 'log_loss', 'splitter': 'random'}. Best is trial 10 with value: 0.7969846633740577.\n",
      "[I 2024-04-30 14:15:22,687] Trial 14 finished with value: 0.7969846633740577 and parameters: {'max_depth': 74.0070836071471, 'criterion': 'log_loss', 'splitter': 'random'}. Best is trial 10 with value: 0.7969846633740577.\n",
      "[I 2024-04-30 14:15:22,826] Trial 15 finished with value: 0.7969846633740577 and parameters: {'max_depth': 129.11681315171634, 'criterion': 'log_loss', 'splitter': 'random'}. Best is trial 10 with value: 0.7969846633740577.\n",
      "[I 2024-04-30 14:15:22,964] Trial 16 finished with value: 0.7845475758361421 and parameters: {'max_depth': 40.230345558690395, 'criterion': 'log_loss', 'splitter': 'random'}. Best is trial 10 with value: 0.7969846633740577.\n",
      "[I 2024-04-30 14:15:23,101] Trial 17 finished with value: 0.7969846633740577 and parameters: {'max_depth': 159.8220282162961, 'criterion': 'log_loss', 'splitter': 'random'}. Best is trial 10 with value: 0.7969846633740577.\n",
      "[I 2024-04-30 14:15:23,236] Trial 18 finished with value: 0.7869791666666667 and parameters: {'max_depth': 30.202906307310045, 'criterion': 'log_loss', 'splitter': 'random'}. Best is trial 10 with value: 0.7969846633740577.\n",
      "[I 2024-04-30 14:15:23,373] Trial 19 finished with value: 0.7969846633740577 and parameters: {'max_depth': 203.81745447450243, 'criterion': 'log_loss', 'splitter': 'random'}. Best is trial 10 with value: 0.7969846633740577.\n",
      "[I 2024-04-30 14:15:23,512] Trial 20 finished with value: 0.8012519561815337 and parameters: {'max_depth': 43.56982947220013, 'criterion': 'log_loss', 'splitter': 'random'}. Best is trial 20 with value: 0.8012519561815337.\n",
      "[I 2024-04-30 14:15:23,655] Trial 21 finished with value: 0.7910834629341628 and parameters: {'max_depth': 47.19542724516699, 'criterion': 'log_loss', 'splitter': 'random'}. Best is trial 20 with value: 0.8012519561815337.\n",
      "[I 2024-04-30 14:15:23,795] Trial 22 finished with value: 0.7969846633740577 and parameters: {'max_depth': 117.65204108424543, 'criterion': 'log_loss', 'splitter': 'random'}. Best is trial 20 with value: 0.8012519561815337.\n",
      "[I 2024-04-30 14:15:23,921] Trial 23 finished with value: 0.7433774834437086 and parameters: {'max_depth': 20.51647858687335, 'criterion': 'log_loss', 'splitter': 'random'}. Best is trial 20 with value: 0.8012519561815337.\n",
      "[I 2024-04-30 14:15:24,059] Trial 24 finished with value: 0.7950862519602718 and parameters: {'max_depth': 50.51885834973949, 'criterion': 'log_loss', 'splitter': 'random'}. Best is trial 20 with value: 0.8012519561815337.\n",
      "[I 2024-04-30 14:15:24,190] Trial 25 finished with value: 0.7470344827586207 and parameters: {'max_depth': 27.879540241526776, 'criterion': 'log_loss', 'splitter': 'random'}. Best is trial 20 with value: 0.8012519561815337.\n",
      "[I 2024-04-30 14:15:24,324] Trial 26 finished with value: 0.7969846633740577 and parameters: {'max_depth': 81.52919293428289, 'criterion': 'log_loss', 'splitter': 'random'}. Best is trial 20 with value: 0.8012519561815337.\n",
      "[I 2024-04-30 14:15:24,430] Trial 27 finished with value: 0.7001629549158066 and parameters: {'max_depth': 11.214654660465225, 'criterion': 'log_loss', 'splitter': 'random'}. Best is trial 20 with value: 0.8012519561815337.\n",
      "[I 2024-04-30 14:15:24,567] Trial 28 finished with value: 0.7969846633740577 and parameters: {'max_depth': 202.7312679448159, 'criterion': 'log_loss', 'splitter': 'random'}. Best is trial 20 with value: 0.8012519561815337.\n",
      "[I 2024-04-30 14:15:24,702] Trial 29 finished with value: 0.7969846633740577 and parameters: {'max_depth': 107.93486417313615, 'criterion': 'entropy', 'splitter': 'random'}. Best is trial 20 with value: 0.8012519561815337.\n",
      "[I 2024-04-30 14:15:24,839] Trial 30 finished with value: 0.787673021676678 and parameters: {'max_depth': 263.3567729258193, 'criterion': 'gini', 'splitter': 'random'}. Best is trial 20 with value: 0.8012519561815337.\n",
      "[I 2024-04-30 14:15:24,971] Trial 31 finished with value: 0.7969846633740577 and parameters: {'max_depth': 61.09053664218738, 'criterion': 'log_loss', 'splitter': 'random'}. Best is trial 20 with value: 0.8012519561815337.\n",
      "[I 2024-04-30 14:15:25,101] Trial 32 finished with value: 0.7845475758361421 and parameters: {'max_depth': 40.335076059294806, 'criterion': 'log_loss', 'splitter': 'random'}. Best is trial 20 with value: 0.8012519561815337.\n",
      "[I 2024-04-30 14:15:25,234] Trial 33 finished with value: 0.7969846633740577 and parameters: {'max_depth': 92.5494883845428, 'criterion': 'log_loss', 'splitter': 'random'}. Best is trial 20 with value: 0.8012519561815337.\n",
      "[I 2024-04-30 14:15:25,368] Trial 34 finished with value: 0.7836691410392365 and parameters: {'max_depth': 31.77433055821459, 'criterion': 'log_loss', 'splitter': 'random'}. Best is trial 20 with value: 0.8012519561815337.\n",
      "[I 2024-04-30 14:15:25,501] Trial 35 finished with value: 0.7969846633740577 and parameters: {'max_depth': 138.40594529483207, 'criterion': 'entropy', 'splitter': 'random'}. Best is trial 20 with value: 0.8012519561815337.\n",
      "[I 2024-04-30 14:15:25,579] Trial 36 finished with value: 0.69751166407465 and parameters: {'max_depth': 1.3360810195648007, 'criterion': 'log_loss', 'splitter': 'random'}. Best is trial 20 with value: 0.8012519561815337.\n",
      "[I 2024-04-30 14:15:25,833] Trial 37 finished with value: 0.7431477818592823 and parameters: {'max_depth': 12.786688107963917, 'criterion': 'entropy', 'splitter': 'best'}. Best is trial 20 with value: 0.8012519561815337.\n",
      "[I 2024-04-30 14:15:26,002] Trial 38 finished with value: 0.787673021676678 and parameters: {'max_depth': 59.7227608122412, 'criterion': 'gini', 'splitter': 'random'}. Best is trial 20 with value: 0.8012519561815337.\n",
      "[I 2024-04-30 14:15:26,360] Trial 39 finished with value: 0.7753373908441387 and parameters: {'max_depth': 204.8146211890203, 'criterion': 'log_loss', 'splitter': 'best'}. Best is trial 20 with value: 0.8012519561815337.\n",
      "[I 2024-04-30 14:15:26,522] Trial 40 finished with value: 0.7332464146023469 and parameters: {'max_depth': 6.468167325116339, 'criterion': 'gini', 'splitter': 'best'}. Best is trial 20 with value: 0.8012519561815337.\n",
      "[I 2024-04-30 14:15:26,656] Trial 41 finished with value: 0.7969846633740577 and parameters: {'max_depth': 73.14411606680787, 'criterion': 'log_loss', 'splitter': 'random'}. Best is trial 20 with value: 0.8012519561815337.\n",
      "[I 2024-04-30 14:15:26,792] Trial 42 finished with value: 0.7969846633740577 and parameters: {'max_depth': 100.08827426137739, 'criterion': 'log_loss', 'splitter': 'random'}. Best is trial 20 with value: 0.8012519561815337.\n",
      "[I 2024-04-30 14:15:26,924] Trial 43 finished with value: 0.7969846633740577 and parameters: {'max_depth': 59.88688126603369, 'criterion': 'log_loss', 'splitter': 'random'}. Best is trial 20 with value: 0.8012519561815337.\n",
      "[I 2024-04-30 14:15:27,053] Trial 44 finished with value: 0.7550574084199015 and parameters: {'max_depth': 25.24538439905633, 'criterion': 'log_loss', 'splitter': 'random'}. Best is trial 20 with value: 0.8012519561815337.\n",
      "[I 2024-04-30 14:15:27,184] Trial 45 finished with value: 0.7969846633740577 and parameters: {'max_depth': 477.8384830384271, 'criterion': 'entropy', 'splitter': 'random'}. Best is trial 20 with value: 0.8012519561815337.\n",
      "[I 2024-04-30 14:15:27,317] Trial 46 finished with value: 0.7936092194866422 and parameters: {'max_depth': 37.3219148534706, 'criterion': 'log_loss', 'splitter': 'random'}. Best is trial 20 with value: 0.8012519561815337.\n",
      "[I 2024-04-30 14:15:27,632] Trial 47 finished with value: 0.7753373908441387 and parameters: {'max_depth': 171.2524466346684, 'criterion': 'log_loss', 'splitter': 'best'}. Best is trial 20 with value: 0.8012519561815337.\n",
      "[I 2024-04-30 14:15:27,764] Trial 48 finished with value: 0.7969846633740577 and parameters: {'max_depth': 342.10671729840124, 'criterion': 'log_loss', 'splitter': 'random'}. Best is trial 20 with value: 0.8012519561815337.\n",
      "[I 2024-04-30 14:15:27,899] Trial 49 finished with value: 0.787673021676678 and parameters: {'max_depth': 73.0367147971603, 'criterion': 'gini', 'splitter': 'random'}. Best is trial 20 with value: 0.8012519561815337.\n",
      "[I 2024-04-30 14:15:28,034] Trial 50 finished with value: 0.7858443924017694 and parameters: {'max_depth': 48.52446446220893, 'criterion': 'log_loss', 'splitter': 'random'}. Best is trial 20 with value: 0.8012519561815337.\n",
      "[I 2024-04-30 14:15:28,168] Trial 51 finished with value: 0.7969846633740577 and parameters: {'max_depth': 124.518573991217, 'criterion': 'log_loss', 'splitter': 'random'}. Best is trial 20 with value: 0.8012519561815337.\n",
      "[I 2024-04-30 14:15:28,299] Trial 52 finished with value: 0.7969846633740577 and parameters: {'max_depth': 82.69917499483435, 'criterion': 'log_loss', 'splitter': 'random'}. Best is trial 20 with value: 0.8012519561815337.\n",
      "[I 2024-04-30 14:15:28,433] Trial 53 finished with value: 0.7969846633740577 and parameters: {'max_depth': 59.968668963112144, 'criterion': 'log_loss', 'splitter': 'random'}. Best is trial 20 with value: 0.8012519561815337.\n",
      "[I 2024-04-30 14:15:28,562] Trial 54 finished with value: 0.7950539331754801 and parameters: {'max_depth': 33.85387355038736, 'criterion': 'log_loss', 'splitter': 'random'}. Best is trial 20 with value: 0.8012519561815337.\n",
      "[I 2024-04-30 14:15:28,703] Trial 55 finished with value: 0.7801005557025669 and parameters: {'max_depth': 45.481596492400676, 'criterion': 'log_loss', 'splitter': 'random'}. Best is trial 20 with value: 0.8012519561815337.\n",
      "[I 2024-04-30 14:15:28,819] Trial 56 finished with value: 0.7497949138638228 and parameters: {'max_depth': 19.238631326610353, 'criterion': 'log_loss', 'splitter': 'random'}. Best is trial 20 with value: 0.8012519561815337.\n",
      "[I 2024-04-30 14:15:28,956] Trial 57 finished with value: 0.7969846633740577 and parameters: {'max_depth': 146.5169341488148, 'criterion': 'log_loss', 'splitter': 'random'}. Best is trial 20 with value: 0.8012519561815337.\n",
      "[I 2024-04-30 14:15:29,276] Trial 58 finished with value: 0.7753373908441387 and parameters: {'max_depth': 81.6822815573487, 'criterion': 'log_loss', 'splitter': 'best'}. Best is trial 20 with value: 0.8012519561815337.\n",
      "[I 2024-04-30 14:15:29,413] Trial 59 finished with value: 0.7969846633740577 and parameters: {'max_depth': 107.59953166819759, 'criterion': 'entropy', 'splitter': 'random'}. Best is trial 20 with value: 0.8012519561815337.\n",
      "[I 2024-04-30 14:15:29,540] Trial 60 finished with value: 0.7604336043360433 and parameters: {'max_depth': 24.28955123114421, 'criterion': 'log_loss', 'splitter': 'random'}. Best is trial 20 with value: 0.8012519561815337.\n",
      "[I 2024-04-30 14:15:29,671] Trial 61 finished with value: 0.7969846633740577 and parameters: {'max_depth': 261.4005152644385, 'criterion': 'log_loss', 'splitter': 'random'}. Best is trial 20 with value: 0.8012519561815337.\n",
      "[I 2024-04-30 14:15:29,802] Trial 62 finished with value: 0.7969846633740577 and parameters: {'max_depth': 126.24785093395704, 'criterion': 'log_loss', 'splitter': 'random'}. Best is trial 20 with value: 0.8012519561815337.\n",
      "[I 2024-04-30 14:15:29,934] Trial 63 finished with value: 0.7969846633740577 and parameters: {'max_depth': 70.76760628231986, 'criterion': 'log_loss', 'splitter': 'random'}. Best is trial 20 with value: 0.8012519561815337.\n",
      "[I 2024-04-30 14:15:30,066] Trial 64 finished with value: 0.7969846633740577 and parameters: {'max_depth': 176.04687420661762, 'criterion': 'log_loss', 'splitter': 'random'}. Best is trial 20 with value: 0.8012519561815337.\n",
      "[I 2024-04-30 14:15:30,195] Trial 65 finished with value: 0.7969846633740577 and parameters: {'max_depth': 96.08310492549265, 'criterion': 'log_loss', 'splitter': 'random'}. Best is trial 20 with value: 0.8012519561815337.\n",
      "[I 2024-04-30 14:15:30,334] Trial 66 finished with value: 0.7910834629341628 and parameters: {'max_depth': 47.01365866900873, 'criterion': 'log_loss', 'splitter': 'random'}. Best is trial 20 with value: 0.8012519561815337.\n",
      "[I 2024-04-30 14:15:30,484] Trial 67 finished with value: 0.787673021676678 and parameters: {'max_depth': 57.6639259487289, 'criterion': 'gini', 'splitter': 'random'}. Best is trial 20 with value: 0.8012519561815337.\n",
      "[I 2024-04-30 14:15:30,615] Trial 68 finished with value: 0.7845475758361421 and parameters: {'max_depth': 40.37231299400364, 'criterion': 'log_loss', 'splitter': 'random'}. Best is trial 20 with value: 0.8012519561815337.\n",
      "[I 2024-04-30 14:15:30,746] Trial 69 finished with value: 0.7969846633740577 and parameters: {'max_depth': 229.74630595134693, 'criterion': 'log_loss', 'splitter': 'random'}. Best is trial 20 with value: 0.8012519561815337.\n",
      "[I 2024-04-30 14:15:31,080] Trial 70 finished with value: 0.7753373908441387 and parameters: {'max_depth': 89.02397211815753, 'criterion': 'entropy', 'splitter': 'best'}. Best is trial 20 with value: 0.8012519561815337.\n",
      "[I 2024-04-30 14:15:31,213] Trial 71 finished with value: 0.7969846633740577 and parameters: {'max_depth': 156.82329387426702, 'criterion': 'log_loss', 'splitter': 'random'}. Best is trial 20 with value: 0.8012519561815337.\n",
      "[I 2024-04-30 14:15:31,350] Trial 72 finished with value: 0.7969846633740577 and parameters: {'max_depth': 117.49250900838412, 'criterion': 'log_loss', 'splitter': 'random'}. Best is trial 20 with value: 0.8012519561815337.\n",
      "[I 2024-04-30 14:15:31,486] Trial 73 finished with value: 0.7969846633740577 and parameters: {'max_depth': 69.01429949165261, 'criterion': 'log_loss', 'splitter': 'random'}. Best is trial 20 with value: 0.8012519561815337.\n",
      "[I 2024-04-30 14:15:31,568] Trial 74 finished with value: 0.69751166407465 and parameters: {'max_depth': 1.972034776728447, 'criterion': 'log_loss', 'splitter': 'random'}. Best is trial 20 with value: 0.8012519561815337.\n",
      "[I 2024-04-30 14:15:31,699] Trial 75 finished with value: 0.7969846633740577 and parameters: {'max_depth': 103.58642193186526, 'criterion': 'log_loss', 'splitter': 'random'}. Best is trial 20 with value: 0.8012519561815337.\n",
      "[I 2024-04-30 14:15:31,842] Trial 76 finished with value: 0.7844060701203558 and parameters: {'max_depth': 53.80731998514592, 'criterion': 'log_loss', 'splitter': 'random'}. Best is trial 20 with value: 0.8012519561815337.\n",
      "[I 2024-04-30 14:15:31,975] Trial 77 finished with value: 0.7969846633740577 and parameters: {'max_depth': 186.0445362394657, 'criterion': 'log_loss', 'splitter': 'random'}. Best is trial 20 with value: 0.8012519561815337.\n",
      "[I 2024-04-30 14:15:32,124] Trial 78 finished with value: 0.787673021676678 and parameters: {'max_depth': 142.99602246336644, 'criterion': 'gini', 'splitter': 'random'}. Best is trial 20 with value: 0.8012519561815337.\n",
      "[I 2024-04-30 14:15:32,267] Trial 79 finished with value: 0.7969846633740577 and parameters: {'max_depth': 69.95675330484933, 'criterion': 'log_loss', 'splitter': 'random'}. Best is trial 20 with value: 0.8012519561815337.\n",
      "[I 2024-04-30 14:15:32,568] Trial 80 finished with value: 0.7667473769168685 and parameters: {'max_depth': 15.629228155164459, 'criterion': 'log_loss', 'splitter': 'best'}. Best is trial 20 with value: 0.8012519561815337.\n",
      "[I 2024-04-30 14:15:32,710] Trial 81 finished with value: 0.7969846633740577 and parameters: {'max_depth': 297.65983068983815, 'criterion': 'log_loss', 'splitter': 'random'}. Best is trial 20 with value: 0.8012519561815337.\n",
      "[I 2024-04-30 14:15:32,851] Trial 82 finished with value: 0.7969846633740577 and parameters: {'max_depth': 204.0669026008652, 'criterion': 'log_loss', 'splitter': 'random'}. Best is trial 20 with value: 0.8012519561815337.\n",
      "[I 2024-04-30 14:15:32,994] Trial 83 finished with value: 0.7969846633740577 and parameters: {'max_depth': 360.8837636585555, 'criterion': 'log_loss', 'splitter': 'random'}. Best is trial 20 with value: 0.8012519561815337.\n",
      "[I 2024-04-30 14:15:33,131] Trial 84 finished with value: 0.7969846633740577 and parameters: {'max_depth': 241.67588539293956, 'criterion': 'log_loss', 'splitter': 'random'}. Best is trial 20 with value: 0.8012519561815337.\n",
      "[I 2024-04-30 14:15:33,263] Trial 85 finished with value: 0.7969846633740577 and parameters: {'max_depth': 115.76671435436275, 'criterion': 'log_loss', 'splitter': 'random'}. Best is trial 20 with value: 0.8012519561815337.\n",
      "[I 2024-04-30 14:15:33,391] Trial 86 finished with value: 0.7969846633740577 and parameters: {'max_depth': 84.86923341859912, 'criterion': 'log_loss', 'splitter': 'random'}. Best is trial 20 with value: 0.8012519561815337.\n",
      "[I 2024-04-30 14:15:33,521] Trial 87 finished with value: 0.7969846633740577 and parameters: {'max_depth': 137.11807766903797, 'criterion': 'entropy', 'splitter': 'random'}. Best is trial 20 with value: 0.8012519561815337.\n",
      "[I 2024-04-30 14:15:33,647] Trial 88 finished with value: 0.7969846633740577 and parameters: {'max_depth': 99.13769978655408, 'criterion': 'log_loss', 'splitter': 'random'}. Best is trial 20 with value: 0.8012519561815337.\n",
      "[I 2024-04-30 14:15:33,775] Trial 89 finished with value: 0.7718174539631706 and parameters: {'max_depth': 28.568121900583563, 'criterion': 'log_loss', 'splitter': 'random'}. Best is trial 20 with value: 0.8012519561815337.\n",
      "[I 2024-04-30 14:15:33,911] Trial 90 finished with value: 0.787673021676678 and parameters: {'max_depth': 154.2491364024758, 'criterion': 'gini', 'splitter': 'random'}. Best is trial 20 with value: 0.8012519561815337.\n",
      "[I 2024-04-30 14:15:34,040] Trial 91 finished with value: 0.7969846633740577 and parameters: {'max_depth': 75.70135402304655, 'criterion': 'log_loss', 'splitter': 'random'}. Best is trial 20 with value: 0.8012519561815337.\n",
      "[I 2024-04-30 14:15:34,170] Trial 92 finished with value: 0.7969846633740577 and parameters: {'max_depth': 66.88139431359534, 'criterion': 'log_loss', 'splitter': 'random'}. Best is trial 20 with value: 0.8012519561815337.\n",
      "[I 2024-04-30 14:15:34,299] Trial 93 finished with value: 0.7969846633740577 and parameters: {'max_depth': 168.83100609245187, 'criterion': 'log_loss', 'splitter': 'random'}. Best is trial 20 with value: 0.8012519561815337.\n",
      "[I 2024-04-30 14:15:34,432] Trial 94 finished with value: 0.7969846633740577 and parameters: {'max_depth': 127.602322427094, 'criterion': 'log_loss', 'splitter': 'random'}. Best is trial 20 with value: 0.8012519561815337.\n",
      "[I 2024-04-30 14:15:34,566] Trial 95 finished with value: 0.7969846633740577 and parameters: {'max_depth': 89.74774104329732, 'criterion': 'log_loss', 'splitter': 'random'}. Best is trial 20 with value: 0.8012519561815337.\n",
      "[I 2024-04-30 14:15:34,700] Trial 96 finished with value: 0.7969846633740577 and parameters: {'max_depth': 110.95615857232266, 'criterion': 'log_loss', 'splitter': 'random'}. Best is trial 20 with value: 0.8012519561815337.\n",
      "[I 2024-04-30 14:15:35,016] Trial 97 finished with value: 0.7753373908441387 and parameters: {'max_depth': 41.24013626816378, 'criterion': 'log_loss', 'splitter': 'best'}. Best is trial 20 with value: 0.8012519561815337.\n",
      "[I 2024-04-30 14:15:35,143] Trial 98 finished with value: 0.7870691958322201 and parameters: {'max_depth': 34.43286117861329, 'criterion': 'log_loss', 'splitter': 'random'}. Best is trial 20 with value: 0.8012519561815337.\n",
      "[I 2024-04-30 14:15:35,274] Trial 99 finished with value: 0.7969846633740577 and parameters: {'max_depth': 55.26276440574463, 'criterion': 'entropy', 'splitter': 'random'}. Best is trial 20 with value: 0.8012519561815337.\n",
      "[I 2024-04-30 14:15:35,406] Trial 100 finished with value: 0.7969846633740577 and parameters: {'max_depth': 292.62880217395167, 'criterion': 'log_loss', 'splitter': 'random'}. Best is trial 20 with value: 0.8012519561815337.\n",
      "[I 2024-04-30 14:15:35,537] Trial 101 finished with value: 0.7969846633740577 and parameters: {'max_depth': 77.99714733231802, 'criterion': 'log_loss', 'splitter': 'random'}. Best is trial 20 with value: 0.8012519561815337.\n",
      "[I 2024-04-30 14:15:35,667] Trial 102 finished with value: 0.7969846633740577 and parameters: {'max_depth': 90.02926886870819, 'criterion': 'log_loss', 'splitter': 'random'}. Best is trial 20 with value: 0.8012519561815337.\n",
      "[I 2024-04-30 14:15:35,797] Trial 103 finished with value: 0.7969846633740577 and parameters: {'max_depth': 60.90125145556403, 'criterion': 'log_loss', 'splitter': 'random'}. Best is trial 20 with value: 0.8012519561815337.\n",
      "[I 2024-04-30 14:15:35,928] Trial 104 finished with value: 0.7969846633740577 and parameters: {'max_depth': 218.49028129480968, 'criterion': 'log_loss', 'splitter': 'random'}. Best is trial 20 with value: 0.8012519561815337.\n",
      "[I 2024-04-30 14:15:36,059] Trial 105 finished with value: 0.7901750718578521 and parameters: {'max_depth': 51.81667318745509, 'criterion': 'log_loss', 'splitter': 'random'}. Best is trial 20 with value: 0.8012519561815337.\n",
      "[I 2024-04-30 14:15:36,192] Trial 106 finished with value: 0.7969846633740577 and parameters: {'max_depth': 129.25211352585615, 'criterion': 'log_loss', 'splitter': 'random'}. Best is trial 20 with value: 0.8012519561815337.\n",
      "[I 2024-04-30 14:15:36,326] Trial 107 finished with value: 0.7969846633740577 and parameters: {'max_depth': 180.9737486454802, 'criterion': 'log_loss', 'splitter': 'random'}. Best is trial 20 with value: 0.8012519561815337.\n",
      "[I 2024-04-30 14:15:36,458] Trial 108 finished with value: 0.7969846633740577 and parameters: {'max_depth': 102.64791170907898, 'criterion': 'log_loss', 'splitter': 'random'}. Best is trial 20 with value: 0.8012519561815337.\n",
      "[I 2024-04-30 14:15:36,771] Trial 109 finished with value: 0.7843239034518557 and parameters: {'max_depth': 80.75223710474708, 'criterion': 'gini', 'splitter': 'best'}. Best is trial 20 with value: 0.8012519561815337.\n",
      "[I 2024-04-30 14:15:36,900] Trial 110 finished with value: 0.7969846633740577 and parameters: {'max_depth': 157.2563184994, 'criterion': 'log_loss', 'splitter': 'random'}. Best is trial 20 with value: 0.8012519561815337.\n",
      "[I 2024-04-30 14:15:37,031] Trial 111 finished with value: 0.7969846633740577 and parameters: {'max_depth': 67.2881229618924, 'criterion': 'log_loss', 'splitter': 'random'}. Best is trial 20 with value: 0.8012519561815337.\n",
      "[I 2024-04-30 14:15:37,161] Trial 112 finished with value: 0.7969846633740577 and parameters: {'max_depth': 115.15080221321124, 'criterion': 'log_loss', 'splitter': 'random'}. Best is trial 20 with value: 0.8012519561815337.\n",
      "[I 2024-04-30 14:15:37,290] Trial 113 finished with value: 0.7969846633740577 and parameters: {'max_depth': 203.9778229661228, 'criterion': 'log_loss', 'splitter': 'random'}. Best is trial 20 with value: 0.8012519561815337.\n",
      "[I 2024-04-30 14:15:37,422] Trial 114 finished with value: 0.7969846633740577 and parameters: {'max_depth': 257.9018375407537, 'criterion': 'log_loss', 'splitter': 'random'}. Best is trial 20 with value: 0.8012519561815337.\n",
      "[I 2024-04-30 14:15:37,554] Trial 115 finished with value: 0.8012519561815337 and parameters: {'max_depth': 43.70465846953967, 'criterion': 'log_loss', 'splitter': 'random'}. Best is trial 20 with value: 0.8012519561815337.\n",
      "[I 2024-04-30 14:15:37,685] Trial 116 finished with value: 0.7969846633740577 and parameters: {'max_depth': 62.504458338610156, 'criterion': 'log_loss', 'splitter': 'random'}. Best is trial 20 with value: 0.8012519561815337.\n",
      "[I 2024-04-30 14:15:37,816] Trial 117 finished with value: 0.7801005557025669 and parameters: {'max_depth': 45.56893610105834, 'criterion': 'log_loss', 'splitter': 'random'}. Best is trial 20 with value: 0.8012519561815337.\n",
      "[I 2024-04-30 14:15:37,948] Trial 118 finished with value: 0.7969846633740577 and parameters: {'max_depth': 91.5980125085315, 'criterion': 'log_loss', 'splitter': 'random'}. Best is trial 20 with value: 0.8012519561815337.\n",
      "[I 2024-04-30 14:15:38,079] Trial 119 finished with value: 0.7950862519602718 and parameters: {'max_depth': 50.5270929107245, 'criterion': 'entropy', 'splitter': 'random'}. Best is trial 20 with value: 0.8012519561815337.\n",
      "[I 2024-04-30 14:15:38,214] Trial 120 finished with value: 0.7936092194866422 and parameters: {'max_depth': 37.903331790699944, 'criterion': 'log_loss', 'splitter': 'random'}. Best is trial 20 with value: 0.8012519561815337.\n",
      "[I 2024-04-30 14:15:38,295] Trial 121 finished with value: 0.7098614506927465 and parameters: {'max_depth': 3.529383116398173, 'criterion': 'log_loss', 'splitter': 'random'}. Best is trial 20 with value: 0.8012519561815337.\n",
      "[I 2024-04-30 14:15:38,432] Trial 122 finished with value: 0.7969846633740577 and parameters: {'max_depth': 148.5271976364271, 'criterion': 'log_loss', 'splitter': 'random'}. Best is trial 20 with value: 0.8012519561815337.\n",
      "[I 2024-04-30 14:15:38,560] Trial 123 finished with value: 0.7969846633740577 and parameters: {'max_depth': 80.10541519268773, 'criterion': 'log_loss', 'splitter': 'random'}. Best is trial 20 with value: 0.8012519561815337.\n",
      "[I 2024-04-30 14:15:38,696] Trial 124 finished with value: 0.7969846633740577 and parameters: {'max_depth': 102.80859056030447, 'criterion': 'log_loss', 'splitter': 'random'}. Best is trial 20 with value: 0.8012519561815337.\n",
      "[I 2024-04-30 14:15:38,825] Trial 125 finished with value: 0.7969846633740577 and parameters: {'max_depth': 194.34525855402822, 'criterion': 'log_loss', 'splitter': 'random'}. Best is trial 20 with value: 0.8012519561815337.\n",
      "[I 2024-04-30 14:15:38,956] Trial 126 finished with value: 0.7969846633740577 and parameters: {'max_depth': 131.05167754912176, 'criterion': 'log_loss', 'splitter': 'random'}. Best is trial 20 with value: 0.8012519561815337.\n",
      "[I 2024-04-30 14:15:39,083] Trial 127 finished with value: 0.7969846633740577 and parameters: {'max_depth': 119.03915567979419, 'criterion': 'log_loss', 'splitter': 'random'}. Best is trial 20 with value: 0.8012519561815337.\n",
      "[I 2024-04-30 14:15:39,216] Trial 128 finished with value: 0.7969846633740577 and parameters: {'max_depth': 72.63426006124793, 'criterion': 'log_loss', 'splitter': 'random'}. Best is trial 20 with value: 0.8012519561815337.\n",
      "[I 2024-04-30 14:15:39,527] Trial 129 finished with value: 0.7843239034518557 and parameters: {'max_depth': 164.19767310070256, 'criterion': 'gini', 'splitter': 'best'}. Best is trial 20 with value: 0.8012519561815337.\n",
      "[I 2024-04-30 14:15:39,654] Trial 130 finished with value: 0.7869791666666667 and parameters: {'max_depth': 30.86549490176481, 'criterion': 'log_loss', 'splitter': 'random'}. Best is trial 20 with value: 0.8012519561815337.\n",
      "[I 2024-04-30 14:15:39,781] Trial 131 finished with value: 0.7969846633740577 and parameters: {'max_depth': 89.26568825218355, 'criterion': 'entropy', 'splitter': 'random'}. Best is trial 20 with value: 0.8012519561815337.\n",
      "[I 2024-04-30 14:15:39,908] Trial 132 finished with value: 0.7969846633740577 and parameters: {'max_depth': 105.21805075902493, 'criterion': 'entropy', 'splitter': 'random'}. Best is trial 20 with value: 0.8012519561815337.\n",
      "[I 2024-04-30 14:15:40,037] Trial 133 finished with value: 0.7969846633740577 and parameters: {'max_depth': 145.3751617167756, 'criterion': 'entropy', 'splitter': 'random'}. Best is trial 20 with value: 0.8012519561815337.\n",
      "[I 2024-04-30 14:15:40,185] Trial 134 finished with value: 0.7969846633740577 and parameters: {'max_depth': 60.85028335200669, 'criterion': 'entropy', 'splitter': 'random'}. Best is trial 20 with value: 0.8012519561815337.\n",
      "[I 2024-04-30 14:15:40,315] Trial 135 finished with value: 0.7969846633740577 and parameters: {'max_depth': 78.10698504144338, 'criterion': 'entropy', 'splitter': 'random'}. Best is trial 20 with value: 0.8012519561815337.\n",
      "[I 2024-04-30 14:15:40,450] Trial 136 finished with value: 0.7969846633740577 and parameters: {'max_depth': 225.45470863365003, 'criterion': 'log_loss', 'splitter': 'random'}. Best is trial 20 with value: 0.8012519561815337.\n",
      "[I 2024-04-30 14:15:40,581] Trial 137 finished with value: 0.7969846633740577 and parameters: {'max_depth': 116.64793950039403, 'criterion': 'log_loss', 'splitter': 'random'}. Best is trial 20 with value: 0.8012519561815337.\n",
      "[I 2024-04-30 14:15:40,714] Trial 138 finished with value: 0.7969846633740577 and parameters: {'max_depth': 96.26359074413323, 'criterion': 'log_loss', 'splitter': 'random'}. Best is trial 20 with value: 0.8012519561815337.\n",
      "[I 2024-04-30 14:15:40,840] Trial 139 finished with value: 0.7319587628865979 and parameters: {'max_depth': 23.109632651717714, 'criterion': 'log_loss', 'splitter': 'random'}. Best is trial 20 with value: 0.8012519561815337.\n",
      "[I 2024-04-30 14:15:40,973] Trial 140 finished with value: 0.7969846633740577 and parameters: {'max_depth': 134.59660831806698, 'criterion': 'log_loss', 'splitter': 'random'}. Best is trial 20 with value: 0.8012519561815337.\n",
      "[I 2024-04-30 14:15:41,102] Trial 141 finished with value: 0.7879905188306557 and parameters: {'max_depth': 42.074720814522756, 'criterion': 'log_loss', 'splitter': 'random'}. Best is trial 20 with value: 0.8012519561815337.\n",
      "[I 2024-04-30 14:15:41,233] Trial 142 finished with value: 0.7969846633740577 and parameters: {'max_depth': 56.17280434633647, 'criterion': 'log_loss', 'splitter': 'random'}. Best is trial 20 with value: 0.8012519561815337.\n",
      "[I 2024-04-30 14:15:41,365] Trial 143 finished with value: 0.7969846633740577 and parameters: {'max_depth': 67.53859205822972, 'criterion': 'log_loss', 'splitter': 'random'}. Best is trial 20 with value: 0.8012519561815337.\n",
      "[I 2024-04-30 14:15:41,502] Trial 144 finished with value: 0.7969846633740577 and parameters: {'max_depth': 82.49057278722792, 'criterion': 'log_loss', 'splitter': 'random'}. Best is trial 20 with value: 0.8012519561815337.\n",
      "[I 2024-04-30 14:15:41,651] Trial 145 finished with value: 0.7901750718578521 and parameters: {'max_depth': 51.846471496716724, 'criterion': 'log_loss', 'splitter': 'random'}. Best is trial 20 with value: 0.8012519561815337.\n",
      "[I 2024-04-30 14:15:41,794] Trial 146 finished with value: 0.7969846633740577 and parameters: {'max_depth': 67.3883041853088, 'criterion': 'log_loss', 'splitter': 'random'}. Best is trial 20 with value: 0.8012519561815337.\n",
      "[I 2024-04-30 14:15:41,933] Trial 147 finished with value: 0.7801005557025669 and parameters: {'max_depth': 45.396137650080036, 'criterion': 'log_loss', 'splitter': 'random'}. Best is trial 20 with value: 0.8012519561815337.\n",
      "[I 2024-04-30 14:15:42,255] Trial 148 finished with value: 0.7753373908441387 and parameters: {'max_depth': 101.34935594151845, 'criterion': 'log_loss', 'splitter': 'best'}. Best is trial 20 with value: 0.8012519561815337.\n",
      "[I 2024-04-30 14:15:42,388] Trial 149 finished with value: 0.7969846633740577 and parameters: {'max_depth': 180.6637671563859, 'criterion': 'log_loss', 'splitter': 'random'}. Best is trial 20 with value: 0.8012519561815337.\n"
     ]
    }
   ],
   "source": [
    "# create a study\n",
    "study = optuna.create_study(direction='maximize')\n",
    "study.optimize(objective_DT, n_trials=150)\n",
    "# get the best trial\n",
    "trial = study.best_trial"
   ]
  },
  {
   "cell_type": "code",
   "execution_count": 3,
   "metadata": {},
   "outputs": [
    {
     "name": "stdout",
     "output_type": "stream",
     "text": [
      "F1 score: 80.12519561815337\n",
      "Best hyperparameters: {'max_depth': 43.56982947220013, 'criterion': 'log_loss', 'splitter': 'random'}\n"
     ]
    }
   ],
   "source": [
    "print('F1 score: {}'.format(trial.value*100))\n",
    "print(\"Best hyperparameters: {}\".format(trial.params))"
   ]
  }
 ],
 "metadata": {
  "kernelspec": {
   "display_name": "DS-CVlabs",
   "language": "python",
   "name": "python3"
  },
  "language_info": {
   "codemirror_mode": {
    "name": "ipython",
    "version": 3
   },
   "file_extension": ".py",
   "mimetype": "text/x-python",
   "name": "python",
   "nbconvert_exporter": "python",
   "pygments_lexer": "ipython3",
   "version": "3.9.19"
  }
 },
 "nbformat": 4,
 "nbformat_minor": 2
}
