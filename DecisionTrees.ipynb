{
 "cells": [
  {
   "cell_type": "code",
   "execution_count": 1,
   "metadata": {},
   "outputs": [],
   "source": [
    "from dataLoader import getPreprocessedData"
   ]
  },
  {
   "cell_type": "code",
   "execution_count": 2,
   "metadata": {},
   "outputs": [],
   "source": [
    "trainX, trainY, testX, testY = getPreprocessedData()"
   ]
  },
  {
   "cell_type": "code",
   "execution_count": 3,
   "metadata": {},
   "outputs": [],
   "source": [
    "from sklearn.model_selection import GridSearchCV\n",
    "from sklearn.tree import DecisionTreeClassifier\n",
    "from sklearn.metrics import f1_score,matthews_corrcoef\n",
    "from sklearn.tree import plot_tree\n",
    "import matplotlib.pyplot as plt\n",
    "import pandas as pd \n",
    "from imblearn.metrics import geometric_mean_score"
   ]
  },
  {
   "cell_type": "code",
   "execution_count": 4,
   "metadata": {},
   "outputs": [],
   "source": [
    "x = trainFull = pd.read_csv(\"Data/trainFull.csv\", index_col = 0)"
   ]
  },
  {
   "cell_type": "code",
   "execution_count": 5,
   "metadata": {},
   "outputs": [],
   "source": [
    "random_seed = 42"
   ]
  },
  {
   "cell_type": "code",
   "execution_count": 6,
   "metadata": {},
   "outputs": [
    {
     "name": "stdout",
     "output_type": "stream",
     "text": [
      "Test Gmean : 77.46694657527955\n",
      "Test f1 :  77.4432118330692\n",
      "Test MMC :  54.93415932046256\n"
     ]
    }
   ],
   "source": [
    "dt = DecisionTreeClassifier(criterion='entropy',random_state=random_seed)\n",
    "dt.fit(trainX[:,:,0],trainY[:,0])\n",
    "y_pred = dt.predict(testX[:,:,0])\n",
    "print(\"Test Gmean :\",geometric_mean_score(testY[:,0],y_pred) * 100)\n",
    "print(\"Test f1 : \",f1_score(testY[:,0],y_pred) * 100 )\n",
    "print(\"Test MMC : \",matthews_corrcoef(testY[:,0],y_pred) * 100 )"
   ]
  },
  {
   "cell_type": "code",
   "execution_count": 8,
   "metadata": {},
   "outputs": [
    {
     "name": "stdout",
     "output_type": "stream",
     "text": [
      "Test Gmean : 77.8761492410653\n",
      "Test f1 :  78.19979188345472\n",
      "Test MMC :  55.801024614628545\n"
     ]
    }
   ],
   "source": [
    "dt = DecisionTreeClassifier(criterion='gini',random_state=random_seed)\n",
    "dt.fit(trainX[:,:,0],trainY[:,0])\n",
    "y_pred = dt.predict(testX[:,:,0])\n",
    "print(\"Test Gmean :\",geometric_mean_score(testY[:,0],y_pred) * 100)\n",
    "print(\"Test f1 : \",f1_score(testY[:,0],y_pred) * 100 )\n",
    "print(\"Test MMC : \",matthews_corrcoef(testY[:,0],y_pred) * 100 )"
   ]
  },
  {
   "cell_type": "code",
   "execution_count": null,
   "metadata": {},
   "outputs": [],
   "source": []
  }
 ],
 "metadata": {
  "kernelspec": {
   "display_name": "DS-CVlabs",
   "language": "python",
   "name": "python3"
  },
  "language_info": {
   "codemirror_mode": {
    "name": "ipython",
    "version": 3
   },
   "file_extension": ".py",
   "mimetype": "text/x-python",
   "name": "python",
   "nbconvert_exporter": "python",
   "pygments_lexer": "ipython3",
   "version": "3.9.13"
  }
 },
 "nbformat": 4,
 "nbformat_minor": 2
}
