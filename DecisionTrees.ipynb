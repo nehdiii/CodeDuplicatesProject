{
 "cells": [
  {
   "cell_type": "code",
   "execution_count": 1,
   "metadata": {},
   "outputs": [],
   "source": [
    "from dataLoader import getPreprocessedData"
   ]
  },
  {
   "cell_type": "code",
   "execution_count": 2,
   "metadata": {},
   "outputs": [],
   "source": [
    "trainX, trainY, testX, testY = getPreprocessedData()"
   ]
  },
  {
   "cell_type": "code",
   "execution_count": 3,
   "metadata": {},
   "outputs": [],
   "source": [
    "from sklearn.model_selection import GridSearchCV,RandomizedSearchCV\n",
    "from sklearn.tree import DecisionTreeClassifier\n",
    "from sklearn.metrics import f1_score,matthews_corrcoef\n",
    "from sklearn.tree import plot_tree\n",
    "import matplotlib.pyplot as plt\n",
    "import pandas as pd \n",
    "from sklearn.metrics import f1_score,make_scorer\n",
    "from imblearn.metrics import geometric_mean_score"
   ]
  },
  {
   "cell_type": "code",
   "execution_count": 4,
   "metadata": {},
   "outputs": [],
   "source": [
    "x = trainFull = pd.read_csv(\"Data/trainFull.csv\", index_col = 0)"
   ]
  },
  {
   "cell_type": "code",
   "execution_count": 5,
   "metadata": {},
   "outputs": [],
   "source": [
    "random_seed = 42"
   ]
  },
  {
   "cell_type": "code",
   "execution_count": 6,
   "metadata": {},
   "outputs": [
    {
     "name": "stdout",
     "output_type": "stream",
     "text": [
      "Test Gmean : 79.38647091318931\n",
      "Test f1 :  79.60302951162184\n",
      "Test MMC :  58.79873327883816\n"
     ]
    }
   ],
   "source": [
    "# criterion entropy + splitter random + best depth 52 \n",
    "dt = DecisionTreeClassifier(criterion='entropy',\n",
    "                            splitter= 'random',\n",
    "                            max_depth=52,\n",
    "                            random_state=random_seed)\n",
    "dt.fit(trainX[:,:,0],trainY[:,0])\n",
    "y_pred = dt.predict(testX[:,:,0])\n",
    "print(\"Test Gmean :\",geometric_mean_score(testY[:,0],y_pred) * 100)\n",
    "print(\"Test f1 : \",f1_score(testY[:,0],y_pred) * 100 )\n",
    "print(\"Test MMC : \",matthews_corrcoef(testY[:,0],y_pred) * 100 )"
   ]
  },
  {
   "cell_type": "code",
   "execution_count": 7,
   "metadata": {},
   "outputs": [
    {
     "name": "stdout",
     "output_type": "stream",
     "text": [
      "Test Gmean : 79.38647091318931\n",
      "Test f1 :  79.60302951162184\n",
      "Test MMC :  58.79873327883816\n"
     ]
    }
   ],
   "source": [
    "# criterion log loss + splitter random + best depth 52 79.60\n",
    "dt = DecisionTreeClassifier(criterion='log_loss',\n",
    "                            splitter=\"random\",\n",
    "                            max_depth=52\n",
    "                            ,random_state=random_seed)\n",
    "dt.fit(trainX[:,:,0],trainY[:,0])\n",
    "y_pred = dt.predict(testX[:,:,0])\n",
    "print(\"Test Gmean :\",geometric_mean_score(testY[:,0],y_pred) * 100)\n",
    "print(\"Test f1 : \",f1_score(testY[:,0],y_pred) * 100 )\n",
    "print(\"Test MMC : \",matthews_corrcoef(testY[:,0],y_pred) * 100 )"
   ]
  },
  {
   "cell_type": "code",
   "execution_count": 8,
   "metadata": {},
   "outputs": [
    {
     "name": "stdout",
     "output_type": "stream",
     "text": [
      "Test Gmean : 79.39215334910892\n",
      "Test f1 :  79.47437582128778\n",
      "Test MMC :  58.788121432532826\n"
     ]
    }
   ],
   "source": [
    "# criterion gini + splitter random + best depth 37 79.47\n",
    "dt = DecisionTreeClassifier(criterion='gini',\n",
    "                            splitter=\"random\",\n",
    "                            max_depth=37\n",
    "                            ,random_state=random_seed)\n",
    "dt.fit(trainX[:,:,0],trainY[:,0])\n",
    "y_pred = dt.predict(testX[:,:,0])\n",
    "print(\"Test Gmean :\",geometric_mean_score(testY[:,0],y_pred) * 100)\n",
    "print(\"Test f1 : \",f1_score(testY[:,0],y_pred) * 100 )\n",
    "print(\"Test MMC : \",matthews_corrcoef(testY[:,0],y_pred) * 100 )"
   ]
  }
 ],
 "metadata": {
  "kernelspec": {
   "display_name": "DS-CVlabs",
   "language": "python",
   "name": "python3"
  },
  "language_info": {
   "codemirror_mode": {
    "name": "ipython",
    "version": 3
   },
   "file_extension": ".py",
   "mimetype": "text/x-python",
   "name": "python",
   "nbconvert_exporter": "python",
   "pygments_lexer": "ipython3",
   "version": "3.9.13"
  }
 },
 "nbformat": 4,
 "nbformat_minor": 2
}
