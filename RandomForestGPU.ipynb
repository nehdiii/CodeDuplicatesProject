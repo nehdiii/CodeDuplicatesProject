{
 "cells": [
  {
   "cell_type": "code",
   "execution_count": 1,
   "metadata": {},
   "outputs": [],
   "source": [
    "from HPO import objective_RF\n",
    "import optuna\n",
    "from optuna.visualization import plot_optimization_history, plot_slice, plot_contour"
   ]
  },
  {
   "cell_type": "code",
   "execution_count": 2,
   "metadata": {},
   "outputs": [
    {
     "name": "stderr",
     "output_type": "stream",
     "text": [
      "[I 2024-04-30 15:16:29,410] A new study created in memory with name: no-name-9da1ee71-3e14-4259-a298-322713867550\n",
      "[I 2024-04-30 15:16:29,913] Trial 0 finished with value: 0.6742268041237114 and parameters: {'n_estimators': 21, 'max_depth': 1.5593267850061774, 'bootstrap': 0, 'split_criterion': 'poisson'}. Best is trial 0 with value: 0.6742268041237114.\n",
      "[I 2024-04-30 15:16:30,164] Trial 1 finished with value: 0.773384237796564 and parameters: {'n_estimators': 79, 'max_depth': 11.328983618268758, 'bootstrap': 1, 'split_criterion': 'inverse_gaussian'}. Best is trial 1 with value: 0.773384237796564.\n",
      "[I 2024-04-30 15:16:30,395] Trial 2 finished with value: 0.8423280423280424 and parameters: {'n_estimators': 51, 'max_depth': 29.994409038275826, 'bootstrap': 1, 'split_criterion': 'poisson'}. Best is trial 2 with value: 0.8423280423280424.\n",
      "[I 2024-04-30 15:16:30,472] Trial 3 finished with value: 0.8073935172783284 and parameters: {'n_estimators': 5, 'max_depth': 50.38833850389721, 'bootstrap': 0, 'split_criterion': 'poisson'}. Best is trial 2 with value: 0.8423280423280424.\n",
      "[I 2024-04-30 15:16:30,571] Trial 4 finished with value: 0.6717637753756921 and parameters: {'n_estimators': 37, 'max_depth': 1.6955635625013816, 'bootstrap': 1, 'split_criterion': 'poisson'}. Best is trial 2 with value: 0.8423280423280424.\n",
      "[I 2024-04-30 15:16:30,645] Trial 5 finished with value: 0.7471698113207547 and parameters: {'n_estimators': 10, 'max_depth': 7.165804812214127, 'bootstrap': 0, 'split_criterion': 'inverse_gaussian'}. Best is trial 2 with value: 0.8423280423280424.\n",
      "[I 2024-04-30 15:16:30,843] Trial 6 finished with value: 0.7122131363756264 and parameters: {'n_estimators': 93, 'max_depth': 4.826175835123214, 'bootstrap': 1, 'split_criterion': 'inverse_gaussian'}. Best is trial 2 with value: 0.8423280423280424.\n",
      "[I 2024-04-30 15:16:30,993] Trial 7 finished with value: 0.7322580645161291 and parameters: {'n_estimators': 55, 'max_depth': 6.5400491116940636, 'bootstrap': 1, 'split_criterion': 'inverse_gaussian'}. Best is trial 2 with value: 0.8423280423280424.\n",
      "[I 2024-04-30 15:16:31,103] Trial 8 finished with value: 0.7709923664122137 and parameters: {'n_estimators': 26, 'max_depth': 10.324158868048197, 'bootstrap': 0, 'split_criterion': 'inverse_gaussian'}. Best is trial 2 with value: 0.8423280423280424.\n",
      "[I 2024-04-30 15:16:31,396] Trial 9 finished with value: 0.8391049547149707 and parameters: {'n_estimators': 74, 'max_depth': 23.973797810912952, 'bootstrap': 1, 'split_criterion': 'poisson'}. Best is trial 2 with value: 0.8423280423280424.\n",
      "[I 2024-04-30 15:16:31,663] Trial 10 finished with value: 0.8422445738485972 and parameters: {'n_estimators': 53, 'max_depth': 88.0698758368034, 'bootstrap': 1, 'split_criterion': 'poisson'}. Best is trial 2 with value: 0.8423280423280424.\n",
      "[I 2024-04-30 15:16:32,035] Trial 11 finished with value: 0.8451151707704527 and parameters: {'n_estimators': 52, 'max_depth': 97.5649606481523, 'bootstrap': 1, 'split_criterion': 'poisson'}. Best is trial 11 with value: 0.8451151707704527.\n",
      "[I 2024-04-30 15:16:32,333] Trial 12 finished with value: 0.8438327157226045 and parameters: {'n_estimators': 65, 'max_depth': 35.23646615286517, 'bootstrap': 1, 'split_criterion': 'poisson'}. Best is trial 11 with value: 0.8451151707704527.\n",
      "[I 2024-04-30 15:16:32,638] Trial 13 finished with value: 0.8414634146341463 and parameters: {'n_estimators': 64, 'max_depth': 68.0798624482507, 'bootstrap': 1, 'split_criterion': 'poisson'}. Best is trial 11 with value: 0.8451151707704527.\n",
      "[I 2024-04-30 15:16:33,039] Trial 14 finished with value: 0.8450184501845018 and parameters: {'n_estimators': 95, 'max_depth': 31.065248873055978, 'bootstrap': 1, 'split_criterion': 'poisson'}. Best is trial 11 with value: 0.8451151707704527.\n",
      "[I 2024-04-30 15:16:33,379] Trial 15 finished with value: 0.8320855614973262 and parameters: {'n_estimators': 97, 'max_depth': 19.929362050353767, 'bootstrap': 1, 'split_criterion': 'poisson'}. Best is trial 11 with value: 0.8451151707704527.\n",
      "[I 2024-04-30 15:16:33,763] Trial 16 finished with value: 0.8441044579266684 and parameters: {'n_estimators': 85, 'max_depth': 96.49184219922523, 'bootstrap': 1, 'split_criterion': 'poisson'}. Best is trial 11 with value: 0.8451151707704527.\n",
      "[I 2024-04-30 15:16:33,976] Trial 17 finished with value: 0.8419098143236075 and parameters: {'n_estimators': 36, 'max_depth': 55.71145202721103, 'bootstrap': 0, 'split_criterion': 'poisson'}. Best is trial 11 with value: 0.8451151707704527.\n",
      "[I 2024-04-30 15:16:34,221] Trial 18 finished with value: 0.8112078346028292 and parameters: {'n_estimators': 40, 'max_depth': 16.73100171616488, 'bootstrap': 1, 'split_criterion': 'poisson'}. Best is trial 11 with value: 0.8451151707704527.\n",
      "[I 2024-04-30 15:16:34,534] Trial 19 finished with value: 0.8426073131955485 and parameters: {'n_estimators': 66, 'max_depth': 41.49186083581059, 'bootstrap': 1, 'split_criterion': 'poisson'}. Best is trial 11 with value: 0.8451151707704527.\n",
      "[I 2024-04-30 15:16:34,774] Trial 20 finished with value: 0.6884554559831313 and parameters: {'n_estimators': 89, 'max_depth': 2.919949960815252, 'bootstrap': 0, 'split_criterion': 'poisson'}. Best is trial 11 with value: 0.8451151707704527.\n",
      "[I 2024-04-30 15:16:35,152] Trial 21 finished with value: 0.8447729672650475 and parameters: {'n_estimators': 83, 'max_depth': 97.18005348428647, 'bootstrap': 1, 'split_criterion': 'poisson'}. Best is trial 11 with value: 0.8451151707704527.\n",
      "[I 2024-04-30 15:16:35,516] Trial 22 finished with value: 0.8446088794926004 and parameters: {'n_estimators': 79, 'max_depth': 96.9825884860022, 'bootstrap': 1, 'split_criterion': 'poisson'}. Best is trial 11 with value: 0.8451151707704527.\n",
      "[I 2024-04-30 15:16:35,858] Trial 23 finished with value: 0.8446909667194928 and parameters: {'n_estimators': 73, 'max_depth': 60.21153801217422, 'bootstrap': 1, 'split_criterion': 'poisson'}. Best is trial 11 with value: 0.8451151707704527.\n",
      "[I 2024-04-30 15:16:36,288] Trial 24 finished with value: 0.846641988365944 and parameters: {'n_estimators': 100, 'max_depth': 35.28541353565633, 'bootstrap': 1, 'split_criterion': 'poisson'}. Best is trial 24 with value: 0.846641988365944.\n",
      "[I 2024-04-30 15:16:36,774] Trial 25 finished with value: 0.8177897574123989 and parameters: {'n_estimators': 99, 'max_depth': 16.0713599369815, 'bootstrap': 1, 'split_criterion': 'poisson'}. Best is trial 24 with value: 0.846641988365944.\n",
      "[I 2024-04-30 15:16:37,145] Trial 26 finished with value: 0.8448914769719428 and parameters: {'n_estimators': 90, 'max_depth': 27.88260741574061, 'bootstrap': 1, 'split_criterion': 'poisson'}. Best is trial 24 with value: 0.846641988365944.\n",
      "[I 2024-04-30 15:16:37,378] Trial 27 finished with value: 0.8444208852372118 and parameters: {'n_estimators': 44, 'max_depth': 40.78949757407956, 'bootstrap': 1, 'split_criterion': 'inverse_gaussian'}. Best is trial 24 with value: 0.846641988365944.\n",
      "[I 2024-04-30 15:16:37,510] Trial 28 finished with value: 0.7900355871886121 and parameters: {'n_estimators': 27, 'max_depth': 13.266963902567369, 'bootstrap': 1, 'split_criterion': 'poisson'}. Best is trial 24 with value: 0.846641988365944.\n",
      "[I 2024-04-30 15:16:37,707] Trial 29 finished with value: 0.8380449141347424 and parameters: {'n_estimators': 19, 'max_depth': 64.81168759589336, 'bootstrap': 0, 'split_criterion': 'poisson'}. Best is trial 24 with value: 0.846641988365944.\n",
      "[I 2024-04-30 15:16:38,095] Trial 30 finished with value: 0.8414342629482072 and parameters: {'n_estimators': 100, 'max_depth': 24.351941588515455, 'bootstrap': 1, 'split_criterion': 'poisson'}. Best is trial 24 with value: 0.846641988365944.\n",
      "[I 2024-04-30 15:16:38,517] Trial 31 finished with value: 0.8457474907554147 and parameters: {'n_estimators': 88, 'max_depth': 31.616787659102187, 'bootstrap': 1, 'split_criterion': 'poisson'}. Best is trial 24 with value: 0.846641988365944.\n",
      "[I 2024-04-30 15:16:38,932] Trial 32 finished with value: 0.8468848996832101 and parameters: {'n_estimators': 92, 'max_depth': 41.866308891876145, 'bootstrap': 1, 'split_criterion': 'poisson'}. Best is trial 32 with value: 0.8468848996832101.\n",
      "[I 2024-04-30 15:16:39,317] Trial 33 finished with value: 0.8441044579266684 and parameters: {'n_estimators': 85, 'max_depth': 45.41731067124171, 'bootstrap': 1, 'split_criterion': 'poisson'}. Best is trial 32 with value: 0.8468848996832101.\n",
      "[I 2024-04-30 15:16:39,677] Trial 34 finished with value: 0.8436094204816089 and parameters: {'n_estimators': 76, 'max_depth': 76.91614033752812, 'bootstrap': 1, 'split_criterion': 'poisson'}. Best is trial 32 with value: 0.8468848996832101.\n",
      "[I 2024-04-30 15:16:39,973] Trial 35 finished with value: 0.841715193223928 and parameters: {'n_estimators': 59, 'max_depth': 52.372578805180034, 'bootstrap': 1, 'split_criterion': 'poisson'}. Best is trial 32 with value: 0.8468848996832101.\n",
      "[I 2024-04-30 15:16:40,375] Trial 36 finished with value: 0.8471085291787694 and parameters: {'n_estimators': 91, 'max_depth': 37.6363033830358, 'bootstrap': 1, 'split_criterion': 'inverse_gaussian'}. Best is trial 36 with value: 0.8471085291787694.\n",
      "[I 2024-04-30 15:16:40,710] Trial 37 finished with value: 0.8385889898450026 and parameters: {'n_estimators': 89, 'max_depth': 21.758887944430988, 'bootstrap': 1, 'split_criterion': 'inverse_gaussian'}. Best is trial 36 with value: 0.8471085291787694.\n",
      "[I 2024-04-30 15:16:40,887] Trial 38 finished with value: 0.6819571865443425 and parameters: {'n_estimators': 93, 'max_depth': 1.1949270213589032, 'bootstrap': 1, 'split_criterion': 'inverse_gaussian'}. Best is trial 36 with value: 0.8471085291787694.\n",
      "[I 2024-04-30 15:16:41,285] Trial 39 finished with value: 0.8478260869565217 and parameters: {'n_estimators': 83, 'max_depth': 34.828360939535216, 'bootstrap': 0, 'split_criterion': 'inverse_gaussian'}. Best is trial 39 with value: 0.8478260869565217.\n",
      "[I 2024-04-30 15:16:41,577] Trial 40 finished with value: 0.7515612272603855 and parameters: {'n_estimators': 70, 'max_depth': 8.449657992907555, 'bootstrap': 0, 'split_criterion': 'inverse_gaussian'}. Best is trial 39 with value: 0.8478260869565217.\n",
      "[I 2024-04-30 15:16:41,966] Trial 41 finished with value: 0.846927966101695 and parameters: {'n_estimators': 82, 'max_depth': 36.545850696895315, 'bootstrap': 0, 'split_criterion': 'inverse_gaussian'}. Best is trial 39 with value: 0.8478260869565217.\n",
      "[I 2024-04-30 15:16:42,349] Trial 42 finished with value: 0.8453990983823919 and parameters: {'n_estimators': 81, 'max_depth': 36.59586006842035, 'bootstrap': 0, 'split_criterion': 'inverse_gaussian'}. Best is trial 39 with value: 0.8478260869565217.\n",
      "[I 2024-04-30 15:16:42,683] Trial 43 finished with value: 0.8272506082725061 and parameters: {'n_estimators': 94, 'max_depth': 18.91520836701442, 'bootstrap': 0, 'split_criterion': 'inverse_gaussian'}. Best is trial 39 with value: 0.8478260869565217.\n",
      "[I 2024-04-30 15:16:42,942] Trial 44 finished with value: 0.7912448700410397 and parameters: {'n_estimators': 78, 'max_depth': 13.138950614942042, 'bootstrap': 0, 'split_criterion': 'inverse_gaussian'}. Best is trial 39 with value: 0.8478260869565217.\n",
      "[I 2024-04-30 15:16:43,368] Trial 45 finished with value: 0.8481619605753863 and parameters: {'n_estimators': 100, 'max_depth': 26.222157025527146, 'bootstrap': 0, 'split_criterion': 'inverse_gaussian'}. Best is trial 45 with value: 0.8481619605753863.\n",
      "[I 2024-04-30 15:16:43,757] Trial 46 finished with value: 0.8444088604216706 and parameters: {'n_estimators': 92, 'max_depth': 25.876319423639952, 'bootstrap': 0, 'split_criterion': 'inverse_gaussian'}. Best is trial 45 with value: 0.8481619605753863.\n",
      "[I 2024-04-30 15:16:44,170] Trial 47 finished with value: 0.8485812781755503 and parameters: {'n_estimators': 85, 'max_depth': 47.17415122089839, 'bootstrap': 0, 'split_criterion': 'inverse_gaussian'}. Best is trial 47 with value: 0.8485812781755503.\n",
      "[I 2024-04-30 15:16:44,565] Trial 48 finished with value: 0.8480978983772279 and parameters: {'n_estimators': 69, 'max_depth': 48.30787484021727, 'bootstrap': 0, 'split_criterion': 'inverse_gaussian'}. Best is trial 47 with value: 0.8485812781755503.\n",
      "[I 2024-04-30 15:16:44,920] Trial 49 finished with value: 0.8487752928647497 and parameters: {'n_estimators': 70, 'max_depth': 71.55997140454983, 'bootstrap': 0, 'split_criterion': 'inverse_gaussian'}. Best is trial 49 with value: 0.8487752928647497.\n",
      "[I 2024-04-30 15:16:45,238] Trial 50 finished with value: 0.8487104493485775 and parameters: {'n_estimators': 59, 'max_depth': 74.78646157645576, 'bootstrap': 0, 'split_criterion': 'inverse_gaussian'}. Best is trial 49 with value: 0.8487752928647497.\n",
      "[I 2024-04-30 15:16:45,550] Trial 51 finished with value: 0.848017034868246 and parameters: {'n_estimators': 60, 'max_depth': 75.26813162549414, 'bootstrap': 0, 'split_criterion': 'inverse_gaussian'}. Best is trial 49 with value: 0.8487752928647497.\n",
      "[I 2024-04-30 15:16:45,866] Trial 52 finished with value: 0.8487104493485775 and parameters: {'n_estimators': 59, 'max_depth': 73.26110798170095, 'bootstrap': 0, 'split_criterion': 'inverse_gaussian'}. Best is trial 49 with value: 0.8487752928647497.\n",
      "[I 2024-04-30 15:16:46,125] Trial 53 finished with value: 0.8461334041987776 and parameters: {'n_estimators': 46, 'max_depth': 51.44212726016037, 'bootstrap': 0, 'split_criterion': 'inverse_gaussian'}. Best is trial 49 with value: 0.8487752928647497.\n",
      "[I 2024-04-30 15:16:46,450] Trial 54 finished with value: 0.8485493745009316 and parameters: {'n_estimators': 58, 'max_depth': 76.61919683995308, 'bootstrap': 0, 'split_criterion': 'inverse_gaussian'}. Best is trial 49 with value: 0.8487752928647497.\n",
      "[I 2024-04-30 15:16:46,758] Trial 55 finished with value: 0.8485493745009316 and parameters: {'n_estimators': 58, 'max_depth': 76.84628054793025, 'bootstrap': 0, 'split_criterion': 'inverse_gaussian'}. Best is trial 49 with value: 0.8487752928647497.\n",
      "[I 2024-04-30 15:16:47,064] Trial 56 finished with value: 0.8471963858623439 and parameters: {'n_estimators': 57, 'max_depth': 79.25096801213165, 'bootstrap': 0, 'split_criterion': 'inverse_gaussian'}. Best is trial 49 with value: 0.8487752928647497.\n",
      "[I 2024-04-30 15:16:47,386] Trial 57 finished with value: 0.8482428115015974 and parameters: {'n_estimators': 62, 'max_depth': 68.47040229138882, 'bootstrap': 0, 'split_criterion': 'inverse_gaussian'}. Best is trial 49 with value: 0.8487752928647497.\n",
      "[I 2024-04-30 15:16:47,705] Trial 58 finished with value: 0.8508609271523179 and parameters: {'n_estimators': 49, 'max_depth': 83.41721368392975, 'bootstrap': 0, 'split_criterion': 'inverse_gaussian'}. Best is trial 58 with value: 0.8508609271523179.\n",
      "[I 2024-04-30 15:16:47,968] Trial 59 finished with value: 0.847052575677111 and parameters: {'n_estimators': 48, 'max_depth': 59.932527435500354, 'bootstrap': 0, 'split_criterion': 'inverse_gaussian'}. Best is trial 58 with value: 0.8508609271523179.\n",
      "[I 2024-04-30 15:16:48,313] Trial 60 finished with value: 0.8467269824374667 and parameters: {'n_estimators': 54, 'max_depth': 87.40874923728148, 'bootstrap': 0, 'split_criterion': 'inverse_gaussian'}. Best is trial 58 with value: 0.8508609271523179.\n",
      "[I 2024-04-30 15:16:48,604] Trial 61 finished with value: 0.850916821684826 and parameters: {'n_estimators': 50, 'max_depth': 81.47820505829577, 'bootstrap': 0, 'split_criterion': 'inverse_gaussian'}. Best is trial 61 with value: 0.850916821684826.\n",
      "[I 2024-04-30 15:16:48,940] Trial 62 finished with value: 0.850916821684826 and parameters: {'n_estimators': 50, 'max_depth': 62.73876793563497, 'bootstrap': 0, 'split_criterion': 'inverse_gaussian'}. Best is trial 61 with value: 0.850916821684826.\n",
      "[I 2024-04-30 15:16:49,066] Trial 63 finished with value: 0.6919151222132689 and parameters: {'n_estimators': 41, 'max_depth': 3.8258591714708023, 'bootstrap': 0, 'split_criterion': 'inverse_gaussian'}. Best is trial 61 with value: 0.850916821684826.\n",
      "[I 2024-04-30 15:16:49,349] Trial 64 finished with value: 0.850916821684826 and parameters: {'n_estimators': 50, 'max_depth': 55.55085677542507, 'bootstrap': 0, 'split_criterion': 'inverse_gaussian'}. Best is trial 61 with value: 0.850916821684826.\n",
      "[I 2024-04-30 15:16:49,566] Trial 65 finished with value: 0.8419098143236075 and parameters: {'n_estimators': 35, 'max_depth': 60.157209966094506, 'bootstrap': 0, 'split_criterion': 'inverse_gaussian'}. Best is trial 61 with value: 0.850916821684826.\n",
      "[I 2024-04-30 15:16:49,865] Trial 66 finished with value: 0.850916821684826 and parameters: {'n_estimators': 50, 'max_depth': 90.14588470906534, 'bootstrap': 0, 'split_criterion': 'inverse_gaussian'}. Best is trial 61 with value: 0.850916821684826.\n",
      "[I 2024-04-30 15:16:50,147] Trial 67 finished with value: 0.850916821684826 and parameters: {'n_estimators': 50, 'max_depth': 87.16866390722939, 'bootstrap': 0, 'split_criterion': 'inverse_gaussian'}. Best is trial 61 with value: 0.850916821684826.\n",
      "[I 2024-04-30 15:16:50,494] Trial 68 finished with value: 0.8489514202282984 and parameters: {'n_estimators': 51, 'max_depth': 89.15249476456728, 'bootstrap': 0, 'split_criterion': 'inverse_gaussian'}. Best is trial 61 with value: 0.850916821684826.\n",
      "[I 2024-04-30 15:16:50,788] Trial 69 finished with value: 0.850916821684826 and parameters: {'n_estimators': 50, 'max_depth': 91.6645219696012, 'bootstrap': 0, 'split_criterion': 'inverse_gaussian'}. Best is trial 61 with value: 0.850916821684826.\n",
      "[I 2024-04-30 15:16:51,130] Trial 70 finished with value: 0.8508609271523179 and parameters: {'n_estimators': 49, 'max_depth': 87.15906801464115, 'bootstrap': 0, 'split_criterion': 'inverse_gaussian'}. Best is trial 61 with value: 0.850916821684826.\n",
      "[I 2024-04-30 15:16:51,568] Trial 71 finished with value: 0.8508609271523179 and parameters: {'n_estimators': 49, 'max_depth': 89.93256092904709, 'bootstrap': 0, 'split_criterion': 'inverse_gaussian'}. Best is trial 61 with value: 0.850916821684826.\n",
      "[I 2024-04-30 15:16:51,808] Trial 72 finished with value: 0.8437251260281242 and parameters: {'n_estimators': 40, 'max_depth': 99.8568371625309, 'bootstrap': 0, 'split_criterion': 'inverse_gaussian'}. Best is trial 61 with value: 0.850916821684826.\n",
      "[I 2024-04-30 15:16:52,060] Trial 73 finished with value: 0.8452349349615078 and parameters: {'n_estimators': 43, 'max_depth': 57.10266862720693, 'bootstrap': 0, 'split_criterion': 'inverse_gaussian'}. Best is trial 61 with value: 0.850916821684826.\n",
      "[I 2024-04-30 15:16:52,264] Trial 74 finished with value: 0.8405642800106468 and parameters: {'n_estimators': 32, 'max_depth': 63.080931820575266, 'bootstrap': 0, 'split_criterion': 'inverse_gaussian'}. Best is trial 61 with value: 0.850916821684826.\n",
      "[I 2024-04-30 15:16:52,573] Trial 75 finished with value: 0.8467269824374667 and parameters: {'n_estimators': 54, 'max_depth': 85.77896256968555, 'bootstrap': 0, 'split_criterion': 'inverse_gaussian'}. Best is trial 61 with value: 0.850916821684826.\n",
      "[I 2024-04-30 15:16:52,837] Trial 76 finished with value: 0.8495762711864406 and parameters: {'n_estimators': 47, 'max_depth': 64.63464101541439, 'bootstrap': 0, 'split_criterion': 'inverse_gaussian'}. Best is trial 61 with value: 0.850916821684826.\n",
      "[I 2024-04-30 15:16:53,174] Trial 77 finished with value: 0.8471963858623439 and parameters: {'n_estimators': 52, 'max_depth': 84.53483827548634, 'bootstrap': 0, 'split_criterion': 'inverse_gaussian'}. Best is trial 61 with value: 0.850916821684826.\n",
      "[I 2024-04-30 15:16:53,354] Trial 78 finished with value: 0.6963078523140925 and parameters: {'n_estimators': 45, 'max_depth': 2.049837427859832, 'bootstrap': 0, 'split_criterion': 'inverse_gaussian'}. Best is trial 61 with value: 0.850916821684826.\n",
      "[I 2024-04-30 15:16:53,645] Trial 79 finished with value: 0.850916821684826 and parameters: {'n_estimators': 50, 'max_depth': 53.728037284446884, 'bootstrap': 0, 'split_criterion': 'inverse_gaussian'}. Best is trial 61 with value: 0.850916821684826.\n",
      "[I 2024-04-30 15:16:53,893] Trial 80 finished with value: 0.8452127659574468 and parameters: {'n_estimators': 42, 'max_depth': 51.78464428260643, 'bootstrap': 0, 'split_criterion': 'inverse_gaussian'}. Best is trial 61 with value: 0.850916821684826.\n",
      "[I 2024-04-30 15:16:54,212] Trial 81 finished with value: 0.850916821684826 and parameters: {'n_estimators': 50, 'max_depth': 99.69959075933606, 'bootstrap': 0, 'split_criterion': 'inverse_gaussian'}. Best is trial 61 with value: 0.850916821684826.\n",
      "[I 2024-04-30 15:16:54,493] Trial 82 finished with value: 0.840818495880946 and parameters: {'n_estimators': 38, 'max_depth': 96.07580654267765, 'bootstrap': 0, 'split_criterion': 'inverse_gaussian'}. Best is trial 61 with value: 0.850916821684826.\n",
      "[I 2024-04-30 15:16:54,790] Trial 83 finished with value: 0.8465215082315454 and parameters: {'n_estimators': 55, 'max_depth': 66.36971435135999, 'bootstrap': 0, 'split_criterion': 'inverse_gaussian'}. Best is trial 61 with value: 0.850916821684826.\n",
      "[I 2024-04-30 15:16:55,069] Trial 84 finished with value: 0.8489514202282984 and parameters: {'n_estimators': 51, 'max_depth': 56.82354149414771, 'bootstrap': 0, 'split_criterion': 'inverse_gaussian'}. Best is trial 61 with value: 0.850916821684826.\n",
      "[I 2024-04-30 15:16:55,461] Trial 85 finished with value: 0.8480810234541578 and parameters: {'n_estimators': 63, 'max_depth': 42.084109727750146, 'bootstrap': 0, 'split_criterion': 'inverse_gaussian'}. Best is trial 61 with value: 0.850916821684826.\n",
      "[I 2024-04-30 15:16:55,722] Trial 86 finished with value: 0.8447040084948235 and parameters: {'n_estimators': 45, 'max_depth': 70.06300458122796, 'bootstrap': 0, 'split_criterion': 'inverse_gaussian'}. Best is trial 61 with value: 0.850916821684826.\n",
      "[I 2024-04-30 15:16:56,023] Trial 87 finished with value: 0.8458055925432756 and parameters: {'n_estimators': 56, 'max_depth': 97.75346323329086, 'bootstrap': 0, 'split_criterion': 'inverse_gaussian'}. Best is trial 61 with value: 0.850916821684826.\n",
      "[I 2024-04-30 15:16:56,294] Trial 88 finished with value: 0.8508609271523179 and parameters: {'n_estimators': 49, 'max_depth': 54.73372484051805, 'bootstrap': 0, 'split_criterion': 'inverse_gaussian'}. Best is trial 61 with value: 0.850916821684826.\n",
      "[I 2024-04-30 15:16:56,548] Trial 89 finished with value: 0.8417704744235357 and parameters: {'n_estimators': 33, 'max_depth': 43.95042252887551, 'bootstrap': 0, 'split_criterion': 'inverse_gaussian'}. Best is trial 61 with value: 0.850916821684826.\n",
      "[I 2024-04-30 15:16:56,843] Trial 90 finished with value: 0.846684350132626 and parameters: {'n_estimators': 53, 'max_depth': 80.73635177700865, 'bootstrap': 0, 'split_criterion': 'inverse_gaussian'}. Best is trial 61 with value: 0.850916821684826.\n",
      "[I 2024-04-30 15:16:57,120] Trial 91 finished with value: 0.8508609271523179 and parameters: {'n_estimators': 49, 'max_depth': 83.80564708755578, 'bootstrap': 0, 'split_criterion': 'inverse_gaussian'}. Best is trial 61 with value: 0.850916821684826.\n",
      "[I 2024-04-30 15:16:57,314] Trial 92 finished with value: 0.7249190938511327 and parameters: {'n_estimators': 47, 'max_depth': 5.895959061992932, 'bootstrap': 0, 'split_criterion': 'inverse_gaussian'}. Best is trial 61 with value: 0.850916821684826.\n",
      "[I 2024-04-30 15:16:57,550] Trial 93 finished with value: 0.840818495880946 and parameters: {'n_estimators': 38, 'max_depth': 88.85983799016472, 'bootstrap': 0, 'split_criterion': 'inverse_gaussian'}. Best is trial 61 with value: 0.850916821684826.\n",
      "[I 2024-04-30 15:16:57,830] Trial 94 finished with value: 0.850916821684826 and parameters: {'n_estimators': 50, 'max_depth': 66.43760551531791, 'bootstrap': 0, 'split_criterion': 'inverse_gaussian'}. Best is trial 61 with value: 0.850916821684826.\n",
      "[I 2024-04-30 15:16:58,114] Trial 95 finished with value: 0.8471963858623439 and parameters: {'n_estimators': 52, 'max_depth': 66.0959650528306, 'bootstrap': 0, 'split_criterion': 'inverse_gaussian'}. Best is trial 61 with value: 0.850916821684826.\n",
      "[I 2024-04-30 15:16:58,368] Trial 96 finished with value: 0.8446808510638298 and parameters: {'n_estimators': 44, 'max_depth': 69.88989797334455, 'bootstrap': 0, 'split_criterion': 'inverse_gaussian'}. Best is trial 61 with value: 0.850916821684826.\n",
      "[I 2024-04-30 15:16:58,481] Trial 97 finished with value: 0.7748661594815441 and parameters: {'n_estimators': 4, 'max_depth': 49.06959161664251, 'bootstrap': 0, 'split_criterion': 'inverse_gaussian'}. Best is trial 61 with value: 0.850916821684826.\n",
      "[I 2024-04-30 15:16:58,832] Trial 98 finished with value: 0.8494537703170797 and parameters: {'n_estimators': 66, 'max_depth': 59.15118254353277, 'bootstrap': 0, 'split_criterion': 'inverse_gaussian'}. Best is trial 61 with value: 0.850916821684826.\n",
      "[I 2024-04-30 15:16:59,129] Trial 99 finished with value: 0.8465215082315454 and parameters: {'n_estimators': 55, 'max_depth': 80.29225971222061, 'bootstrap': 0, 'split_criterion': 'inverse_gaussian'}. Best is trial 61 with value: 0.850916821684826.\n",
      "[I 2024-04-30 15:16:59,481] Trial 100 finished with value: 0.8461334041987776 and parameters: {'n_estimators': 46, 'max_depth': 98.25922273223317, 'bootstrap': 0, 'split_criterion': 'inverse_gaussian'}. Best is trial 61 with value: 0.850916821684826.\n",
      "[I 2024-04-30 15:16:59,752] Trial 101 finished with value: 0.8508609271523179 and parameters: {'n_estimators': 49, 'max_depth': 76.4846455634063, 'bootstrap': 0, 'split_criterion': 'inverse_gaussian'}. Best is trial 61 with value: 0.850916821684826.\n",
      "[I 2024-04-30 15:17:00,033] Trial 102 finished with value: 0.8489514202282984 and parameters: {'n_estimators': 51, 'max_depth': 88.72187075643025, 'bootstrap': 0, 'split_criterion': 'inverse_gaussian'}. Best is trial 61 with value: 0.850916821684826.\n",
      "[I 2024-04-30 15:17:00,278] Trial 103 finished with value: 0.8452349349615078 and parameters: {'n_estimators': 43, 'max_depth': 72.09764199501295, 'bootstrap': 0, 'split_criterion': 'inverse_gaussian'}. Best is trial 61 with value: 0.850916821684826.\n",
      "[I 2024-04-30 15:17:00,552] Trial 104 finished with value: 0.850916821684826 and parameters: {'n_estimators': 50, 'max_depth': 90.94097489619212, 'bootstrap': 0, 'split_criterion': 'inverse_gaussian'}. Best is trial 61 with value: 0.850916821684826.\n",
      "[I 2024-04-30 15:17:00,852] Trial 105 finished with value: 0.8437251260281242 and parameters: {'n_estimators': 40, 'max_depth': 62.094926965028144, 'bootstrap': 0, 'split_criterion': 'inverse_gaussian'}. Best is trial 61 with value: 0.850916821684826.\n",
      "[I 2024-04-30 15:17:01,205] Trial 106 finished with value: 0.8458055925432756 and parameters: {'n_estimators': 56, 'max_depth': 54.07194634664244, 'bootstrap': 0, 'split_criterion': 'inverse_gaussian'}. Best is trial 61 with value: 0.850916821684826.\n",
      "[I 2024-04-30 15:17:01,329] Trial 107 finished with value: 0.8309970907167415 and parameters: {'n_estimators': 13, 'max_depth': 81.28943564735069, 'bootstrap': 0, 'split_criterion': 'inverse_gaussian'}. Best is trial 61 with value: 0.850916821684826.\n",
      "[I 2024-04-30 15:17:01,621] Trial 108 finished with value: 0.846684350132626 and parameters: {'n_estimators': 53, 'max_depth': 93.97092590343055, 'bootstrap': 0, 'split_criterion': 'inverse_gaussian'}. Best is trial 61 with value: 0.850916821684826.\n",
      "[I 2024-04-30 15:17:02,002] Trial 109 finished with value: 0.848017034868246 and parameters: {'n_estimators': 60, 'max_depth': 69.4563344044044, 'bootstrap': 0, 'split_criterion': 'inverse_gaussian'}. Best is trial 61 with value: 0.850916821684826.\n",
      "[I 2024-04-30 15:17:02,285] Trial 110 finished with value: 0.8494167550371156 and parameters: {'n_estimators': 47, 'max_depth': 39.45026113593881, 'bootstrap': 0, 'split_criterion': 'inverse_gaussian'}. Best is trial 61 with value: 0.850916821684826.\n",
      "[I 2024-04-30 15:17:02,577] Trial 111 finished with value: 0.850916821684826 and parameters: {'n_estimators': 50, 'max_depth': 99.85967091044087, 'bootstrap': 0, 'split_criterion': 'inverse_gaussian'}. Best is trial 61 with value: 0.850916821684826.\n",
      "[I 2024-04-30 15:17:02,913] Trial 112 finished with value: 0.850916821684826 and parameters: {'n_estimators': 50, 'max_depth': 82.82290807904218, 'bootstrap': 0, 'split_criterion': 'inverse_gaussian'}. Best is trial 61 with value: 0.850916821684826.\n",
      "[I 2024-04-30 15:17:03,201] Trial 113 finished with value: 0.8489514202282984 and parameters: {'n_estimators': 51, 'max_depth': 74.9767240843765, 'bootstrap': 0, 'split_criterion': 'inverse_gaussian'}. Best is trial 61 with value: 0.850916821684826.\n",
      "[I 2024-04-30 15:17:03,505] Trial 114 finished with value: 0.8467269824374667 and parameters: {'n_estimators': 54, 'max_depth': 98.08325784055961, 'bootstrap': 0, 'split_criterion': 'inverse_gaussian'}. Best is trial 61 with value: 0.850916821684826.\n",
      "[I 2024-04-30 15:17:03,889] Trial 115 finished with value: 0.8480978983772279 and parameters: {'n_estimators': 61, 'max_depth': 62.67059231460791, 'bootstrap': 0, 'split_criterion': 'inverse_gaussian'}. Best is trial 61 with value: 0.850916821684826.\n",
      "[I 2024-04-30 15:17:04,208] Trial 116 finished with value: 0.8447040084948235 and parameters: {'n_estimators': 45, 'max_depth': 45.86186933831227, 'bootstrap': 0, 'split_criterion': 'inverse_gaussian'}. Best is trial 61 with value: 0.850916821684826.\n",
      "[I 2024-04-30 15:17:04,546] Trial 117 finished with value: 0.8458055925432756 and parameters: {'n_estimators': 56, 'max_depth': 89.20312349525403, 'bootstrap': 0, 'split_criterion': 'inverse_gaussian'}. Best is trial 61 with value: 0.850916821684826.\n",
      "[I 2024-04-30 15:17:04,831] Trial 118 finished with value: 0.850916821684826 and parameters: {'n_estimators': 50, 'max_depth': 81.21979887667428, 'bootstrap': 0, 'split_criterion': 'inverse_gaussian'}. Best is trial 61 with value: 0.850916821684826.\n",
      "[I 2024-04-30 15:17:05,077] Trial 119 finished with value: 0.8452127659574468 and parameters: {'n_estimators': 42, 'max_depth': 66.93376775768583, 'bootstrap': 0, 'split_criterion': 'inverse_gaussian'}. Best is trial 61 with value: 0.850916821684826.\n",
      "[I 2024-04-30 15:17:05,372] Trial 120 finished with value: 0.8495762711864406 and parameters: {'n_estimators': 47, 'max_depth': 75.04524193160816, 'bootstrap': 0, 'split_criterion': 'inverse_gaussian'}. Best is trial 61 with value: 0.850916821684826.\n",
      "[I 2024-04-30 15:17:05,655] Trial 121 finished with value: 0.850916821684826 and parameters: {'n_estimators': 50, 'max_depth': 82.01569655462266, 'bootstrap': 0, 'split_criterion': 'inverse_gaussian'}. Best is trial 61 with value: 0.850916821684826.\n",
      "[I 2024-04-30 15:17:05,943] Trial 122 finished with value: 0.846684350132626 and parameters: {'n_estimators': 53, 'max_depth': 93.29625413415529, 'bootstrap': 0, 'split_criterion': 'inverse_gaussian'}. Best is trial 61 with value: 0.850916821684826.\n",
      "[I 2024-04-30 15:17:06,233] Trial 123 finished with value: 0.8489514202282984 and parameters: {'n_estimators': 51, 'max_depth': 81.15231516178525, 'bootstrap': 0, 'split_criterion': 'inverse_gaussian'}. Best is trial 61 with value: 0.850916821684826.\n",
      "[I 2024-04-30 15:17:06,543] Trial 124 finished with value: 0.8471963858623439 and parameters: {'n_estimators': 57, 'max_depth': 71.35929175755871, 'bootstrap': 0, 'split_criterion': 'inverse_gaussian'}. Best is trial 61 with value: 0.850916821684826.\n",
      "[I 2024-04-30 15:17:06,856] Trial 125 finished with value: 0.847052575677111 and parameters: {'n_estimators': 48, 'max_depth': 98.83890897256103, 'bootstrap': 0, 'split_criterion': 'inverse_gaussian'}. Best is trial 61 with value: 0.850916821684826.\n",
      "[I 2024-04-30 15:17:07,122] Trial 126 finished with value: 0.8446808510638298 and parameters: {'n_estimators': 44, 'max_depth': 57.20486095340077, 'bootstrap': 0, 'split_criterion': 'inverse_gaussian'}. Best is trial 61 with value: 0.850916821684826.\n",
      "[I 2024-04-30 15:17:07,366] Trial 127 finished with value: 0.7608399236433051 and parameters: {'n_estimators': 53, 'max_depth': 9.396420262363886, 'bootstrap': 0, 'split_criterion': 'inverse_gaussian'}. Best is trial 61 with value: 0.850916821684826.\n",
      "[I 2024-04-30 15:17:07,667] Trial 128 finished with value: 0.850916821684826 and parameters: {'n_estimators': 50, 'max_depth': 88.70781597787604, 'bootstrap': 0, 'split_criterion': 'inverse_gaussian'}. Best is trial 61 with value: 0.850916821684826.\n",
      "[I 2024-04-30 15:17:07,994] Trial 129 finished with value: 0.8461334041987776 and parameters: {'n_estimators': 46, 'max_depth': 64.36298690991951, 'bootstrap': 0, 'split_criterion': 'inverse_gaussian'}. Best is trial 61 with value: 0.850916821684826.\n",
      "[I 2024-04-30 15:17:08,325] Trial 130 finished with value: 0.8485493745009316 and parameters: {'n_estimators': 58, 'max_depth': 99.6851137219443, 'bootstrap': 0, 'split_criterion': 'inverse_gaussian'}. Best is trial 61 with value: 0.850916821684826.\n",
      "[I 2024-04-30 15:17:08,725] Trial 131 finished with value: 0.850916821684826 and parameters: {'n_estimators': 50, 'max_depth': 82.66912627323792, 'bootstrap': 0, 'split_criterion': 'inverse_gaussian'}. Best is trial 61 with value: 0.850916821684826.\n",
      "[I 2024-04-30 15:17:09,042] Trial 132 finished with value: 0.8465215082315454 and parameters: {'n_estimators': 55, 'max_depth': 80.59481024050244, 'bootstrap': 0, 'split_criterion': 'inverse_gaussian'}. Best is trial 61 with value: 0.850916821684826.\n",
      "[I 2024-04-30 15:17:09,320] Trial 133 finished with value: 0.847052575677111 and parameters: {'n_estimators': 48, 'max_depth': 74.32950619044735, 'bootstrap': 0, 'split_criterion': 'inverse_gaussian'}. Best is trial 61 with value: 0.850916821684826.\n",
      "[I 2024-04-30 15:17:09,618] Trial 134 finished with value: 0.8471963858623439 and parameters: {'n_estimators': 52, 'max_depth': 51.75803105119245, 'bootstrap': 0, 'split_criterion': 'inverse_gaussian'}. Best is trial 61 with value: 0.850916821684826.\n",
      "[I 2024-04-30 15:17:09,928] Trial 135 finished with value: 0.850916821684826 and parameters: {'n_estimators': 50, 'max_depth': 89.33937597147957, 'bootstrap': 0, 'split_criterion': 'inverse_gaussian'}. Best is trial 61 with value: 0.850916821684826.\n",
      "[I 2024-04-30 15:17:10,194] Trial 136 finished with value: 0.8447040084948235 and parameters: {'n_estimators': 45, 'max_depth': 67.94230974017084, 'bootstrap': 0, 'split_criterion': 'inverse_gaussian'}. Best is trial 61 with value: 0.850916821684826.\n",
      "[I 2024-04-30 15:17:10,476] Trial 137 finished with value: 0.8495762711864406 and parameters: {'n_estimators': 47, 'max_depth': 79.72374847395187, 'bootstrap': 0, 'split_criterion': 'inverse_gaussian'}. Best is trial 61 with value: 0.850916821684826.\n",
      "[I 2024-04-30 15:17:10,744] Trial 138 finished with value: 0.8442557707614752 and parameters: {'n_estimators': 41, 'max_depth': 58.9101516261305, 'bootstrap': 0, 'split_criterion': 'inverse_gaussian'}. Best is trial 61 with value: 0.850916821684826.\n",
      "[I 2024-04-30 15:17:11,104] Trial 139 finished with value: 0.8467269824374667 and parameters: {'n_estimators': 54, 'max_depth': 87.81289824180898, 'bootstrap': 0, 'split_criterion': 'inverse_gaussian'}. Best is trial 61 with value: 0.850916821684826.\n",
      "[I 2024-04-30 15:17:11,406] Trial 140 finished with value: 0.8489514202282984 and parameters: {'n_estimators': 51, 'max_depth': 71.79013468460329, 'bootstrap': 0, 'split_criterion': 'inverse_gaussian'}. Best is trial 61 with value: 0.850916821684826.\n",
      "[I 2024-04-30 15:17:11,701] Trial 141 finished with value: 0.8508609271523179 and parameters: {'n_estimators': 49, 'max_depth': 87.42429862758368, 'bootstrap': 0, 'split_criterion': 'inverse_gaussian'}. Best is trial 61 with value: 0.850916821684826.\n",
      "[I 2024-04-30 15:17:12,011] Trial 142 finished with value: 0.850916821684826 and parameters: {'n_estimators': 50, 'max_depth': 91.96622739664615, 'bootstrap': 0, 'split_criterion': 'inverse_gaussian'}. Best is trial 61 with value: 0.850916821684826.\n",
      "[I 2024-04-30 15:17:12,280] Trial 143 finished with value: 0.8452349349615078 and parameters: {'n_estimators': 43, 'max_depth': 79.20871418141941, 'bootstrap': 0, 'split_criterion': 'inverse_gaussian'}. Best is trial 61 with value: 0.850916821684826.\n",
      "[I 2024-04-30 15:17:12,677] Trial 144 finished with value: 0.8471963858623439 and parameters: {'n_estimators': 52, 'max_depth': 99.31496082025907, 'bootstrap': 0, 'split_criterion': 'inverse_gaussian'}. Best is trial 61 with value: 0.850916821684826.\n",
      "[I 2024-04-30 15:17:12,980] Trial 145 finished with value: 0.847052575677111 and parameters: {'n_estimators': 48, 'max_depth': 64.18667195228205, 'bootstrap': 0, 'split_criterion': 'inverse_gaussian'}. Best is trial 61 with value: 0.850916821684826.\n",
      "[I 2024-04-30 15:17:13,305] Trial 146 finished with value: 0.8458055925432756 and parameters: {'n_estimators': 56, 'max_depth': 85.06588215777863, 'bootstrap': 0, 'split_criterion': 'inverse_gaussian'}. Best is trial 61 with value: 0.850916821684826.\n",
      "[I 2024-04-30 15:17:13,643] Trial 147 finished with value: 0.8461334041987776 and parameters: {'n_estimators': 46, 'max_depth': 76.38774602844954, 'bootstrap': 0, 'split_criterion': 'poisson'}. Best is trial 61 with value: 0.850916821684826.\n",
      "[I 2024-04-30 15:17:14,013] Trial 148 finished with value: 0.846684350132626 and parameters: {'n_estimators': 53, 'max_depth': 89.5761462252036, 'bootstrap': 0, 'split_criterion': 'inverse_gaussian'}. Best is trial 61 with value: 0.850916821684826.\n",
      "[I 2024-04-30 15:17:14,376] Trial 149 finished with value: 0.8508609271523179 and parameters: {'n_estimators': 49, 'max_depth': 70.82547369835974, 'bootstrap': 0, 'split_criterion': 'inverse_gaussian'}. Best is trial 61 with value: 0.850916821684826.\n"
     ]
    }
   ],
   "source": [
    "# create a study\n",
    "study = optuna.create_study(direction='maximize')\n",
    "study.optimize(objective_RF, n_trials=150)\n",
    "# get the best trial\n",
    "trial = study.best_trial"
   ]
  },
  {
   "cell_type": "code",
   "execution_count": 4,
   "metadata": {},
   "outputs": [
    {
     "name": "stdout",
     "output_type": "stream",
     "text": [
      "F1 score: 85.09168216848259\n",
      "Best hyperparameters: {'n_estimators': 50, 'max_depth': 81.47820505829577, 'bootstrap': 0, 'split_criterion': 'inverse_gaussian'}\n"
     ]
    }
   ],
   "source": [
    "print('F1 score: {}'.format(trial.value * 100))\n",
    "print(\"Best hyperparameters: {}\".format(trial.params))"
   ]
  },
  {
   "cell_type": "code",
   "execution_count": null,
   "metadata": {},
   "outputs": [],
   "source": [
    "# best 85.11 n_est 50 , max depth 49 "
   ]
  },
  {
   "cell_type": "code",
   "execution_count": 4,
   "metadata": {},
   "outputs": [
    {
     "data": {
      "application/vnd.plotly.v1+json": {
       "config": {
        "plotlyServerURL": "https://plot.ly"
       },
       "data": [
        {
         "mode": "markers",
         "name": "Objective Value",
         "type": "scatter",
         "x": [
          0,
          1,
          2,
          3,
          4,
          5,
          6,
          7,
          8,
          9,
          10,
          11,
          12,
          13,
          14,
          15,
          16,
          17,
          18,
          19,
          20,
          21,
          22,
          23,
          24,
          25,
          26,
          27,
          28,
          29,
          30,
          31,
          32,
          33,
          34,
          35,
          36,
          37,
          38,
          39,
          40,
          41,
          42,
          43,
          44,
          45,
          46,
          47,
          48,
          49,
          50,
          51,
          52,
          53,
          54,
          55,
          56,
          57,
          58,
          59,
          60,
          61,
          62,
          63,
          64,
          65,
          66,
          67,
          68,
          69,
          70,
          71,
          72,
          73,
          74,
          75,
          76,
          77,
          78,
          79,
          80,
          81,
          82,
          83,
          84,
          85,
          86,
          87,
          88,
          89,
          90,
          91,
          92,
          93,
          94,
          95,
          96,
          97,
          98,
          99,
          100,
          101,
          102,
          103,
          104,
          105,
          106,
          107,
          108,
          109,
          110,
          111,
          112,
          113,
          114,
          115,
          116,
          117,
          118,
          119,
          120,
          121,
          122,
          123,
          124,
          125,
          126,
          127,
          128,
          129,
          130,
          131,
          132,
          133,
          134,
          135,
          136,
          137,
          138,
          139,
          140,
          141,
          142,
          143,
          144,
          145,
          146,
          147,
          148,
          149
         ],
         "y": [
          0.5950226244343891,
          0.7191873589164786,
          0.7126865671641791,
          0.6873661670235546,
          0.7375577916779984,
          0.6833333333333333,
          0.7411003236245954,
          0.5583697234352256,
          0.6705539358600583,
          0.7165717385408191,
          0.7419267299864315,
          0.7419267299864315,
          0.7145547484530536,
          0.7419267299864315,
          0.715503462972829,
          0.5926336194959845,
          0.7193169690501601,
          0.68425346750068,
          0.7337627482555019,
          0.670906200317965,
          0.7229766431287343,
          0.734982332155477,
          0.7238504974455499,
          0.7381017133532771,
          0.7145547484530536,
          0.7236126224156693,
          0.7447268793942672,
          0.7238504974455499,
          0.7371273712737128,
          0.7152282924254421,
          0.5926336194959845,
          0.7419267299864315,
          0.7371273712737128,
          0.7296346414073072,
          0.717292832400746,
          0.7319195214790647,
          0.682258064516129,
          0.7399893219434063,
          0.7419267299864315,
          0.716360646752535,
          0.7371273712737128,
          0.7419267299864315,
          0.7381017133532771,
          0.7337627482555019,
          0.6802433218725205,
          0.7141304347826087,
          0.7296346414073072,
          0.7447268793942672,
          0.7094882729211087,
          0.7371273712737128,
          0.7232334047109208,
          0.7419267299864315,
          0.7337627482555019,
          0.7381017133532771,
          0.7337627482555019,
          0.734982332155477,
          0.7462767397779583,
          0.723267060720043,
          0.6529535864978903,
          0.7289677125966348,
          0.7462767397779583,
          0.7371273712737128,
          0.7493217580032555,
          0.7493217580032555,
          0.739636954754809,
          0.7493217580032555,
          0.7493217580032555,
          0.7332613390928726,
          0.6529535864978903,
          0.7493217580032555,
          0.7224906065485776,
          0.7493217580032555,
          0.7493217580032555,
          0.739636954754809,
          0.7332613390928726,
          0.739636954754809,
          0.7478877078222949,
          0.7478877078222949,
          0.7386759581881533,
          0.39443834613977313,
          0.7405405405405405,
          0.7478877078222949,
          0.7478877078222949,
          0.7405405405405405,
          0.7254797441364605,
          0.7478877078222949,
          0.7411003236245954,
          0.6800966962127317,
          0.7386759581881533,
          0.7330462863293864,
          0.7493217580032555,
          0.739636954754809,
          0.7493217580032555,
          0.739636954754809,
          0.7462767397779583,
          0.7371273712737128,
          0.7493217580032555,
          0.7462767397779583,
          0.684494867639114,
          0.7493217580032555,
          0.6958322547243075,
          0.7493217580032555,
          0.739636954754809,
          0.739636954754809,
          0.7493217580032555,
          0.7330462863293864,
          0.7332613390928726,
          0.739636954754809,
          0.7369855546470427,
          0.7493217580032555,
          0.6529535864978903,
          0.7493217580032555,
          0.739636954754809,
          0.7493217580032555,
          0.7493217580032555,
          0.7462767397779583,
          0.739636954754809,
          0.739636954754809,
          0.7332613390928726,
          0.7462767397779583,
          0.739636954754809,
          0.7493217580032555,
          0.7493217580032555,
          0.739636954754809,
          0.7462767397779583,
          0.7493217580032555,
          0.739636954754809,
          0.7347719202403715,
          0.739636954754809,
          0.739636954754809,
          0.7462767397779583,
          0.7493217580032555,
          0.739636954754809,
          0.7493217580032555,
          0.7493217580032555,
          0.739636954754809,
          0.7493217580032555,
          0.7187583623227187,
          0.7330462863293864,
          0.7493217580032555,
          0.739636954754809,
          0.7493217580032555,
          0.7493217580032555,
          0.739636954754809,
          0.739636954754809,
          0.7493217580032555,
          0.7371273712737128,
          0.7493217580032555,
          0.670906200317965,
          0.7332613390928726
         ]
        },
        {
         "mode": "lines",
         "name": "Best Value",
         "type": "scatter",
         "x": [
          0,
          1,
          2,
          3,
          4,
          5,
          6,
          7,
          8,
          9,
          10,
          11,
          12,
          13,
          14,
          15,
          16,
          17,
          18,
          19,
          20,
          21,
          22,
          23,
          24,
          25,
          26,
          27,
          28,
          29,
          30,
          31,
          32,
          33,
          34,
          35,
          36,
          37,
          38,
          39,
          40,
          41,
          42,
          43,
          44,
          45,
          46,
          47,
          48,
          49,
          50,
          51,
          52,
          53,
          54,
          55,
          56,
          57,
          58,
          59,
          60,
          61,
          62,
          63,
          64,
          65,
          66,
          67,
          68,
          69,
          70,
          71,
          72,
          73,
          74,
          75,
          76,
          77,
          78,
          79,
          80,
          81,
          82,
          83,
          84,
          85,
          86,
          87,
          88,
          89,
          90,
          91,
          92,
          93,
          94,
          95,
          96,
          97,
          98,
          99,
          100,
          101,
          102,
          103,
          104,
          105,
          106,
          107,
          108,
          109,
          110,
          111,
          112,
          113,
          114,
          115,
          116,
          117,
          118,
          119,
          120,
          121,
          122,
          123,
          124,
          125,
          126,
          127,
          128,
          129,
          130,
          131,
          132,
          133,
          134,
          135,
          136,
          137,
          138,
          139,
          140,
          141,
          142,
          143,
          144,
          145,
          146,
          147,
          148,
          149
         ],
         "y": [
          0.5950226244343891,
          0.7191873589164786,
          0.7191873589164786,
          0.7191873589164786,
          0.7375577916779984,
          0.7375577916779984,
          0.7411003236245954,
          0.7411003236245954,
          0.7411003236245954,
          0.7411003236245954,
          0.7419267299864315,
          0.7419267299864315,
          0.7419267299864315,
          0.7419267299864315,
          0.7419267299864315,
          0.7419267299864315,
          0.7419267299864315,
          0.7419267299864315,
          0.7419267299864315,
          0.7419267299864315,
          0.7419267299864315,
          0.7419267299864315,
          0.7419267299864315,
          0.7419267299864315,
          0.7419267299864315,
          0.7419267299864315,
          0.7447268793942672,
          0.7447268793942672,
          0.7447268793942672,
          0.7447268793942672,
          0.7447268793942672,
          0.7447268793942672,
          0.7447268793942672,
          0.7447268793942672,
          0.7447268793942672,
          0.7447268793942672,
          0.7447268793942672,
          0.7447268793942672,
          0.7447268793942672,
          0.7447268793942672,
          0.7447268793942672,
          0.7447268793942672,
          0.7447268793942672,
          0.7447268793942672,
          0.7447268793942672,
          0.7447268793942672,
          0.7447268793942672,
          0.7447268793942672,
          0.7447268793942672,
          0.7447268793942672,
          0.7447268793942672,
          0.7447268793942672,
          0.7447268793942672,
          0.7447268793942672,
          0.7447268793942672,
          0.7447268793942672,
          0.7462767397779583,
          0.7462767397779583,
          0.7462767397779583,
          0.7462767397779583,
          0.7462767397779583,
          0.7462767397779583,
          0.7493217580032555,
          0.7493217580032555,
          0.7493217580032555,
          0.7493217580032555,
          0.7493217580032555,
          0.7493217580032555,
          0.7493217580032555,
          0.7493217580032555,
          0.7493217580032555,
          0.7493217580032555,
          0.7493217580032555,
          0.7493217580032555,
          0.7493217580032555,
          0.7493217580032555,
          0.7493217580032555,
          0.7493217580032555,
          0.7493217580032555,
          0.7493217580032555,
          0.7493217580032555,
          0.7493217580032555,
          0.7493217580032555,
          0.7493217580032555,
          0.7493217580032555,
          0.7493217580032555,
          0.7493217580032555,
          0.7493217580032555,
          0.7493217580032555,
          0.7493217580032555,
          0.7493217580032555,
          0.7493217580032555,
          0.7493217580032555,
          0.7493217580032555,
          0.7493217580032555,
          0.7493217580032555,
          0.7493217580032555,
          0.7493217580032555,
          0.7493217580032555,
          0.7493217580032555,
          0.7493217580032555,
          0.7493217580032555,
          0.7493217580032555,
          0.7493217580032555,
          0.7493217580032555,
          0.7493217580032555,
          0.7493217580032555,
          0.7493217580032555,
          0.7493217580032555,
          0.7493217580032555,
          0.7493217580032555,
          0.7493217580032555,
          0.7493217580032555,
          0.7493217580032555,
          0.7493217580032555,
          0.7493217580032555,
          0.7493217580032555,
          0.7493217580032555,
          0.7493217580032555,
          0.7493217580032555,
          0.7493217580032555,
          0.7493217580032555,
          0.7493217580032555,
          0.7493217580032555,
          0.7493217580032555,
          0.7493217580032555,
          0.7493217580032555,
          0.7493217580032555,
          0.7493217580032555,
          0.7493217580032555,
          0.7493217580032555,
          0.7493217580032555,
          0.7493217580032555,
          0.7493217580032555,
          0.7493217580032555,
          0.7493217580032555,
          0.7493217580032555,
          0.7493217580032555,
          0.7493217580032555,
          0.7493217580032555,
          0.7493217580032555,
          0.7493217580032555,
          0.7493217580032555,
          0.7493217580032555,
          0.7493217580032555,
          0.7493217580032555,
          0.7493217580032555,
          0.7493217580032555,
          0.7493217580032555,
          0.7493217580032555
         ]
        },
        {
         "marker": {
          "color": "#cccccc"
         },
         "mode": "markers",
         "name": "Infeasible Trial",
         "showlegend": false,
         "type": "scatter",
         "x": [],
         "y": []
        }
       ],
       "layout": {
        "template": {
         "data": {
          "bar": [
           {
            "error_x": {
             "color": "#2a3f5f"
            },
            "error_y": {
             "color": "#2a3f5f"
            },
            "marker": {
             "line": {
              "color": "#E5ECF6",
              "width": 0.5
             },
             "pattern": {
              "fillmode": "overlay",
              "size": 10,
              "solidity": 0.2
             }
            },
            "type": "bar"
           }
          ],
          "barpolar": [
           {
            "marker": {
             "line": {
              "color": "#E5ECF6",
              "width": 0.5
             },
             "pattern": {
              "fillmode": "overlay",
              "size": 10,
              "solidity": 0.2
             }
            },
            "type": "barpolar"
           }
          ],
          "carpet": [
           {
            "aaxis": {
             "endlinecolor": "#2a3f5f",
             "gridcolor": "white",
             "linecolor": "white",
             "minorgridcolor": "white",
             "startlinecolor": "#2a3f5f"
            },
            "baxis": {
             "endlinecolor": "#2a3f5f",
             "gridcolor": "white",
             "linecolor": "white",
             "minorgridcolor": "white",
             "startlinecolor": "#2a3f5f"
            },
            "type": "carpet"
           }
          ],
          "choropleth": [
           {
            "colorbar": {
             "outlinewidth": 0,
             "ticks": ""
            },
            "type": "choropleth"
           }
          ],
          "contour": [
           {
            "colorbar": {
             "outlinewidth": 0,
             "ticks": ""
            },
            "colorscale": [
             [
              0,
              "#0d0887"
             ],
             [
              0.1111111111111111,
              "#46039f"
             ],
             [
              0.2222222222222222,
              "#7201a8"
             ],
             [
              0.3333333333333333,
              "#9c179e"
             ],
             [
              0.4444444444444444,
              "#bd3786"
             ],
             [
              0.5555555555555556,
              "#d8576b"
             ],
             [
              0.6666666666666666,
              "#ed7953"
             ],
             [
              0.7777777777777778,
              "#fb9f3a"
             ],
             [
              0.8888888888888888,
              "#fdca26"
             ],
             [
              1,
              "#f0f921"
             ]
            ],
            "type": "contour"
           }
          ],
          "contourcarpet": [
           {
            "colorbar": {
             "outlinewidth": 0,
             "ticks": ""
            },
            "type": "contourcarpet"
           }
          ],
          "heatmap": [
           {
            "colorbar": {
             "outlinewidth": 0,
             "ticks": ""
            },
            "colorscale": [
             [
              0,
              "#0d0887"
             ],
             [
              0.1111111111111111,
              "#46039f"
             ],
             [
              0.2222222222222222,
              "#7201a8"
             ],
             [
              0.3333333333333333,
              "#9c179e"
             ],
             [
              0.4444444444444444,
              "#bd3786"
             ],
             [
              0.5555555555555556,
              "#d8576b"
             ],
             [
              0.6666666666666666,
              "#ed7953"
             ],
             [
              0.7777777777777778,
              "#fb9f3a"
             ],
             [
              0.8888888888888888,
              "#fdca26"
             ],
             [
              1,
              "#f0f921"
             ]
            ],
            "type": "heatmap"
           }
          ],
          "heatmapgl": [
           {
            "colorbar": {
             "outlinewidth": 0,
             "ticks": ""
            },
            "colorscale": [
             [
              0,
              "#0d0887"
             ],
             [
              0.1111111111111111,
              "#46039f"
             ],
             [
              0.2222222222222222,
              "#7201a8"
             ],
             [
              0.3333333333333333,
              "#9c179e"
             ],
             [
              0.4444444444444444,
              "#bd3786"
             ],
             [
              0.5555555555555556,
              "#d8576b"
             ],
             [
              0.6666666666666666,
              "#ed7953"
             ],
             [
              0.7777777777777778,
              "#fb9f3a"
             ],
             [
              0.8888888888888888,
              "#fdca26"
             ],
             [
              1,
              "#f0f921"
             ]
            ],
            "type": "heatmapgl"
           }
          ],
          "histogram": [
           {
            "marker": {
             "pattern": {
              "fillmode": "overlay",
              "size": 10,
              "solidity": 0.2
             }
            },
            "type": "histogram"
           }
          ],
          "histogram2d": [
           {
            "colorbar": {
             "outlinewidth": 0,
             "ticks": ""
            },
            "colorscale": [
             [
              0,
              "#0d0887"
             ],
             [
              0.1111111111111111,
              "#46039f"
             ],
             [
              0.2222222222222222,
              "#7201a8"
             ],
             [
              0.3333333333333333,
              "#9c179e"
             ],
             [
              0.4444444444444444,
              "#bd3786"
             ],
             [
              0.5555555555555556,
              "#d8576b"
             ],
             [
              0.6666666666666666,
              "#ed7953"
             ],
             [
              0.7777777777777778,
              "#fb9f3a"
             ],
             [
              0.8888888888888888,
              "#fdca26"
             ],
             [
              1,
              "#f0f921"
             ]
            ],
            "type": "histogram2d"
           }
          ],
          "histogram2dcontour": [
           {
            "colorbar": {
             "outlinewidth": 0,
             "ticks": ""
            },
            "colorscale": [
             [
              0,
              "#0d0887"
             ],
             [
              0.1111111111111111,
              "#46039f"
             ],
             [
              0.2222222222222222,
              "#7201a8"
             ],
             [
              0.3333333333333333,
              "#9c179e"
             ],
             [
              0.4444444444444444,
              "#bd3786"
             ],
             [
              0.5555555555555556,
              "#d8576b"
             ],
             [
              0.6666666666666666,
              "#ed7953"
             ],
             [
              0.7777777777777778,
              "#fb9f3a"
             ],
             [
              0.8888888888888888,
              "#fdca26"
             ],
             [
              1,
              "#f0f921"
             ]
            ],
            "type": "histogram2dcontour"
           }
          ],
          "mesh3d": [
           {
            "colorbar": {
             "outlinewidth": 0,
             "ticks": ""
            },
            "type": "mesh3d"
           }
          ],
          "parcoords": [
           {
            "line": {
             "colorbar": {
              "outlinewidth": 0,
              "ticks": ""
             }
            },
            "type": "parcoords"
           }
          ],
          "pie": [
           {
            "automargin": true,
            "type": "pie"
           }
          ],
          "scatter": [
           {
            "fillpattern": {
             "fillmode": "overlay",
             "size": 10,
             "solidity": 0.2
            },
            "type": "scatter"
           }
          ],
          "scatter3d": [
           {
            "line": {
             "colorbar": {
              "outlinewidth": 0,
              "ticks": ""
             }
            },
            "marker": {
             "colorbar": {
              "outlinewidth": 0,
              "ticks": ""
             }
            },
            "type": "scatter3d"
           }
          ],
          "scattercarpet": [
           {
            "marker": {
             "colorbar": {
              "outlinewidth": 0,
              "ticks": ""
             }
            },
            "type": "scattercarpet"
           }
          ],
          "scattergeo": [
           {
            "marker": {
             "colorbar": {
              "outlinewidth": 0,
              "ticks": ""
             }
            },
            "type": "scattergeo"
           }
          ],
          "scattergl": [
           {
            "marker": {
             "colorbar": {
              "outlinewidth": 0,
              "ticks": ""
             }
            },
            "type": "scattergl"
           }
          ],
          "scattermapbox": [
           {
            "marker": {
             "colorbar": {
              "outlinewidth": 0,
              "ticks": ""
             }
            },
            "type": "scattermapbox"
           }
          ],
          "scatterpolar": [
           {
            "marker": {
             "colorbar": {
              "outlinewidth": 0,
              "ticks": ""
             }
            },
            "type": "scatterpolar"
           }
          ],
          "scatterpolargl": [
           {
            "marker": {
             "colorbar": {
              "outlinewidth": 0,
              "ticks": ""
             }
            },
            "type": "scatterpolargl"
           }
          ],
          "scatterternary": [
           {
            "marker": {
             "colorbar": {
              "outlinewidth": 0,
              "ticks": ""
             }
            },
            "type": "scatterternary"
           }
          ],
          "surface": [
           {
            "colorbar": {
             "outlinewidth": 0,
             "ticks": ""
            },
            "colorscale": [
             [
              0,
              "#0d0887"
             ],
             [
              0.1111111111111111,
              "#46039f"
             ],
             [
              0.2222222222222222,
              "#7201a8"
             ],
             [
              0.3333333333333333,
              "#9c179e"
             ],
             [
              0.4444444444444444,
              "#bd3786"
             ],
             [
              0.5555555555555556,
              "#d8576b"
             ],
             [
              0.6666666666666666,
              "#ed7953"
             ],
             [
              0.7777777777777778,
              "#fb9f3a"
             ],
             [
              0.8888888888888888,
              "#fdca26"
             ],
             [
              1,
              "#f0f921"
             ]
            ],
            "type": "surface"
           }
          ],
          "table": [
           {
            "cells": {
             "fill": {
              "color": "#EBF0F8"
             },
             "line": {
              "color": "white"
             }
            },
            "header": {
             "fill": {
              "color": "#C8D4E3"
             },
             "line": {
              "color": "white"
             }
            },
            "type": "table"
           }
          ]
         },
         "layout": {
          "annotationdefaults": {
           "arrowcolor": "#2a3f5f",
           "arrowhead": 0,
           "arrowwidth": 1
          },
          "autotypenumbers": "strict",
          "coloraxis": {
           "colorbar": {
            "outlinewidth": 0,
            "ticks": ""
           }
          },
          "colorscale": {
           "diverging": [
            [
             0,
             "#8e0152"
            ],
            [
             0.1,
             "#c51b7d"
            ],
            [
             0.2,
             "#de77ae"
            ],
            [
             0.3,
             "#f1b6da"
            ],
            [
             0.4,
             "#fde0ef"
            ],
            [
             0.5,
             "#f7f7f7"
            ],
            [
             0.6,
             "#e6f5d0"
            ],
            [
             0.7,
             "#b8e186"
            ],
            [
             0.8,
             "#7fbc41"
            ],
            [
             0.9,
             "#4d9221"
            ],
            [
             1,
             "#276419"
            ]
           ],
           "sequential": [
            [
             0,
             "#0d0887"
            ],
            [
             0.1111111111111111,
             "#46039f"
            ],
            [
             0.2222222222222222,
             "#7201a8"
            ],
            [
             0.3333333333333333,
             "#9c179e"
            ],
            [
             0.4444444444444444,
             "#bd3786"
            ],
            [
             0.5555555555555556,
             "#d8576b"
            ],
            [
             0.6666666666666666,
             "#ed7953"
            ],
            [
             0.7777777777777778,
             "#fb9f3a"
            ],
            [
             0.8888888888888888,
             "#fdca26"
            ],
            [
             1,
             "#f0f921"
            ]
           ],
           "sequentialminus": [
            [
             0,
             "#0d0887"
            ],
            [
             0.1111111111111111,
             "#46039f"
            ],
            [
             0.2222222222222222,
             "#7201a8"
            ],
            [
             0.3333333333333333,
             "#9c179e"
            ],
            [
             0.4444444444444444,
             "#bd3786"
            ],
            [
             0.5555555555555556,
             "#d8576b"
            ],
            [
             0.6666666666666666,
             "#ed7953"
            ],
            [
             0.7777777777777778,
             "#fb9f3a"
            ],
            [
             0.8888888888888888,
             "#fdca26"
            ],
            [
             1,
             "#f0f921"
            ]
           ]
          },
          "colorway": [
           "#636efa",
           "#EF553B",
           "#00cc96",
           "#ab63fa",
           "#FFA15A",
           "#19d3f3",
           "#FF6692",
           "#B6E880",
           "#FF97FF",
           "#FECB52"
          ],
          "font": {
           "color": "#2a3f5f"
          },
          "geo": {
           "bgcolor": "white",
           "lakecolor": "white",
           "landcolor": "#E5ECF6",
           "showlakes": true,
           "showland": true,
           "subunitcolor": "white"
          },
          "hoverlabel": {
           "align": "left"
          },
          "hovermode": "closest",
          "mapbox": {
           "style": "light"
          },
          "paper_bgcolor": "white",
          "plot_bgcolor": "#E5ECF6",
          "polar": {
           "angularaxis": {
            "gridcolor": "white",
            "linecolor": "white",
            "ticks": ""
           },
           "bgcolor": "#E5ECF6",
           "radialaxis": {
            "gridcolor": "white",
            "linecolor": "white",
            "ticks": ""
           }
          },
          "scene": {
           "xaxis": {
            "backgroundcolor": "#E5ECF6",
            "gridcolor": "white",
            "gridwidth": 2,
            "linecolor": "white",
            "showbackground": true,
            "ticks": "",
            "zerolinecolor": "white"
           },
           "yaxis": {
            "backgroundcolor": "#E5ECF6",
            "gridcolor": "white",
            "gridwidth": 2,
            "linecolor": "white",
            "showbackground": true,
            "ticks": "",
            "zerolinecolor": "white"
           },
           "zaxis": {
            "backgroundcolor": "#E5ECF6",
            "gridcolor": "white",
            "gridwidth": 2,
            "linecolor": "white",
            "showbackground": true,
            "ticks": "",
            "zerolinecolor": "white"
           }
          },
          "shapedefaults": {
           "line": {
            "color": "#2a3f5f"
           }
          },
          "ternary": {
           "aaxis": {
            "gridcolor": "white",
            "linecolor": "white",
            "ticks": ""
           },
           "baxis": {
            "gridcolor": "white",
            "linecolor": "white",
            "ticks": ""
           },
           "bgcolor": "#E5ECF6",
           "caxis": {
            "gridcolor": "white",
            "linecolor": "white",
            "ticks": ""
           }
          },
          "title": {
           "x": 0.05
          },
          "xaxis": {
           "automargin": true,
           "gridcolor": "white",
           "linecolor": "white",
           "ticks": "",
           "title": {
            "standoff": 15
           },
           "zerolinecolor": "white",
           "zerolinewidth": 2
          },
          "yaxis": {
           "automargin": true,
           "gridcolor": "white",
           "linecolor": "white",
           "ticks": "",
           "title": {
            "standoff": 15
           },
           "zerolinecolor": "white",
           "zerolinewidth": 2
          }
         }
        },
        "title": {
         "text": "Optimization History Plot"
        },
        "xaxis": {
         "title": {
          "text": "Trial"
         }
        },
        "yaxis": {
         "title": {
          "text": "Objective Value"
         }
        }
       }
      }
     },
     "metadata": {},
     "output_type": "display_data"
    }
   ],
   "source": [
    "plot_optimization_history(study)"
   ]
  },
  {
   "cell_type": "code",
   "execution_count": 5,
   "metadata": {},
   "outputs": [
    {
     "data": {
      "application/vnd.plotly.v1+json": {
       "config": {
        "plotlyServerURL": "https://plot.ly"
       },
       "data": [
        {
         "marker": {
          "color": [
           0,
           1,
           2,
           3,
           4,
           5,
           6,
           7,
           8,
           9,
           10,
           11,
           12,
           13,
           14,
           15,
           16,
           17,
           18,
           19,
           20,
           21,
           22,
           23,
           24,
           25,
           26,
           27,
           28,
           29,
           30,
           31,
           32,
           33,
           34,
           35,
           36,
           37,
           38,
           39,
           40,
           41,
           42,
           43,
           44,
           45,
           46,
           47,
           48,
           49,
           50,
           51,
           52,
           53,
           54,
           55,
           56,
           57,
           58,
           59,
           60,
           61,
           62,
           63,
           64,
           65,
           66,
           67,
           68,
           69,
           70,
           71,
           72,
           73,
           74,
           75,
           76,
           77,
           78,
           79,
           80,
           81,
           82,
           83,
           84,
           85,
           86,
           87,
           88,
           89,
           90,
           91,
           92,
           93,
           94,
           95,
           96,
           97,
           98,
           99,
           100,
           101,
           102,
           103,
           104,
           105,
           106,
           107,
           108,
           109,
           110,
           111,
           112,
           113,
           114,
           115,
           116,
           117,
           118,
           119,
           120,
           121,
           122,
           123,
           124,
           125,
           126,
           127,
           128,
           129,
           130,
           131,
           132,
           133,
           134,
           135,
           136,
           137,
           138,
           139,
           140,
           141,
           142,
           143,
           144,
           145,
           146,
           147,
           148,
           149
          ],
          "colorbar": {
           "title": {
            "text": "Trial"
           },
           "x": 1,
           "xpad": 40
          },
          "colorscale": [
           [
            0,
            "rgb(247,251,255)"
           ],
           [
            0.125,
            "rgb(222,235,247)"
           ],
           [
            0.25,
            "rgb(198,219,239)"
           ],
           [
            0.375,
            "rgb(158,202,225)"
           ],
           [
            0.5,
            "rgb(107,174,214)"
           ],
           [
            0.625,
            "rgb(66,146,198)"
           ],
           [
            0.75,
            "rgb(33,113,181)"
           ],
           [
            0.875,
            "rgb(8,81,156)"
           ],
           [
            1,
            "rgb(8,48,107)"
           ]
          ],
          "line": {
           "color": "Grey",
           "width": 0.5
          },
          "showscale": true
         },
         "mode": "markers",
         "name": "Feasible Trial",
         "showlegend": false,
         "type": "scatter",
         "x": [
          1.8221359485122133,
          6.393222686007981,
          4.116154828547751,
          4.60651098533985,
          9.359036180869984,
          2.4408733670429577,
          8.094898810413106,
          1.3566948274837842,
          2.98370713305942,
          7.014161431317843,
          9.434709328011106,
          9.973650173021683,
          5.73642518969593,
          9.684407547951158,
          4.566687000548157,
          1.1162386857163789,
          5.622491098632314,
          3.415917772002309,
          7.70399011385734,
          2.1173327804801043,
          9.695355098712923,
          8.469950329198493,
          6.939746891244478,
          9.92150369445329,
          5.5910937833852605,
          7.849929734212234,
          9.967151168452023,
          6.614767476062923,
          8.20194356424774,
          4.942902830811729,
          1.6837434456264087,
          9.87899506542638,
          8.722076588113321,
          7.122859711876427,
          5.9905264807370475,
          8.814650571491029,
          3.5627852958545754,
          7.208059189583797,
          9.963517806777995,
          6.31999891509439,
          8.738889633944437,
          9.011865375231224,
          9.878239166918574,
          7.5741306452634065,
          2.7357548613222273,
          5.066222739169482,
          7.99758278991628,
          9.083047526805403,
          4.292703980419275,
          8.92456857978108,
          6.350751784461123,
          9.246749378327552,
          7.988785078032716,
          9.41677053676098,
          7.403572819826803,
          8.398672943944666,
          9.88594437597396,
          6.760270194969828,
          1.1030384816956402,
          7.701561779762013,
          9.195981577639667,
          8.523176359326012,
          9.129497830194042,
          9.265898624647798,
          8.290416079038213,
          9.006956042064594,
          9.104299280895411,
          7.424853276578276,
          1.8865224378654812,
          9.279456180876814,
          6.022577967577392,
          9.258761490765616,
          9.233520476747296,
          8.03425765051326,
          7.004205331628374,
          8.3883314985062,
          9.266277491306141,
          9.240818567475124,
          7.63511170627903,
          1.2806436034158741,
          8.709815594061629,
          9.234477764989297,
          9.42620264415933,
          8.190393414580642,
          6.656627854393192,
          9.489747621204538,
          8.773848136113129,
          3.781076743531643,
          7.16160812246446,
          7.893390790014391,
          9.033035352763306,
          8.982228990059813,
          9.399966024737825,
          8.440716971463758,
          9.490786982256003,
          8.704966006572718,
          9.849015390485162,
          9.883162598404576,
          3.107779242406749,
          9.990090522044166,
          2.5223476074637827,
          9.61628101845145,
          8.087434191976243,
          8.84771307205457,
          9.969382715563565,
          7.434194359843939,
          7.7850566343114895,
          8.406042530411158,
          9.09569932006758,
          9.536581203151494,
          1.0006446559221847,
          9.642353723396534,
          8.638599281632533,
          9.049299215485087,
          9.641976942788265,
          9.975257807356819,
          8.158908920203539,
          8.659199983993144,
          7.7348308500293825,
          9.269370310696214,
          8.234469500470151,
          9.56114679724208,
          9.977533126134183,
          8.913110603873147,
          9.195895503327337,
          9.973199310399151,
          8.50886495150202,
          9.426392871431974,
          8.92745762691989,
          8.066282409764138,
          9.578959671959321,
          9.419952015371898,
          8.694216400421128,
          9.928734780837583,
          9.065488906976082,
          8.46421412810297,
          9.465845900013013,
          5.341263231295236,
          7.552657982069055,
          9.969350988952625,
          8.98016534260379,
          9.529988861521447,
          9.511516423822147,
          8.350966389516179,
          8.982306858251762,
          9.589633310057902,
          8.688250637175067,
          9.141846007078161,
          2.1510906210877625,
          7.8976317237692495
         ],
         "xaxis": "x",
         "y": [
          0.5950226244343891,
          0.7191873589164786,
          0.7126865671641791,
          0.6873661670235546,
          0.7375577916779984,
          0.6833333333333333,
          0.7411003236245954,
          0.5583697234352256,
          0.6705539358600583,
          0.7165717385408191,
          0.7419267299864315,
          0.7419267299864315,
          0.7145547484530536,
          0.7419267299864315,
          0.715503462972829,
          0.5926336194959845,
          0.7193169690501601,
          0.68425346750068,
          0.7337627482555019,
          0.670906200317965,
          0.7229766431287343,
          0.734982332155477,
          0.7238504974455499,
          0.7381017133532771,
          0.7145547484530536,
          0.7236126224156693,
          0.7447268793942672,
          0.7238504974455499,
          0.7371273712737128,
          0.7152282924254421,
          0.5926336194959845,
          0.7419267299864315,
          0.7371273712737128,
          0.7296346414073072,
          0.717292832400746,
          0.7319195214790647,
          0.682258064516129,
          0.7399893219434063,
          0.7419267299864315,
          0.716360646752535,
          0.7371273712737128,
          0.7419267299864315,
          0.7381017133532771,
          0.7337627482555019,
          0.6802433218725205,
          0.7141304347826087,
          0.7296346414073072,
          0.7447268793942672,
          0.7094882729211087,
          0.7371273712737128,
          0.7232334047109208,
          0.7419267299864315,
          0.7337627482555019,
          0.7381017133532771,
          0.7337627482555019,
          0.734982332155477,
          0.7462767397779583,
          0.723267060720043,
          0.6529535864978903,
          0.7289677125966348,
          0.7462767397779583,
          0.7371273712737128,
          0.7493217580032555,
          0.7493217580032555,
          0.739636954754809,
          0.7493217580032555,
          0.7493217580032555,
          0.7332613390928726,
          0.6529535864978903,
          0.7493217580032555,
          0.7224906065485776,
          0.7493217580032555,
          0.7493217580032555,
          0.739636954754809,
          0.7332613390928726,
          0.739636954754809,
          0.7478877078222949,
          0.7478877078222949,
          0.7386759581881533,
          0.39443834613977313,
          0.7405405405405405,
          0.7478877078222949,
          0.7478877078222949,
          0.7405405405405405,
          0.7254797441364605,
          0.7478877078222949,
          0.7411003236245954,
          0.6800966962127317,
          0.7386759581881533,
          0.7330462863293864,
          0.7493217580032555,
          0.739636954754809,
          0.7493217580032555,
          0.739636954754809,
          0.7462767397779583,
          0.7371273712737128,
          0.7493217580032555,
          0.7462767397779583,
          0.684494867639114,
          0.7493217580032555,
          0.6958322547243075,
          0.7493217580032555,
          0.739636954754809,
          0.739636954754809,
          0.7493217580032555,
          0.7330462863293864,
          0.7332613390928726,
          0.739636954754809,
          0.7369855546470427,
          0.7493217580032555,
          0.6529535864978903,
          0.7493217580032555,
          0.739636954754809,
          0.7493217580032555,
          0.7493217580032555,
          0.7462767397779583,
          0.739636954754809,
          0.739636954754809,
          0.7332613390928726,
          0.7462767397779583,
          0.739636954754809,
          0.7493217580032555,
          0.7493217580032555,
          0.739636954754809,
          0.7462767397779583,
          0.7493217580032555,
          0.739636954754809,
          0.7347719202403715,
          0.739636954754809,
          0.739636954754809,
          0.7462767397779583,
          0.7493217580032555,
          0.739636954754809,
          0.7493217580032555,
          0.7493217580032555,
          0.739636954754809,
          0.7493217580032555,
          0.7187583623227187,
          0.7330462863293864,
          0.7493217580032555,
          0.739636954754809,
          0.7493217580032555,
          0.7493217580032555,
          0.739636954754809,
          0.739636954754809,
          0.7493217580032555,
          0.7371273712737128,
          0.7493217580032555,
          0.670906200317965,
          0.7332613390928726
         ],
         "yaxis": "y"
        },
        {
         "marker": {
          "color": [
           0,
           1,
           2,
           3,
           4,
           5,
           6,
           7,
           8,
           9,
           10,
           11,
           12,
           13,
           14,
           15,
           16,
           17,
           18,
           19,
           20,
           21,
           22,
           23,
           24,
           25,
           26,
           27,
           28,
           29,
           30,
           31,
           32,
           33,
           34,
           35,
           36,
           37,
           38,
           39,
           40,
           41,
           42,
           43,
           44,
           45,
           46,
           47,
           48,
           49,
           50,
           51,
           52,
           53,
           54,
           55,
           56,
           57,
           58,
           59,
           60,
           61,
           62,
           63,
           64,
           65,
           66,
           67,
           68,
           69,
           70,
           71,
           72,
           73,
           74,
           75,
           76,
           77,
           78,
           79,
           80,
           81,
           82,
           83,
           84,
           85,
           86,
           87,
           88,
           89,
           90,
           91,
           92,
           93,
           94,
           95,
           96,
           97,
           98,
           99,
           100,
           101,
           102,
           103,
           104,
           105,
           106,
           107,
           108,
           109,
           110,
           111,
           112,
           113,
           114,
           115,
           116,
           117,
           118,
           119,
           120,
           121,
           122,
           123,
           124,
           125,
           126,
           127,
           128,
           129,
           130,
           131,
           132,
           133,
           134,
           135,
           136,
           137,
           138,
           139,
           140,
           141,
           142,
           143,
           144,
           145,
           146,
           147,
           148,
           149
          ],
          "colorbar": {
           "title": {
            "text": "Trial"
           },
           "x": 1,
           "xpad": 40
          },
          "colorscale": [
           [
            0,
            "rgb(247,251,255)"
           ],
           [
            0.125,
            "rgb(222,235,247)"
           ],
           [
            0.25,
            "rgb(198,219,239)"
           ],
           [
            0.375,
            "rgb(158,202,225)"
           ],
           [
            0.5,
            "rgb(107,174,214)"
           ],
           [
            0.625,
            "rgb(66,146,198)"
           ],
           [
            0.75,
            "rgb(33,113,181)"
           ],
           [
            0.875,
            "rgb(8,81,156)"
           ],
           [
            1,
            "rgb(8,48,107)"
           ]
          ],
          "line": {
           "color": "Grey",
           "width": 0.5
          },
          "showscale": false
         },
         "mode": "markers",
         "name": "Feasible Trial",
         "showlegend": false,
         "type": "scatter",
         "x": [
          9,
          1,
          9,
          3,
          5,
          6,
          9,
          4,
          10,
          3,
          7,
          7,
          7,
          7,
          7,
          6,
          8,
          5,
          8,
          10,
          1,
          7,
          8,
          6,
          7,
          5,
          8,
          8,
          9,
          8,
          6,
          7,
          9,
          7,
          9,
          6,
          4,
          8,
          7,
          5,
          9,
          7,
          6,
          8,
          7,
          6,
          7,
          8,
          10,
          9,
          8,
          7,
          8,
          6,
          8,
          7,
          9,
          9,
          10,
          1,
          9,
          9,
          10,
          10,
          10,
          10,
          10,
          10,
          10,
          10,
          10,
          10,
          10,
          10,
          10,
          10,
          10,
          10,
          10,
          2,
          10,
          10,
          10,
          10,
          9,
          10,
          9,
          10,
          10,
          9,
          10,
          10,
          10,
          10,
          9,
          9,
          10,
          9,
          10,
          10,
          9,
          10,
          10,
          10,
          10,
          9,
          10,
          10,
          4,
          10,
          10,
          10,
          10,
          10,
          10,
          9,
          10,
          10,
          10,
          9,
          10,
          10,
          10,
          10,
          9,
          10,
          10,
          3,
          10,
          10,
          9,
          10,
          10,
          10,
          10,
          10,
          10,
          10,
          9,
          10,
          10,
          10,
          10,
          10,
          10,
          10,
          9,
          10,
          10,
          10
         ],
         "xaxis": "x2",
         "y": [
          0.5950226244343891,
          0.7191873589164786,
          0.7126865671641791,
          0.6873661670235546,
          0.7375577916779984,
          0.6833333333333333,
          0.7411003236245954,
          0.5583697234352256,
          0.6705539358600583,
          0.7165717385408191,
          0.7419267299864315,
          0.7419267299864315,
          0.7145547484530536,
          0.7419267299864315,
          0.715503462972829,
          0.5926336194959845,
          0.7193169690501601,
          0.68425346750068,
          0.7337627482555019,
          0.670906200317965,
          0.7229766431287343,
          0.734982332155477,
          0.7238504974455499,
          0.7381017133532771,
          0.7145547484530536,
          0.7236126224156693,
          0.7447268793942672,
          0.7238504974455499,
          0.7371273712737128,
          0.7152282924254421,
          0.5926336194959845,
          0.7419267299864315,
          0.7371273712737128,
          0.7296346414073072,
          0.717292832400746,
          0.7319195214790647,
          0.682258064516129,
          0.7399893219434063,
          0.7419267299864315,
          0.716360646752535,
          0.7371273712737128,
          0.7419267299864315,
          0.7381017133532771,
          0.7337627482555019,
          0.6802433218725205,
          0.7141304347826087,
          0.7296346414073072,
          0.7447268793942672,
          0.7094882729211087,
          0.7371273712737128,
          0.7232334047109208,
          0.7419267299864315,
          0.7337627482555019,
          0.7381017133532771,
          0.7337627482555019,
          0.734982332155477,
          0.7462767397779583,
          0.723267060720043,
          0.6529535864978903,
          0.7289677125966348,
          0.7462767397779583,
          0.7371273712737128,
          0.7493217580032555,
          0.7493217580032555,
          0.739636954754809,
          0.7493217580032555,
          0.7493217580032555,
          0.7332613390928726,
          0.6529535864978903,
          0.7493217580032555,
          0.7224906065485776,
          0.7493217580032555,
          0.7493217580032555,
          0.739636954754809,
          0.7332613390928726,
          0.739636954754809,
          0.7478877078222949,
          0.7478877078222949,
          0.7386759581881533,
          0.39443834613977313,
          0.7405405405405405,
          0.7478877078222949,
          0.7478877078222949,
          0.7405405405405405,
          0.7254797441364605,
          0.7478877078222949,
          0.7411003236245954,
          0.6800966962127317,
          0.7386759581881533,
          0.7330462863293864,
          0.7493217580032555,
          0.739636954754809,
          0.7493217580032555,
          0.739636954754809,
          0.7462767397779583,
          0.7371273712737128,
          0.7493217580032555,
          0.7462767397779583,
          0.684494867639114,
          0.7493217580032555,
          0.6958322547243075,
          0.7493217580032555,
          0.739636954754809,
          0.739636954754809,
          0.7493217580032555,
          0.7330462863293864,
          0.7332613390928726,
          0.739636954754809,
          0.7369855546470427,
          0.7493217580032555,
          0.6529535864978903,
          0.7493217580032555,
          0.739636954754809,
          0.7493217580032555,
          0.7493217580032555,
          0.7462767397779583,
          0.739636954754809,
          0.739636954754809,
          0.7332613390928726,
          0.7462767397779583,
          0.739636954754809,
          0.7493217580032555,
          0.7493217580032555,
          0.739636954754809,
          0.7462767397779583,
          0.7493217580032555,
          0.739636954754809,
          0.7347719202403715,
          0.739636954754809,
          0.739636954754809,
          0.7462767397779583,
          0.7493217580032555,
          0.739636954754809,
          0.7493217580032555,
          0.7493217580032555,
          0.739636954754809,
          0.7493217580032555,
          0.7187583623227187,
          0.7330462863293864,
          0.7493217580032555,
          0.739636954754809,
          0.7493217580032555,
          0.7493217580032555,
          0.739636954754809,
          0.739636954754809,
          0.7493217580032555,
          0.7371273712737128,
          0.7493217580032555,
          0.670906200317965,
          0.7332613390928726
         ],
         "yaxis": "y2"
        },
        {
         "marker": {
          "color": [
           0,
           1,
           2,
           3,
           4,
           5,
           6,
           7,
           8,
           9,
           10,
           11,
           12,
           13,
           14,
           15,
           16,
           17,
           18,
           19,
           20,
           21,
           22,
           23,
           24,
           25,
           26,
           27,
           28,
           29,
           30,
           31,
           32,
           33,
           34,
           35,
           36,
           37,
           38,
           39,
           40,
           41,
           42,
           43,
           44,
           45,
           46,
           47,
           48,
           49,
           50,
           51,
           52,
           53,
           54,
           55,
           56,
           57,
           58,
           59,
           60,
           61,
           62,
           63,
           64,
           65,
           66,
           67,
           68,
           69,
           70,
           71,
           72,
           73,
           74,
           75,
           76,
           77,
           78,
           79,
           80,
           81,
           82,
           83,
           84,
           85,
           86,
           87,
           88,
           89,
           90,
           91,
           92,
           93,
           94,
           95,
           96,
           97,
           98,
           99,
           100,
           101,
           102,
           103,
           104,
           105,
           106,
           107,
           108,
           109,
           110,
           111,
           112,
           113,
           114,
           115,
           116,
           117,
           118,
           119,
           120,
           121,
           122,
           123,
           124,
           125,
           126,
           127,
           128,
           129,
           130,
           131,
           132,
           133,
           134,
           135,
           136,
           137,
           138,
           139,
           140,
           141,
           142,
           143,
           144,
           145,
           146,
           147,
           148,
           149
          ],
          "colorbar": {
           "title": {
            "text": "Trial"
           },
           "x": 1,
           "xpad": 40
          },
          "colorscale": [
           [
            0,
            "rgb(247,251,255)"
           ],
           [
            0.125,
            "rgb(222,235,247)"
           ],
           [
            0.25,
            "rgb(198,219,239)"
           ],
           [
            0.375,
            "rgb(158,202,225)"
           ],
           [
            0.5,
            "rgb(107,174,214)"
           ],
           [
            0.625,
            "rgb(66,146,198)"
           ],
           [
            0.75,
            "rgb(33,113,181)"
           ],
           [
            0.875,
            "rgb(8,81,156)"
           ],
           [
            1,
            "rgb(8,48,107)"
           ]
          ],
          "line": {
           "color": "Grey",
           "width": 0.5
          },
          "showscale": false
         },
         "mode": "markers",
         "name": "Feasible Trial",
         "showlegend": false,
         "type": "scatter",
         "x": [
          "gini",
          "gini",
          "entropy",
          "gini",
          "entropy",
          "gini",
          "gini",
          "gini",
          "gini",
          "entropy",
          "entropy",
          "entropy",
          "entropy",
          "entropy",
          "entropy",
          "entropy",
          "entropy",
          "entropy",
          "entropy",
          "entropy",
          "entropy",
          "entropy",
          "entropy",
          "entropy",
          "entropy",
          "entropy",
          "entropy",
          "entropy",
          "entropy",
          "entropy",
          "entropy",
          "entropy",
          "entropy",
          "entropy",
          "gini",
          "entropy",
          "entropy",
          "gini",
          "entropy",
          "gini",
          "entropy",
          "entropy",
          "entropy",
          "entropy",
          "entropy",
          "gini",
          "entropy",
          "entropy",
          "entropy",
          "entropy",
          "gini",
          "entropy",
          "entropy",
          "entropy",
          "entropy",
          "entropy",
          "entropy",
          "entropy",
          "entropy",
          "entropy",
          "entropy",
          "entropy",
          "entropy",
          "entropy",
          "entropy",
          "entropy",
          "entropy",
          "entropy",
          "entropy",
          "entropy",
          "entropy",
          "entropy",
          "entropy",
          "entropy",
          "entropy",
          "entropy",
          "gini",
          "gini",
          "gini",
          "gini",
          "gini",
          "gini",
          "gini",
          "gini",
          "gini",
          "gini",
          "gini",
          "gini",
          "gini",
          "entropy",
          "entropy",
          "entropy",
          "entropy",
          "entropy",
          "entropy",
          "entropy",
          "entropy",
          "entropy",
          "entropy",
          "entropy",
          "entropy",
          "entropy",
          "entropy",
          "entropy",
          "entropy",
          "entropy",
          "entropy",
          "entropy",
          "entropy",
          "entropy",
          "entropy",
          "entropy",
          "entropy",
          "entropy",
          "entropy",
          "entropy",
          "entropy",
          "entropy",
          "entropy",
          "entropy",
          "entropy",
          "entropy",
          "entropy",
          "entropy",
          "entropy",
          "entropy",
          "entropy",
          "entropy",
          "entropy",
          "entropy",
          "entropy",
          "entropy",
          "entropy",
          "entropy",
          "entropy",
          "entropy",
          "entropy",
          "entropy",
          "entropy",
          "entropy",
          "entropy",
          "entropy",
          "entropy",
          "entropy",
          "entropy",
          "entropy",
          "entropy",
          "entropy",
          "entropy",
          "entropy"
         ],
         "xaxis": "x3",
         "y": [
          0.5950226244343891,
          0.7191873589164786,
          0.7126865671641791,
          0.6873661670235546,
          0.7375577916779984,
          0.6833333333333333,
          0.7411003236245954,
          0.5583697234352256,
          0.6705539358600583,
          0.7165717385408191,
          0.7419267299864315,
          0.7419267299864315,
          0.7145547484530536,
          0.7419267299864315,
          0.715503462972829,
          0.5926336194959845,
          0.7193169690501601,
          0.68425346750068,
          0.7337627482555019,
          0.670906200317965,
          0.7229766431287343,
          0.734982332155477,
          0.7238504974455499,
          0.7381017133532771,
          0.7145547484530536,
          0.7236126224156693,
          0.7447268793942672,
          0.7238504974455499,
          0.7371273712737128,
          0.7152282924254421,
          0.5926336194959845,
          0.7419267299864315,
          0.7371273712737128,
          0.7296346414073072,
          0.717292832400746,
          0.7319195214790647,
          0.682258064516129,
          0.7399893219434063,
          0.7419267299864315,
          0.716360646752535,
          0.7371273712737128,
          0.7419267299864315,
          0.7381017133532771,
          0.7337627482555019,
          0.6802433218725205,
          0.7141304347826087,
          0.7296346414073072,
          0.7447268793942672,
          0.7094882729211087,
          0.7371273712737128,
          0.7232334047109208,
          0.7419267299864315,
          0.7337627482555019,
          0.7381017133532771,
          0.7337627482555019,
          0.734982332155477,
          0.7462767397779583,
          0.723267060720043,
          0.6529535864978903,
          0.7289677125966348,
          0.7462767397779583,
          0.7371273712737128,
          0.7493217580032555,
          0.7493217580032555,
          0.739636954754809,
          0.7493217580032555,
          0.7493217580032555,
          0.7332613390928726,
          0.6529535864978903,
          0.7493217580032555,
          0.7224906065485776,
          0.7493217580032555,
          0.7493217580032555,
          0.739636954754809,
          0.7332613390928726,
          0.739636954754809,
          0.7478877078222949,
          0.7478877078222949,
          0.7386759581881533,
          0.39443834613977313,
          0.7405405405405405,
          0.7478877078222949,
          0.7478877078222949,
          0.7405405405405405,
          0.7254797441364605,
          0.7478877078222949,
          0.7411003236245954,
          0.6800966962127317,
          0.7386759581881533,
          0.7330462863293864,
          0.7493217580032555,
          0.739636954754809,
          0.7493217580032555,
          0.739636954754809,
          0.7462767397779583,
          0.7371273712737128,
          0.7493217580032555,
          0.7462767397779583,
          0.684494867639114,
          0.7493217580032555,
          0.6958322547243075,
          0.7493217580032555,
          0.739636954754809,
          0.739636954754809,
          0.7493217580032555,
          0.7330462863293864,
          0.7332613390928726,
          0.739636954754809,
          0.7369855546470427,
          0.7493217580032555,
          0.6529535864978903,
          0.7493217580032555,
          0.739636954754809,
          0.7493217580032555,
          0.7493217580032555,
          0.7462767397779583,
          0.739636954754809,
          0.739636954754809,
          0.7332613390928726,
          0.7462767397779583,
          0.739636954754809,
          0.7493217580032555,
          0.7493217580032555,
          0.739636954754809,
          0.7462767397779583,
          0.7493217580032555,
          0.739636954754809,
          0.7347719202403715,
          0.739636954754809,
          0.739636954754809,
          0.7462767397779583,
          0.7493217580032555,
          0.739636954754809,
          0.7493217580032555,
          0.7493217580032555,
          0.739636954754809,
          0.7493217580032555,
          0.7187583623227187,
          0.7330462863293864,
          0.7493217580032555,
          0.739636954754809,
          0.7493217580032555,
          0.7493217580032555,
          0.739636954754809,
          0.739636954754809,
          0.7493217580032555,
          0.7371273712737128,
          0.7493217580032555,
          0.670906200317965,
          0.7332613390928726
         ],
         "yaxis": "y3"
        }
       ],
       "layout": {
        "template": {
         "data": {
          "bar": [
           {
            "error_x": {
             "color": "#2a3f5f"
            },
            "error_y": {
             "color": "#2a3f5f"
            },
            "marker": {
             "line": {
              "color": "#E5ECF6",
              "width": 0.5
             },
             "pattern": {
              "fillmode": "overlay",
              "size": 10,
              "solidity": 0.2
             }
            },
            "type": "bar"
           }
          ],
          "barpolar": [
           {
            "marker": {
             "line": {
              "color": "#E5ECF6",
              "width": 0.5
             },
             "pattern": {
              "fillmode": "overlay",
              "size": 10,
              "solidity": 0.2
             }
            },
            "type": "barpolar"
           }
          ],
          "carpet": [
           {
            "aaxis": {
             "endlinecolor": "#2a3f5f",
             "gridcolor": "white",
             "linecolor": "white",
             "minorgridcolor": "white",
             "startlinecolor": "#2a3f5f"
            },
            "baxis": {
             "endlinecolor": "#2a3f5f",
             "gridcolor": "white",
             "linecolor": "white",
             "minorgridcolor": "white",
             "startlinecolor": "#2a3f5f"
            },
            "type": "carpet"
           }
          ],
          "choropleth": [
           {
            "colorbar": {
             "outlinewidth": 0,
             "ticks": ""
            },
            "type": "choropleth"
           }
          ],
          "contour": [
           {
            "colorbar": {
             "outlinewidth": 0,
             "ticks": ""
            },
            "colorscale": [
             [
              0,
              "#0d0887"
             ],
             [
              0.1111111111111111,
              "#46039f"
             ],
             [
              0.2222222222222222,
              "#7201a8"
             ],
             [
              0.3333333333333333,
              "#9c179e"
             ],
             [
              0.4444444444444444,
              "#bd3786"
             ],
             [
              0.5555555555555556,
              "#d8576b"
             ],
             [
              0.6666666666666666,
              "#ed7953"
             ],
             [
              0.7777777777777778,
              "#fb9f3a"
             ],
             [
              0.8888888888888888,
              "#fdca26"
             ],
             [
              1,
              "#f0f921"
             ]
            ],
            "type": "contour"
           }
          ],
          "contourcarpet": [
           {
            "colorbar": {
             "outlinewidth": 0,
             "ticks": ""
            },
            "type": "contourcarpet"
           }
          ],
          "heatmap": [
           {
            "colorbar": {
             "outlinewidth": 0,
             "ticks": ""
            },
            "colorscale": [
             [
              0,
              "#0d0887"
             ],
             [
              0.1111111111111111,
              "#46039f"
             ],
             [
              0.2222222222222222,
              "#7201a8"
             ],
             [
              0.3333333333333333,
              "#9c179e"
             ],
             [
              0.4444444444444444,
              "#bd3786"
             ],
             [
              0.5555555555555556,
              "#d8576b"
             ],
             [
              0.6666666666666666,
              "#ed7953"
             ],
             [
              0.7777777777777778,
              "#fb9f3a"
             ],
             [
              0.8888888888888888,
              "#fdca26"
             ],
             [
              1,
              "#f0f921"
             ]
            ],
            "type": "heatmap"
           }
          ],
          "heatmapgl": [
           {
            "colorbar": {
             "outlinewidth": 0,
             "ticks": ""
            },
            "colorscale": [
             [
              0,
              "#0d0887"
             ],
             [
              0.1111111111111111,
              "#46039f"
             ],
             [
              0.2222222222222222,
              "#7201a8"
             ],
             [
              0.3333333333333333,
              "#9c179e"
             ],
             [
              0.4444444444444444,
              "#bd3786"
             ],
             [
              0.5555555555555556,
              "#d8576b"
             ],
             [
              0.6666666666666666,
              "#ed7953"
             ],
             [
              0.7777777777777778,
              "#fb9f3a"
             ],
             [
              0.8888888888888888,
              "#fdca26"
             ],
             [
              1,
              "#f0f921"
             ]
            ],
            "type": "heatmapgl"
           }
          ],
          "histogram": [
           {
            "marker": {
             "pattern": {
              "fillmode": "overlay",
              "size": 10,
              "solidity": 0.2
             }
            },
            "type": "histogram"
           }
          ],
          "histogram2d": [
           {
            "colorbar": {
             "outlinewidth": 0,
             "ticks": ""
            },
            "colorscale": [
             [
              0,
              "#0d0887"
             ],
             [
              0.1111111111111111,
              "#46039f"
             ],
             [
              0.2222222222222222,
              "#7201a8"
             ],
             [
              0.3333333333333333,
              "#9c179e"
             ],
             [
              0.4444444444444444,
              "#bd3786"
             ],
             [
              0.5555555555555556,
              "#d8576b"
             ],
             [
              0.6666666666666666,
              "#ed7953"
             ],
             [
              0.7777777777777778,
              "#fb9f3a"
             ],
             [
              0.8888888888888888,
              "#fdca26"
             ],
             [
              1,
              "#f0f921"
             ]
            ],
            "type": "histogram2d"
           }
          ],
          "histogram2dcontour": [
           {
            "colorbar": {
             "outlinewidth": 0,
             "ticks": ""
            },
            "colorscale": [
             [
              0,
              "#0d0887"
             ],
             [
              0.1111111111111111,
              "#46039f"
             ],
             [
              0.2222222222222222,
              "#7201a8"
             ],
             [
              0.3333333333333333,
              "#9c179e"
             ],
             [
              0.4444444444444444,
              "#bd3786"
             ],
             [
              0.5555555555555556,
              "#d8576b"
             ],
             [
              0.6666666666666666,
              "#ed7953"
             ],
             [
              0.7777777777777778,
              "#fb9f3a"
             ],
             [
              0.8888888888888888,
              "#fdca26"
             ],
             [
              1,
              "#f0f921"
             ]
            ],
            "type": "histogram2dcontour"
           }
          ],
          "mesh3d": [
           {
            "colorbar": {
             "outlinewidth": 0,
             "ticks": ""
            },
            "type": "mesh3d"
           }
          ],
          "parcoords": [
           {
            "line": {
             "colorbar": {
              "outlinewidth": 0,
              "ticks": ""
             }
            },
            "type": "parcoords"
           }
          ],
          "pie": [
           {
            "automargin": true,
            "type": "pie"
           }
          ],
          "scatter": [
           {
            "fillpattern": {
             "fillmode": "overlay",
             "size": 10,
             "solidity": 0.2
            },
            "type": "scatter"
           }
          ],
          "scatter3d": [
           {
            "line": {
             "colorbar": {
              "outlinewidth": 0,
              "ticks": ""
             }
            },
            "marker": {
             "colorbar": {
              "outlinewidth": 0,
              "ticks": ""
             }
            },
            "type": "scatter3d"
           }
          ],
          "scattercarpet": [
           {
            "marker": {
             "colorbar": {
              "outlinewidth": 0,
              "ticks": ""
             }
            },
            "type": "scattercarpet"
           }
          ],
          "scattergeo": [
           {
            "marker": {
             "colorbar": {
              "outlinewidth": 0,
              "ticks": ""
             }
            },
            "type": "scattergeo"
           }
          ],
          "scattergl": [
           {
            "marker": {
             "colorbar": {
              "outlinewidth": 0,
              "ticks": ""
             }
            },
            "type": "scattergl"
           }
          ],
          "scattermapbox": [
           {
            "marker": {
             "colorbar": {
              "outlinewidth": 0,
              "ticks": ""
             }
            },
            "type": "scattermapbox"
           }
          ],
          "scatterpolar": [
           {
            "marker": {
             "colorbar": {
              "outlinewidth": 0,
              "ticks": ""
             }
            },
            "type": "scatterpolar"
           }
          ],
          "scatterpolargl": [
           {
            "marker": {
             "colorbar": {
              "outlinewidth": 0,
              "ticks": ""
             }
            },
            "type": "scatterpolargl"
           }
          ],
          "scatterternary": [
           {
            "marker": {
             "colorbar": {
              "outlinewidth": 0,
              "ticks": ""
             }
            },
            "type": "scatterternary"
           }
          ],
          "surface": [
           {
            "colorbar": {
             "outlinewidth": 0,
             "ticks": ""
            },
            "colorscale": [
             [
              0,
              "#0d0887"
             ],
             [
              0.1111111111111111,
              "#46039f"
             ],
             [
              0.2222222222222222,
              "#7201a8"
             ],
             [
              0.3333333333333333,
              "#9c179e"
             ],
             [
              0.4444444444444444,
              "#bd3786"
             ],
             [
              0.5555555555555556,
              "#d8576b"
             ],
             [
              0.6666666666666666,
              "#ed7953"
             ],
             [
              0.7777777777777778,
              "#fb9f3a"
             ],
             [
              0.8888888888888888,
              "#fdca26"
             ],
             [
              1,
              "#f0f921"
             ]
            ],
            "type": "surface"
           }
          ],
          "table": [
           {
            "cells": {
             "fill": {
              "color": "#EBF0F8"
             },
             "line": {
              "color": "white"
             }
            },
            "header": {
             "fill": {
              "color": "#C8D4E3"
             },
             "line": {
              "color": "white"
             }
            },
            "type": "table"
           }
          ]
         },
         "layout": {
          "annotationdefaults": {
           "arrowcolor": "#2a3f5f",
           "arrowhead": 0,
           "arrowwidth": 1
          },
          "autotypenumbers": "strict",
          "coloraxis": {
           "colorbar": {
            "outlinewidth": 0,
            "ticks": ""
           }
          },
          "colorscale": {
           "diverging": [
            [
             0,
             "#8e0152"
            ],
            [
             0.1,
             "#c51b7d"
            ],
            [
             0.2,
             "#de77ae"
            ],
            [
             0.3,
             "#f1b6da"
            ],
            [
             0.4,
             "#fde0ef"
            ],
            [
             0.5,
             "#f7f7f7"
            ],
            [
             0.6,
             "#e6f5d0"
            ],
            [
             0.7,
             "#b8e186"
            ],
            [
             0.8,
             "#7fbc41"
            ],
            [
             0.9,
             "#4d9221"
            ],
            [
             1,
             "#276419"
            ]
           ],
           "sequential": [
            [
             0,
             "#0d0887"
            ],
            [
             0.1111111111111111,
             "#46039f"
            ],
            [
             0.2222222222222222,
             "#7201a8"
            ],
            [
             0.3333333333333333,
             "#9c179e"
            ],
            [
             0.4444444444444444,
             "#bd3786"
            ],
            [
             0.5555555555555556,
             "#d8576b"
            ],
            [
             0.6666666666666666,
             "#ed7953"
            ],
            [
             0.7777777777777778,
             "#fb9f3a"
            ],
            [
             0.8888888888888888,
             "#fdca26"
            ],
            [
             1,
             "#f0f921"
            ]
           ],
           "sequentialminus": [
            [
             0,
             "#0d0887"
            ],
            [
             0.1111111111111111,
             "#46039f"
            ],
            [
             0.2222222222222222,
             "#7201a8"
            ],
            [
             0.3333333333333333,
             "#9c179e"
            ],
            [
             0.4444444444444444,
             "#bd3786"
            ],
            [
             0.5555555555555556,
             "#d8576b"
            ],
            [
             0.6666666666666666,
             "#ed7953"
            ],
            [
             0.7777777777777778,
             "#fb9f3a"
            ],
            [
             0.8888888888888888,
             "#fdca26"
            ],
            [
             1,
             "#f0f921"
            ]
           ]
          },
          "colorway": [
           "#636efa",
           "#EF553B",
           "#00cc96",
           "#ab63fa",
           "#FFA15A",
           "#19d3f3",
           "#FF6692",
           "#B6E880",
           "#FF97FF",
           "#FECB52"
          ],
          "font": {
           "color": "#2a3f5f"
          },
          "geo": {
           "bgcolor": "white",
           "lakecolor": "white",
           "landcolor": "#E5ECF6",
           "showlakes": true,
           "showland": true,
           "subunitcolor": "white"
          },
          "hoverlabel": {
           "align": "left"
          },
          "hovermode": "closest",
          "mapbox": {
           "style": "light"
          },
          "paper_bgcolor": "white",
          "plot_bgcolor": "#E5ECF6",
          "polar": {
           "angularaxis": {
            "gridcolor": "white",
            "linecolor": "white",
            "ticks": ""
           },
           "bgcolor": "#E5ECF6",
           "radialaxis": {
            "gridcolor": "white",
            "linecolor": "white",
            "ticks": ""
           }
          },
          "scene": {
           "xaxis": {
            "backgroundcolor": "#E5ECF6",
            "gridcolor": "white",
            "gridwidth": 2,
            "linecolor": "white",
            "showbackground": true,
            "ticks": "",
            "zerolinecolor": "white"
           },
           "yaxis": {
            "backgroundcolor": "#E5ECF6",
            "gridcolor": "white",
            "gridwidth": 2,
            "linecolor": "white",
            "showbackground": true,
            "ticks": "",
            "zerolinecolor": "white"
           },
           "zaxis": {
            "backgroundcolor": "#E5ECF6",
            "gridcolor": "white",
            "gridwidth": 2,
            "linecolor": "white",
            "showbackground": true,
            "ticks": "",
            "zerolinecolor": "white"
           }
          },
          "shapedefaults": {
           "line": {
            "color": "#2a3f5f"
           }
          },
          "ternary": {
           "aaxis": {
            "gridcolor": "white",
            "linecolor": "white",
            "ticks": ""
           },
           "baxis": {
            "gridcolor": "white",
            "linecolor": "white",
            "ticks": ""
           },
           "bgcolor": "#E5ECF6",
           "caxis": {
            "gridcolor": "white",
            "linecolor": "white",
            "ticks": ""
           }
          },
          "title": {
           "x": 0.05
          },
          "xaxis": {
           "automargin": true,
           "gridcolor": "white",
           "linecolor": "white",
           "ticks": "",
           "title": {
            "standoff": 15
           },
           "zerolinecolor": "white",
           "zerolinewidth": 2
          },
          "yaxis": {
           "automargin": true,
           "gridcolor": "white",
           "linecolor": "white",
           "ticks": "",
           "title": {
            "standoff": 15
           },
           "zerolinecolor": "white",
           "zerolinewidth": 2
          }
         }
        },
        "title": {
         "text": "Slice Plot"
        },
        "xaxis": {
         "anchor": "y",
         "domain": [
          0,
          0.2888888888888889
         ],
         "title": {
          "text": "max_depth"
         },
         "type": "log"
        },
        "xaxis2": {
         "anchor": "y2",
         "domain": [
          0.35555555555555557,
          0.6444444444444445
         ],
         "title": {
          "text": "n_estimators"
         }
        },
        "xaxis3": {
         "anchor": "y3",
         "categoryarray": [
          "gini",
          "entropy"
         ],
         "categoryorder": "array",
         "domain": [
          0.7111111111111111,
          1
         ],
         "title": {
          "text": "split_criterion"
         },
         "type": "category"
        },
        "yaxis": {
         "anchor": "x",
         "domain": [
          0,
          1
         ],
         "title": {
          "text": "Objective Value"
         }
        },
        "yaxis2": {
         "anchor": "x2",
         "domain": [
          0,
          1
         ],
         "matches": "y",
         "showticklabels": false
        },
        "yaxis3": {
         "anchor": "x3",
         "domain": [
          0,
          1
         ],
         "matches": "y",
         "showticklabels": false
        }
       }
      }
     },
     "metadata": {},
     "output_type": "display_data"
    }
   ],
   "source": [
    "plot_slice(study)"
   ]
  },
  {
   "cell_type": "code",
   "execution_count": 6,
   "metadata": {},
   "outputs": [
    {
     "data": {
      "application/vnd.plotly.v1+json": {
       "config": {
        "plotlyServerURL": "https://plot.ly"
       },
       "data": [
        {
         "colorbar": {
          "title": {
           "text": "Objective Value"
          }
         },
         "colorscale": [
          [
           0,
           "rgb(247,251,255)"
          ],
          [
           0.125,
           "rgb(222,235,247)"
          ],
          [
           0.25,
           "rgb(198,219,239)"
          ],
          [
           0.375,
           "rgb(158,202,225)"
          ],
          [
           0.5,
           "rgb(107,174,214)"
          ],
          [
           0.625,
           "rgb(66,146,198)"
          ],
          [
           0.75,
           "rgb(33,113,181)"
          ],
          [
           0.875,
           "rgb(8,81,156)"
          ],
          [
           1,
           "rgb(8,48,107)"
          ]
         ],
         "connectgaps": true,
         "contours": {
          "coloring": "heatmap"
         },
         "hoverinfo": "none",
         "line": {
          "smoothing": 1.3
         },
         "reversescale": false,
         "type": "contour",
         "x": [
          0.8918984376133817,
          1.0006446559221847,
          1.1030384816956402,
          1.1162386857163789,
          1.2806436034158741,
          1.3566948274837842,
          1.6837434456264087,
          1.8221359485122133,
          1.8865224378654812,
          2.1173327804801043,
          2.1510906210877625,
          2.4408733670429577,
          2.5223476074637827,
          2.7357548613222273,
          2.98370713305942,
          3.107779242406749,
          3.415917772002309,
          3.5627852958545754,
          3.781076743531643,
          4.116154828547751,
          4.292703980419275,
          4.566687000548157,
          4.60651098533985,
          4.942902830811729,
          5.066222739169482,
          5.341263231295236,
          5.5910937833852605,
          5.622491098632314,
          5.73642518969593,
          5.9905264807370475,
          6.022577967577392,
          6.31999891509439,
          6.350751784461123,
          6.393222686007981,
          6.614767476062923,
          6.656627854393192,
          6.760270194969828,
          6.939746891244478,
          7.004205331628374,
          7.014161431317843,
          7.122859711876427,
          7.16160812246446,
          7.208059189583797,
          7.403572819826803,
          7.424853276578276,
          7.434194359843939,
          7.552657982069055,
          7.5741306452634065,
          7.63511170627903,
          7.701561779762013,
          7.70399011385734,
          7.7348308500293825,
          7.7850566343114895,
          7.849929734212234,
          7.893390790014391,
          7.8976317237692495,
          7.988785078032716,
          7.99758278991628,
          8.03425765051326,
          8.066282409764138,
          8.087434191976243,
          8.094898810413106,
          8.158908920203539,
          8.190393414580642,
          8.20194356424774,
          8.234469500470151,
          8.290416079038213,
          8.350966389516179,
          8.3883314985062,
          8.398672943944666,
          8.406042530411158,
          8.440716971463758,
          8.46421412810297,
          8.469950329198493,
          8.50886495150202,
          8.523176359326012,
          8.638599281632533,
          8.659199983993144,
          8.688250637175067,
          8.694216400421128,
          8.704966006572718,
          8.709815594061629,
          8.722076588113321,
          8.738889633944437,
          8.773848136113129,
          8.814650571491029,
          8.84771307205457,
          8.913110603873147,
          8.92456857978108,
          8.92745762691989,
          8.98016534260379,
          8.982228990059813,
          8.982306858251762,
          9.006956042064594,
          9.011865375231224,
          9.033035352763306,
          9.049299215485087,
          9.065488906976082,
          9.083047526805403,
          9.09569932006758,
          9.104299280895411,
          9.129497830194042,
          9.141846007078161,
          9.195895503327337,
          9.195981577639667,
          9.233520476747296,
          9.234477764989297,
          9.240818567475124,
          9.246749378327552,
          9.258761490765616,
          9.265898624647798,
          9.266277491306141,
          9.269370310696214,
          9.279456180876814,
          9.359036180869984,
          9.399966024737825,
          9.41677053676098,
          9.419952015371898,
          9.42620264415933,
          9.426392871431974,
          9.434709328011106,
          9.465845900013013,
          9.489747621204538,
          9.490786982256003,
          9.511516423822147,
          9.529988861521447,
          9.536581203151494,
          9.56114679724208,
          9.578959671959321,
          9.589633310057902,
          9.61628101845145,
          9.641976942788265,
          9.642353723396534,
          9.684407547951158,
          9.695355098712923,
          9.849015390485162,
          9.878239166918574,
          9.87899506542638,
          9.883162598404576,
          9.88594437597396,
          9.92150369445329,
          9.928734780837583,
          9.963517806777995,
          9.967151168452023,
          9.969350988952625,
          9.969382715563565,
          9.973199310399151,
          9.973650173021683,
          9.975257807356819,
          9.977533126134183,
          9.990090522044166,
          11.208149124929442
         ],
         "y": [
          0.55,
          1,
          2,
          3,
          4,
          5,
          6,
          7,
          8,
          9,
          10,
          10.45
         ],
         "z": [
          [
           null,
           null,
           null,
           null,
           null,
           null,
           null,
           null,
           null,
           null,
           null,
           null,
           null,
           null,
           null,
           null,
           null,
           null,
           null,
           null,
           null,
           null,
           null,
           null,
           null,
           null,
           null,
           null,
           null,
           null,
           null,
           null,
           null,
           null,
           null,
           null,
           null,
           null,
           null,
           null,
           null,
           null,
           null,
           null,
           null,
           null,
           null,
           null,
           null,
           null,
           null,
           null,
           null,
           null,
           null,
           null,
           null,
           null,
           null,
           null,
           null,
           null,
           null,
           null,
           null,
           null,
           null,
           null,
           null,
           null,
           null,
           null,
           null,
           null,
           null,
           null,
           null,
           null,
           null,
           null,
           null,
           null,
           null,
           null,
           null,
           null,
           null,
           null,
           null,
           null,
           null,
           null,
           null,
           null,
           null,
           null,
           null,
           null,
           null,
           null,
           null,
           null,
           null,
           null,
           null,
           null,
           null,
           null,
           null,
           null,
           null,
           null,
           null,
           null,
           null,
           null,
           null,
           null,
           null,
           null,
           null,
           null,
           null,
           null,
           null,
           null,
           null,
           null,
           null,
           null,
           null,
           null,
           null,
           null,
           null,
           null,
           null,
           null,
           null,
           null,
           null,
           null,
           null,
           null,
           null,
           null,
           null,
           null,
           null,
           null,
           null,
           null
          ],
          [
           null,
           null,
           null,
           null,
           null,
           null,
           null,
           null,
           null,
           null,
           null,
           null,
           null,
           null,
           null,
           null,
           null,
           null,
           null,
           null,
           null,
           null,
           null,
           null,
           null,
           null,
           null,
           null,
           null,
           null,
           null,
           null,
           null,
           0.7191873589164786,
           null,
           null,
           null,
           null,
           null,
           null,
           null,
           null,
           null,
           null,
           null,
           null,
           null,
           null,
           null,
           0.7289677125966348,
           null,
           null,
           null,
           null,
           null,
           null,
           null,
           null,
           null,
           null,
           null,
           null,
           null,
           null,
           null,
           null,
           null,
           null,
           null,
           null,
           null,
           null,
           null,
           null,
           null,
           null,
           null,
           null,
           null,
           null,
           null,
           null,
           null,
           null,
           null,
           null,
           null,
           null,
           null,
           null,
           null,
           null,
           null,
           null,
           null,
           null,
           null,
           null,
           null,
           null,
           null,
           null,
           null,
           null,
           null,
           null,
           null,
           null,
           null,
           null,
           null,
           null,
           null,
           null,
           null,
           null,
           null,
           null,
           null,
           null,
           null,
           null,
           null,
           null,
           null,
           null,
           null,
           null,
           null,
           null,
           null,
           null,
           null,
           null,
           0.7229766431287343,
           null,
           null,
           null,
           null,
           null,
           null,
           null,
           null,
           null,
           null,
           null,
           null,
           null,
           null,
           null,
           null,
           null
          ],
          [
           null,
           null,
           null,
           null,
           0.39443834613977313,
           null,
           null,
           null,
           null,
           null,
           null,
           null,
           null,
           null,
           null,
           null,
           null,
           null,
           null,
           null,
           null,
           null,
           null,
           null,
           null,
           null,
           null,
           null,
           null,
           null,
           null,
           null,
           null,
           null,
           null,
           null,
           null,
           null,
           null,
           null,
           null,
           null,
           null,
           null,
           null,
           null,
           null,
           null,
           null,
           null,
           null,
           null,
           null,
           null,
           null,
           null,
           null,
           null,
           null,
           null,
           null,
           null,
           null,
           null,
           null,
           null,
           null,
           null,
           null,
           null,
           null,
           null,
           null,
           null,
           null,
           null,
           null,
           null,
           null,
           null,
           null,
           null,
           null,
           null,
           null,
           null,
           null,
           null,
           null,
           null,
           null,
           null,
           null,
           null,
           null,
           null,
           null,
           null,
           null,
           null,
           null,
           null,
           null,
           null,
           null,
           null,
           null,
           null,
           null,
           null,
           null,
           null,
           null,
           null,
           null,
           null,
           null,
           null,
           null,
           null,
           null,
           null,
           null,
           null,
           null,
           null,
           null,
           null,
           null,
           null,
           null,
           null,
           null,
           null,
           null,
           null,
           null,
           null,
           null,
           null,
           null,
           null,
           null,
           null,
           null,
           null,
           null,
           null,
           null,
           null,
           null,
           null
          ],
          [
           null,
           null,
           null,
           null,
           null,
           null,
           null,
           null,
           null,
           null,
           null,
           null,
           null,
           null,
           null,
           null,
           null,
           null,
           null,
           null,
           null,
           null,
           0.6873661670235546,
           null,
           null,
           null,
           null,
           null,
           null,
           null,
           null,
           null,
           null,
           null,
           null,
           null,
           null,
           null,
           null,
           0.7165717385408191,
           null,
           null,
           null,
           null,
           null,
           null,
           null,
           null,
           null,
           null,
           null,
           null,
           null,
           null,
           null,
           null,
           null,
           null,
           null,
           null,
           null,
           null,
           null,
           null,
           null,
           null,
           null,
           null,
           null,
           null,
           null,
           null,
           null,
           null,
           null,
           null,
           null,
           null,
           null,
           null,
           null,
           null,
           null,
           null,
           null,
           null,
           null,
           null,
           null,
           null,
           null,
           null,
           null,
           null,
           null,
           null,
           null,
           null,
           null,
           null,
           null,
           null,
           null,
           null,
           null,
           null,
           null,
           null,
           null,
           null,
           null,
           null,
           null,
           null,
           null,
           null,
           null,
           null,
           null,
           0.7347719202403715,
           null,
           null,
           null,
           null,
           null,
           null,
           null,
           null,
           null,
           null,
           null,
           null,
           null,
           null,
           null,
           null,
           null,
           null,
           null,
           null,
           null,
           null,
           null,
           null,
           null,
           null,
           null,
           null,
           null,
           null,
           null,
           null
          ],
          [
           null,
           null,
           null,
           null,
           null,
           0.5583697234352256,
           null,
           null,
           null,
           null,
           null,
           null,
           null,
           null,
           null,
           null,
           null,
           0.682258064516129,
           null,
           null,
           null,
           null,
           null,
           null,
           null,
           null,
           null,
           null,
           null,
           null,
           null,
           null,
           null,
           null,
           null,
           null,
           null,
           null,
           null,
           null,
           null,
           null,
           null,
           null,
           null,
           null,
           null,
           null,
           null,
           null,
           null,
           null,
           null,
           null,
           null,
           null,
           null,
           null,
           null,
           null,
           null,
           null,
           null,
           null,
           null,
           null,
           null,
           null,
           null,
           null,
           null,
           null,
           null,
           null,
           null,
           null,
           null,
           null,
           null,
           null,
           null,
           null,
           null,
           null,
           null,
           null,
           null,
           null,
           null,
           null,
           null,
           null,
           null,
           null,
           null,
           null,
           null,
           null,
           null,
           0.7369855546470427,
           null,
           null,
           null,
           null,
           null,
           null,
           null,
           null,
           null,
           null,
           null,
           null,
           null,
           null,
           null,
           null,
           null,
           null,
           null,
           null,
           null,
           null,
           null,
           null,
           null,
           null,
           null,
           null,
           null,
           null,
           null,
           null,
           null,
           null,
           null,
           null,
           null,
           null,
           null,
           null,
           null,
           null,
           null,
           null,
           null,
           null,
           null,
           null,
           null,
           null,
           null,
           null
          ],
          [
           null,
           null,
           null,
           null,
           null,
           null,
           null,
           null,
           null,
           null,
           null,
           null,
           null,
           null,
           null,
           null,
           0.68425346750068,
           null,
           null,
           null,
           null,
           null,
           null,
           null,
           null,
           null,
           null,
           null,
           null,
           null,
           null,
           0.716360646752535,
           null,
           null,
           null,
           null,
           null,
           null,
           null,
           null,
           null,
           null,
           null,
           null,
           null,
           null,
           null,
           null,
           null,
           null,
           null,
           null,
           null,
           0.7236126224156693,
           null,
           null,
           null,
           null,
           null,
           null,
           null,
           null,
           null,
           null,
           null,
           null,
           null,
           null,
           null,
           null,
           null,
           null,
           null,
           null,
           null,
           null,
           null,
           null,
           null,
           null,
           null,
           null,
           null,
           null,
           null,
           null,
           null,
           null,
           null,
           null,
           null,
           null,
           null,
           null,
           null,
           null,
           null,
           null,
           null,
           null,
           null,
           null,
           null,
           null,
           null,
           null,
           null,
           null,
           null,
           null,
           null,
           null,
           null,
           null,
           0.7375577916779984,
           null,
           null,
           null,
           null,
           null,
           null,
           null,
           null,
           null,
           null,
           null,
           null,
           null,
           null,
           null,
           null,
           null,
           null,
           null,
           null,
           null,
           null,
           null,
           null,
           null,
           null,
           null,
           null,
           null,
           null,
           null,
           null,
           null,
           null,
           null,
           null,
           null
          ],
          [
           null,
           null,
           null,
           0.5926336194959845,
           null,
           null,
           0.5926336194959845,
           null,
           null,
           null,
           null,
           0.6833333333333333,
           null,
           null,
           null,
           null,
           null,
           null,
           null,
           null,
           null,
           null,
           null,
           null,
           0.7141304347826087,
           null,
           null,
           null,
           null,
           null,
           null,
           null,
           null,
           null,
           null,
           null,
           null,
           null,
           null,
           null,
           null,
           null,
           null,
           null,
           null,
           null,
           null,
           null,
           null,
           null,
           null,
           null,
           null,
           null,
           null,
           null,
           null,
           null,
           null,
           null,
           null,
           null,
           null,
           null,
           null,
           null,
           null,
           null,
           null,
           null,
           null,
           null,
           null,
           null,
           null,
           null,
           null,
           null,
           null,
           null,
           null,
           null,
           null,
           null,
           null,
           0.7319195214790647,
           null,
           null,
           null,
           null,
           null,
           null,
           null,
           null,
           null,
           null,
           null,
           null,
           null,
           null,
           null,
           null,
           null,
           null,
           null,
           null,
           null,
           null,
           null,
           null,
           null,
           null,
           null,
           null,
           null,
           null,
           0.7381017133532771,
           null,
           null,
           null,
           null,
           null,
           null,
           null,
           null,
           null,
           null,
           null,
           null,
           null,
           null,
           null,
           null,
           null,
           null,
           null,
           0.7381017133532771,
           null,
           null,
           null,
           0.7381017133532771,
           null,
           null,
           null,
           null,
           null,
           null,
           null,
           null,
           null,
           null,
           null
          ],
          [
           null,
           null,
           null,
           null,
           null,
           null,
           null,
           null,
           null,
           null,
           null,
           null,
           null,
           0.6802433218725205,
           null,
           null,
           null,
           null,
           null,
           null,
           null,
           0.715503462972829,
           null,
           null,
           null,
           null,
           0.7145547484530536,
           null,
           0.7145547484530536,
           null,
           null,
           null,
           null,
           null,
           null,
           null,
           null,
           null,
           null,
           null,
           0.7296346414073072,
           null,
           null,
           null,
           null,
           null,
           null,
           null,
           null,
           null,
           null,
           null,
           null,
           null,
           null,
           null,
           null,
           0.7296346414073072,
           null,
           null,
           null,
           null,
           null,
           null,
           null,
           null,
           null,
           null,
           null,
           0.734982332155477,
           null,
           null,
           null,
           0.734982332155477,
           null,
           null,
           null,
           null,
           null,
           null,
           null,
           null,
           null,
           null,
           null,
           null,
           null,
           null,
           null,
           null,
           null,
           null,
           null,
           null,
           0.7419267299864315,
           null,
           null,
           null,
           null,
           null,
           null,
           null,
           null,
           null,
           null,
           null,
           null,
           null,
           0.7419267299864315,
           null,
           null,
           null,
           null,
           null,
           null,
           null,
           null,
           null,
           null,
           null,
           0.7419267299864315,
           null,
           null,
           null,
           null,
           null,
           null,
           null,
           null,
           null,
           null,
           null,
           null,
           0.7419267299864315,
           null,
           null,
           null,
           0.7419267299864315,
           null,
           null,
           null,
           null,
           0.7419267299864315,
           null,
           null,
           null,
           null,
           0.7419267299864315,
           null,
           null,
           null,
           null
          ],
          [
           null,
           null,
           null,
           null,
           null,
           null,
           null,
           null,
           null,
           null,
           null,
           null,
           null,
           null,
           null,
           null,
           null,
           null,
           null,
           null,
           null,
           null,
           null,
           0.7152282924254421,
           null,
           null,
           null,
           0.7193169690501601,
           null,
           null,
           null,
           null,
           0.7232334047109208,
           null,
           0.7238504974455499,
           null,
           null,
           0.7238504974455499,
           null,
           null,
           null,
           null,
           0.7399893219434063,
           0.7337627482555019,
           null,
           null,
           null,
           0.7337627482555019,
           null,
           null,
           0.7337627482555019,
           null,
           null,
           null,
           null,
           null,
           0.7337627482555019,
           null,
           null,
           null,
           null,
           null,
           null,
           null,
           null,
           null,
           null,
           null,
           null,
           null,
           null,
           null,
           null,
           null,
           null,
           null,
           null,
           null,
           null,
           null,
           null,
           null,
           null,
           null,
           null,
           null,
           null,
           null,
           null,
           null,
           null,
           null,
           null,
           null,
           null,
           null,
           null,
           null,
           0.7447268793942672,
           null,
           null,
           null,
           null,
           null,
           null,
           null,
           null,
           null,
           null,
           null,
           null,
           null,
           null,
           null,
           null,
           null,
           null,
           null,
           null,
           null,
           null,
           null,
           null,
           null,
           null,
           null,
           null,
           null,
           null,
           null,
           null,
           null,
           null,
           null,
           null,
           null,
           null,
           null,
           null,
           null,
           null,
           null,
           null,
           0.7447268793942672,
           null,
           null,
           null,
           null,
           null,
           null,
           null,
           null
          ],
          [
           null,
           null,
           null,
           null,
           null,
           null,
           null,
           0.5950226244343891,
           null,
           null,
           null,
           null,
           0.6958322547243075,
           null,
           null,
           null,
           null,
           null,
           null,
           0.7126865671641791,
           null,
           null,
           null,
           null,
           null,
           null,
           null,
           null,
           null,
           0.717292832400746,
           null,
           null,
           null,
           null,
           null,
           0.7254797441364605,
           0.723267060720043,
           null,
           null,
           null,
           null,
           null,
           null,
           null,
           null,
           0.7330462863293864,
           0.7330462863293864,
           null,
           null,
           null,
           null,
           null,
           null,
           null,
           0.7330462863293864,
           null,
           null,
           null,
           null,
           null,
           null,
           0.7411003236245954,
           null,
           null,
           0.7371273712737128,
           null,
           null,
           null,
           null,
           null,
           null,
           null,
           null,
           null,
           null,
           0.7371273712737128,
           null,
           null,
           0.7371273712737128,
           null,
           0.7371273712737128,
           null,
           0.7371273712737128,
           0.7371273712737128,
           0.7411003236245954,
           null,
           null,
           null,
           0.7371273712737128,
           null,
           null,
           null,
           null,
           null,
           null,
           null,
           null,
           null,
           null,
           null,
           null,
           null,
           null,
           0.7462767397779583,
           0.7462767397779583,
           null,
           null,
           null,
           null,
           null,
           null,
           null,
           0.7462767397779583,
           null,
           null,
           null,
           null,
           null,
           null,
           null,
           null,
           null,
           null,
           0.7462767397779583,
           null,
           null,
           null,
           null,
           0.7462767397779583,
           null,
           null,
           null,
           null,
           null,
           null,
           null,
           null,
           null,
           0.7462767397779583,
           0.7462767397779583,
           null,
           null,
           null,
           null,
           null,
           null,
           null,
           null,
           0.7462767397779583,
           null,
           null,
           null
          ],
          [
           null,
           0.6529535864978903,
           0.6529535864978903,
           null,
           null,
           null,
           null,
           null,
           0.6529535864978903,
           0.670906200317965,
           0.670906200317965,
           null,
           null,
           null,
           0.6705539358600583,
           0.684494867639114,
           null,
           null,
           0.6800966962127317,
           null,
           0.7094882729211087,
           null,
           null,
           null,
           null,
           0.7187583623227187,
           null,
           null,
           null,
           null,
           0.7224906065485776,
           null,
           null,
           null,
           null,
           null,
           null,
           null,
           0.7332613390928726,
           null,
           null,
           0.7386759581881533,
           null,
           null,
           0.7332613390928726,
           null,
           null,
           null,
           0.7386759581881533,
           null,
           null,
           0.7332613390928726,
           0.7332613390928726,
           null,
           null,
           0.7332613390928726,
           null,
           null,
           0.739636954754809,
           0.739636954754809,
           0.739636954754809,
           null,
           0.739636954754809,
           0.7405405405405405,
           null,
           0.739636954754809,
           0.739636954754809,
           0.739636954754809,
           0.739636954754809,
           null,
           0.739636954754809,
           0.739636954754809,
           0.739636954754809,
           null,
           0.739636954754809,
           null,
           0.739636954754809,
           0.739636954754809,
           null,
           0.739636954754809,
           null,
           0.7405405405405405,
           null,
           null,
           null,
           null,
           0.739636954754809,
           0.739636954754809,
           null,
           0.739636954754809,
           0.739636954754809,
           0.739636954754809,
           0.739636954754809,
           0.7493217580032555,
           null,
           0.7493217580032555,
           0.7493217580032555,
           0.7493217580032555,
           null,
           null,
           0.7493217580032555,
           0.7493217580032555,
           0.7493217580032555,
           null,
           null,
           0.7493217580032555,
           0.7478877078222949,
           0.7478877078222949,
           null,
           0.7493217580032555,
           0.7493217580032555,
           0.7478877078222949,
           null,
           0.7493217580032555,
           null,
           0.7493217580032555,
           null,
           0.7493217580032555,
           0.7478877078222949,
           null,
           null,
           0.7493217580032555,
           0.7478877078222949,
           null,
           0.7493217580032555,
           0.7493217580032555,
           0.7493217580032555,
           0.7493217580032555,
           null,
           0.7493217580032555,
           0.7493217580032555,
           0.7493217580032555,
           0.7493217580032555,
           null,
           null,
           0.7493217580032555,
           null,
           null,
           null,
           null,
           null,
           0.7493217580032555,
           null,
           null,
           0.7493217580032555,
           0.7493217580032555,
           0.7493217580032555,
           null,
           null,
           0.7493217580032555,
           0.7493217580032555,
           null
          ],
          [
           null,
           null,
           null,
           null,
           null,
           null,
           null,
           null,
           null,
           null,
           null,
           null,
           null,
           null,
           null,
           null,
           null,
           null,
           null,
           null,
           null,
           null,
           null,
           null,
           null,
           null,
           null,
           null,
           null,
           null,
           null,
           null,
           null,
           null,
           null,
           null,
           null,
           null,
           null,
           null,
           null,
           null,
           null,
           null,
           null,
           null,
           null,
           null,
           null,
           null,
           null,
           null,
           null,
           null,
           null,
           null,
           null,
           null,
           null,
           null,
           null,
           null,
           null,
           null,
           null,
           null,
           null,
           null,
           null,
           null,
           null,
           null,
           null,
           null,
           null,
           null,
           null,
           null,
           null,
           null,
           null,
           null,
           null,
           null,
           null,
           null,
           null,
           null,
           null,
           null,
           null,
           null,
           null,
           null,
           null,
           null,
           null,
           null,
           null,
           null,
           null,
           null,
           null,
           null,
           null,
           null,
           null,
           null,
           null,
           null,
           null,
           null,
           null,
           null,
           null,
           null,
           null,
           null,
           null,
           null,
           null,
           null,
           null,
           null,
           null,
           null,
           null,
           null,
           null,
           null,
           null,
           null,
           null,
           null,
           null,
           null,
           null,
           null,
           null,
           null,
           null,
           null,
           null,
           null,
           null,
           null,
           null,
           null,
           null,
           null,
           null,
           null
          ]
         ]
        },
        {
         "marker": {
          "color": "black",
          "line": {
           "color": "Gray",
           "width": 2
          }
         },
         "mode": "markers",
         "name": "Feasible Trial",
         "showlegend": false,
         "type": "scatter",
         "x": [
          1.8221359485122133,
          6.393222686007981,
          4.116154828547751,
          4.60651098533985,
          9.359036180869984,
          2.4408733670429577,
          8.094898810413106,
          1.3566948274837842,
          2.98370713305942,
          7.014161431317843,
          9.434709328011106,
          9.973650173021683,
          5.73642518969593,
          9.684407547951158,
          4.566687000548157,
          1.1162386857163789,
          5.622491098632314,
          3.415917772002309,
          7.70399011385734,
          2.1173327804801043,
          9.695355098712923,
          8.469950329198493,
          6.939746891244478,
          9.92150369445329,
          5.5910937833852605,
          7.849929734212234,
          9.967151168452023,
          6.614767476062923,
          8.20194356424774,
          4.942902830811729,
          1.6837434456264087,
          9.87899506542638,
          8.722076588113321,
          7.122859711876427,
          5.9905264807370475,
          8.814650571491029,
          3.5627852958545754,
          7.208059189583797,
          9.963517806777995,
          6.31999891509439,
          8.738889633944437,
          9.011865375231224,
          9.878239166918574,
          7.5741306452634065,
          2.7357548613222273,
          5.066222739169482,
          7.99758278991628,
          9.083047526805403,
          4.292703980419275,
          8.92456857978108,
          6.350751784461123,
          9.246749378327552,
          7.988785078032716,
          9.41677053676098,
          7.403572819826803,
          8.398672943944666,
          9.88594437597396,
          6.760270194969828,
          1.1030384816956402,
          7.701561779762013,
          9.195981577639667,
          8.523176359326012,
          9.129497830194042,
          9.265898624647798,
          8.290416079038213,
          9.006956042064594,
          9.104299280895411,
          7.424853276578276,
          1.8865224378654812,
          9.279456180876814,
          6.022577967577392,
          9.258761490765616,
          9.233520476747296,
          8.03425765051326,
          7.004205331628374,
          8.3883314985062,
          9.266277491306141,
          9.240818567475124,
          7.63511170627903,
          1.2806436034158741,
          8.709815594061629,
          9.234477764989297,
          9.42620264415933,
          8.190393414580642,
          6.656627854393192,
          9.489747621204538,
          8.773848136113129,
          3.781076743531643,
          7.16160812246446,
          7.893390790014391,
          9.033035352763306,
          8.982228990059813,
          9.399966024737825,
          8.440716971463758,
          9.490786982256003,
          8.704966006572718,
          9.849015390485162,
          9.883162598404576,
          3.107779242406749,
          9.990090522044166,
          2.5223476074637827,
          9.61628101845145,
          8.087434191976243,
          8.84771307205457,
          9.969382715563565,
          7.434194359843939,
          7.7850566343114895,
          8.406042530411158,
          9.09569932006758,
          9.536581203151494,
          1.0006446559221847,
          9.642353723396534,
          8.638599281632533,
          9.049299215485087,
          9.641976942788265,
          9.975257807356819,
          8.158908920203539,
          8.659199983993144,
          7.7348308500293825,
          9.269370310696214,
          8.234469500470151,
          9.56114679724208,
          9.977533126134183,
          8.913110603873147,
          9.195895503327337,
          9.973199310399151,
          8.50886495150202,
          9.426392871431974,
          8.92745762691989,
          8.066282409764138,
          9.578959671959321,
          9.419952015371898,
          8.694216400421128,
          9.928734780837583,
          9.065488906976082,
          8.46421412810297,
          9.465845900013013,
          5.341263231295236,
          7.552657982069055,
          9.969350988952625,
          8.98016534260379,
          9.529988861521447,
          9.511516423822147,
          8.350966389516179,
          8.982306858251762,
          9.589633310057902,
          8.688250637175067,
          9.141846007078161,
          2.1510906210877625,
          7.8976317237692495
         ],
         "y": [
          9,
          1,
          9,
          3,
          5,
          6,
          9,
          4,
          10,
          3,
          7,
          7,
          7,
          7,
          7,
          6,
          8,
          5,
          8,
          10,
          1,
          7,
          8,
          6,
          7,
          5,
          8,
          8,
          9,
          8,
          6,
          7,
          9,
          7,
          9,
          6,
          4,
          8,
          7,
          5,
          9,
          7,
          6,
          8,
          7,
          6,
          7,
          8,
          10,
          9,
          8,
          7,
          8,
          6,
          8,
          7,
          9,
          9,
          10,
          1,
          9,
          9,
          10,
          10,
          10,
          10,
          10,
          10,
          10,
          10,
          10,
          10,
          10,
          10,
          10,
          10,
          10,
          10,
          10,
          2,
          10,
          10,
          10,
          10,
          9,
          10,
          9,
          10,
          10,
          9,
          10,
          10,
          10,
          10,
          9,
          9,
          10,
          9,
          10,
          10,
          9,
          10,
          10,
          10,
          10,
          9,
          10,
          10,
          4,
          10,
          10,
          10,
          10,
          10,
          10,
          9,
          10,
          10,
          10,
          9,
          10,
          10,
          10,
          10,
          9,
          10,
          10,
          3,
          10,
          10,
          9,
          10,
          10,
          10,
          10,
          10,
          10,
          10,
          9,
          10,
          10,
          10,
          10,
          10,
          10,
          10,
          9,
          10,
          10,
          10
         ]
        },
        {
         "marker": {
          "color": "#cccccc",
          "line": {
           "color": "Gray",
           "width": 2
          }
         },
         "mode": "markers",
         "name": "Infeasible Trial",
         "showlegend": false,
         "type": "scatter",
         "x": [],
         "y": []
        }
       ],
       "layout": {
        "template": {
         "data": {
          "bar": [
           {
            "error_x": {
             "color": "#2a3f5f"
            },
            "error_y": {
             "color": "#2a3f5f"
            },
            "marker": {
             "line": {
              "color": "#E5ECF6",
              "width": 0.5
             },
             "pattern": {
              "fillmode": "overlay",
              "size": 10,
              "solidity": 0.2
             }
            },
            "type": "bar"
           }
          ],
          "barpolar": [
           {
            "marker": {
             "line": {
              "color": "#E5ECF6",
              "width": 0.5
             },
             "pattern": {
              "fillmode": "overlay",
              "size": 10,
              "solidity": 0.2
             }
            },
            "type": "barpolar"
           }
          ],
          "carpet": [
           {
            "aaxis": {
             "endlinecolor": "#2a3f5f",
             "gridcolor": "white",
             "linecolor": "white",
             "minorgridcolor": "white",
             "startlinecolor": "#2a3f5f"
            },
            "baxis": {
             "endlinecolor": "#2a3f5f",
             "gridcolor": "white",
             "linecolor": "white",
             "minorgridcolor": "white",
             "startlinecolor": "#2a3f5f"
            },
            "type": "carpet"
           }
          ],
          "choropleth": [
           {
            "colorbar": {
             "outlinewidth": 0,
             "ticks": ""
            },
            "type": "choropleth"
           }
          ],
          "contour": [
           {
            "colorbar": {
             "outlinewidth": 0,
             "ticks": ""
            },
            "colorscale": [
             [
              0,
              "#0d0887"
             ],
             [
              0.1111111111111111,
              "#46039f"
             ],
             [
              0.2222222222222222,
              "#7201a8"
             ],
             [
              0.3333333333333333,
              "#9c179e"
             ],
             [
              0.4444444444444444,
              "#bd3786"
             ],
             [
              0.5555555555555556,
              "#d8576b"
             ],
             [
              0.6666666666666666,
              "#ed7953"
             ],
             [
              0.7777777777777778,
              "#fb9f3a"
             ],
             [
              0.8888888888888888,
              "#fdca26"
             ],
             [
              1,
              "#f0f921"
             ]
            ],
            "type": "contour"
           }
          ],
          "contourcarpet": [
           {
            "colorbar": {
             "outlinewidth": 0,
             "ticks": ""
            },
            "type": "contourcarpet"
           }
          ],
          "heatmap": [
           {
            "colorbar": {
             "outlinewidth": 0,
             "ticks": ""
            },
            "colorscale": [
             [
              0,
              "#0d0887"
             ],
             [
              0.1111111111111111,
              "#46039f"
             ],
             [
              0.2222222222222222,
              "#7201a8"
             ],
             [
              0.3333333333333333,
              "#9c179e"
             ],
             [
              0.4444444444444444,
              "#bd3786"
             ],
             [
              0.5555555555555556,
              "#d8576b"
             ],
             [
              0.6666666666666666,
              "#ed7953"
             ],
             [
              0.7777777777777778,
              "#fb9f3a"
             ],
             [
              0.8888888888888888,
              "#fdca26"
             ],
             [
              1,
              "#f0f921"
             ]
            ],
            "type": "heatmap"
           }
          ],
          "heatmapgl": [
           {
            "colorbar": {
             "outlinewidth": 0,
             "ticks": ""
            },
            "colorscale": [
             [
              0,
              "#0d0887"
             ],
             [
              0.1111111111111111,
              "#46039f"
             ],
             [
              0.2222222222222222,
              "#7201a8"
             ],
             [
              0.3333333333333333,
              "#9c179e"
             ],
             [
              0.4444444444444444,
              "#bd3786"
             ],
             [
              0.5555555555555556,
              "#d8576b"
             ],
             [
              0.6666666666666666,
              "#ed7953"
             ],
             [
              0.7777777777777778,
              "#fb9f3a"
             ],
             [
              0.8888888888888888,
              "#fdca26"
             ],
             [
              1,
              "#f0f921"
             ]
            ],
            "type": "heatmapgl"
           }
          ],
          "histogram": [
           {
            "marker": {
             "pattern": {
              "fillmode": "overlay",
              "size": 10,
              "solidity": 0.2
             }
            },
            "type": "histogram"
           }
          ],
          "histogram2d": [
           {
            "colorbar": {
             "outlinewidth": 0,
             "ticks": ""
            },
            "colorscale": [
             [
              0,
              "#0d0887"
             ],
             [
              0.1111111111111111,
              "#46039f"
             ],
             [
              0.2222222222222222,
              "#7201a8"
             ],
             [
              0.3333333333333333,
              "#9c179e"
             ],
             [
              0.4444444444444444,
              "#bd3786"
             ],
             [
              0.5555555555555556,
              "#d8576b"
             ],
             [
              0.6666666666666666,
              "#ed7953"
             ],
             [
              0.7777777777777778,
              "#fb9f3a"
             ],
             [
              0.8888888888888888,
              "#fdca26"
             ],
             [
              1,
              "#f0f921"
             ]
            ],
            "type": "histogram2d"
           }
          ],
          "histogram2dcontour": [
           {
            "colorbar": {
             "outlinewidth": 0,
             "ticks": ""
            },
            "colorscale": [
             [
              0,
              "#0d0887"
             ],
             [
              0.1111111111111111,
              "#46039f"
             ],
             [
              0.2222222222222222,
              "#7201a8"
             ],
             [
              0.3333333333333333,
              "#9c179e"
             ],
             [
              0.4444444444444444,
              "#bd3786"
             ],
             [
              0.5555555555555556,
              "#d8576b"
             ],
             [
              0.6666666666666666,
              "#ed7953"
             ],
             [
              0.7777777777777778,
              "#fb9f3a"
             ],
             [
              0.8888888888888888,
              "#fdca26"
             ],
             [
              1,
              "#f0f921"
             ]
            ],
            "type": "histogram2dcontour"
           }
          ],
          "mesh3d": [
           {
            "colorbar": {
             "outlinewidth": 0,
             "ticks": ""
            },
            "type": "mesh3d"
           }
          ],
          "parcoords": [
           {
            "line": {
             "colorbar": {
              "outlinewidth": 0,
              "ticks": ""
             }
            },
            "type": "parcoords"
           }
          ],
          "pie": [
           {
            "automargin": true,
            "type": "pie"
           }
          ],
          "scatter": [
           {
            "fillpattern": {
             "fillmode": "overlay",
             "size": 10,
             "solidity": 0.2
            },
            "type": "scatter"
           }
          ],
          "scatter3d": [
           {
            "line": {
             "colorbar": {
              "outlinewidth": 0,
              "ticks": ""
             }
            },
            "marker": {
             "colorbar": {
              "outlinewidth": 0,
              "ticks": ""
             }
            },
            "type": "scatter3d"
           }
          ],
          "scattercarpet": [
           {
            "marker": {
             "colorbar": {
              "outlinewidth": 0,
              "ticks": ""
             }
            },
            "type": "scattercarpet"
           }
          ],
          "scattergeo": [
           {
            "marker": {
             "colorbar": {
              "outlinewidth": 0,
              "ticks": ""
             }
            },
            "type": "scattergeo"
           }
          ],
          "scattergl": [
           {
            "marker": {
             "colorbar": {
              "outlinewidth": 0,
              "ticks": ""
             }
            },
            "type": "scattergl"
           }
          ],
          "scattermapbox": [
           {
            "marker": {
             "colorbar": {
              "outlinewidth": 0,
              "ticks": ""
             }
            },
            "type": "scattermapbox"
           }
          ],
          "scatterpolar": [
           {
            "marker": {
             "colorbar": {
              "outlinewidth": 0,
              "ticks": ""
             }
            },
            "type": "scatterpolar"
           }
          ],
          "scatterpolargl": [
           {
            "marker": {
             "colorbar": {
              "outlinewidth": 0,
              "ticks": ""
             }
            },
            "type": "scatterpolargl"
           }
          ],
          "scatterternary": [
           {
            "marker": {
             "colorbar": {
              "outlinewidth": 0,
              "ticks": ""
             }
            },
            "type": "scatterternary"
           }
          ],
          "surface": [
           {
            "colorbar": {
             "outlinewidth": 0,
             "ticks": ""
            },
            "colorscale": [
             [
              0,
              "#0d0887"
             ],
             [
              0.1111111111111111,
              "#46039f"
             ],
             [
              0.2222222222222222,
              "#7201a8"
             ],
             [
              0.3333333333333333,
              "#9c179e"
             ],
             [
              0.4444444444444444,
              "#bd3786"
             ],
             [
              0.5555555555555556,
              "#d8576b"
             ],
             [
              0.6666666666666666,
              "#ed7953"
             ],
             [
              0.7777777777777778,
              "#fb9f3a"
             ],
             [
              0.8888888888888888,
              "#fdca26"
             ],
             [
              1,
              "#f0f921"
             ]
            ],
            "type": "surface"
           }
          ],
          "table": [
           {
            "cells": {
             "fill": {
              "color": "#EBF0F8"
             },
             "line": {
              "color": "white"
             }
            },
            "header": {
             "fill": {
              "color": "#C8D4E3"
             },
             "line": {
              "color": "white"
             }
            },
            "type": "table"
           }
          ]
         },
         "layout": {
          "annotationdefaults": {
           "arrowcolor": "#2a3f5f",
           "arrowhead": 0,
           "arrowwidth": 1
          },
          "autotypenumbers": "strict",
          "coloraxis": {
           "colorbar": {
            "outlinewidth": 0,
            "ticks": ""
           }
          },
          "colorscale": {
           "diverging": [
            [
             0,
             "#8e0152"
            ],
            [
             0.1,
             "#c51b7d"
            ],
            [
             0.2,
             "#de77ae"
            ],
            [
             0.3,
             "#f1b6da"
            ],
            [
             0.4,
             "#fde0ef"
            ],
            [
             0.5,
             "#f7f7f7"
            ],
            [
             0.6,
             "#e6f5d0"
            ],
            [
             0.7,
             "#b8e186"
            ],
            [
             0.8,
             "#7fbc41"
            ],
            [
             0.9,
             "#4d9221"
            ],
            [
             1,
             "#276419"
            ]
           ],
           "sequential": [
            [
             0,
             "#0d0887"
            ],
            [
             0.1111111111111111,
             "#46039f"
            ],
            [
             0.2222222222222222,
             "#7201a8"
            ],
            [
             0.3333333333333333,
             "#9c179e"
            ],
            [
             0.4444444444444444,
             "#bd3786"
            ],
            [
             0.5555555555555556,
             "#d8576b"
            ],
            [
             0.6666666666666666,
             "#ed7953"
            ],
            [
             0.7777777777777778,
             "#fb9f3a"
            ],
            [
             0.8888888888888888,
             "#fdca26"
            ],
            [
             1,
             "#f0f921"
            ]
           ],
           "sequentialminus": [
            [
             0,
             "#0d0887"
            ],
            [
             0.1111111111111111,
             "#46039f"
            ],
            [
             0.2222222222222222,
             "#7201a8"
            ],
            [
             0.3333333333333333,
             "#9c179e"
            ],
            [
             0.4444444444444444,
             "#bd3786"
            ],
            [
             0.5555555555555556,
             "#d8576b"
            ],
            [
             0.6666666666666666,
             "#ed7953"
            ],
            [
             0.7777777777777778,
             "#fb9f3a"
            ],
            [
             0.8888888888888888,
             "#fdca26"
            ],
            [
             1,
             "#f0f921"
            ]
           ]
          },
          "colorway": [
           "#636efa",
           "#EF553B",
           "#00cc96",
           "#ab63fa",
           "#FFA15A",
           "#19d3f3",
           "#FF6692",
           "#B6E880",
           "#FF97FF",
           "#FECB52"
          ],
          "font": {
           "color": "#2a3f5f"
          },
          "geo": {
           "bgcolor": "white",
           "lakecolor": "white",
           "landcolor": "#E5ECF6",
           "showlakes": true,
           "showland": true,
           "subunitcolor": "white"
          },
          "hoverlabel": {
           "align": "left"
          },
          "hovermode": "closest",
          "mapbox": {
           "style": "light"
          },
          "paper_bgcolor": "white",
          "plot_bgcolor": "#E5ECF6",
          "polar": {
           "angularaxis": {
            "gridcolor": "white",
            "linecolor": "white",
            "ticks": ""
           },
           "bgcolor": "#E5ECF6",
           "radialaxis": {
            "gridcolor": "white",
            "linecolor": "white",
            "ticks": ""
           }
          },
          "scene": {
           "xaxis": {
            "backgroundcolor": "#E5ECF6",
            "gridcolor": "white",
            "gridwidth": 2,
            "linecolor": "white",
            "showbackground": true,
            "ticks": "",
            "zerolinecolor": "white"
           },
           "yaxis": {
            "backgroundcolor": "#E5ECF6",
            "gridcolor": "white",
            "gridwidth": 2,
            "linecolor": "white",
            "showbackground": true,
            "ticks": "",
            "zerolinecolor": "white"
           },
           "zaxis": {
            "backgroundcolor": "#E5ECF6",
            "gridcolor": "white",
            "gridwidth": 2,
            "linecolor": "white",
            "showbackground": true,
            "ticks": "",
            "zerolinecolor": "white"
           }
          },
          "shapedefaults": {
           "line": {
            "color": "#2a3f5f"
           }
          },
          "ternary": {
           "aaxis": {
            "gridcolor": "white",
            "linecolor": "white",
            "ticks": ""
           },
           "baxis": {
            "gridcolor": "white",
            "linecolor": "white",
            "ticks": ""
           },
           "bgcolor": "#E5ECF6",
           "caxis": {
            "gridcolor": "white",
            "linecolor": "white",
            "ticks": ""
           }
          },
          "title": {
           "x": 0.05
          },
          "xaxis": {
           "automargin": true,
           "gridcolor": "white",
           "linecolor": "white",
           "ticks": "",
           "title": {
            "standoff": 15
           },
           "zerolinecolor": "white",
           "zerolinewidth": 2
          },
          "yaxis": {
           "automargin": true,
           "gridcolor": "white",
           "linecolor": "white",
           "ticks": "",
           "title": {
            "standoff": 15
           },
           "zerolinecolor": "white",
           "zerolinewidth": 2
          }
         }
        },
        "title": {
         "text": "Contour Plot"
        },
        "xaxis": {
         "range": [
          -0.049684596851811084,
          1.0495339006238213
         ],
         "title": {
          "text": "max_depth"
         },
         "type": "log"
        },
        "yaxis": {
         "range": [
          0.55,
          10.45
         ],
         "title": {
          "text": "n_estimators"
         }
        }
       }
      }
     },
     "metadata": {},
     "output_type": "display_data"
    }
   ],
   "source": [
    "plot_contour(study, params=['n_estimators', 'max_depth'])"
   ]
  },
  {
   "cell_type": "code",
   "execution_count": null,
   "metadata": {},
   "outputs": [],
   "source": []
  }
 ],
 "metadata": {
  "kernelspec": {
   "display_name": "myenv",
   "language": "python",
   "name": "python3"
  },
  "language_info": {
   "codemirror_mode": {
    "name": "ipython",
    "version": 3
   },
   "file_extension": ".py",
   "mimetype": "text/x-python",
   "name": "python",
   "nbconvert_exporter": "python",
   "pygments_lexer": "ipython3",
   "version": "3.9.19"
  }
 },
 "nbformat": 4,
 "nbformat_minor": 2
}
